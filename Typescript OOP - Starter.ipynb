{
 "cells": [
  {
   "cell_type": "markdown",
   "id": "1644759d",
   "metadata": {},
   "source": [
    "[Object Oriented Programming](#oop)<br>\n",
    "&emsp;[Classes](#classes)<br>\n",
    "&emsp;&emsp;[Read Only Properties](#rop)<br>\n",
    "&emsp;&emsp;[Optional Properties](#op)<br>\n",
    "&emsp;&emsp;[Access Modifiers](#access)<br>\n",
    "&emsp;&emsp;[Declaring Properties in Constructor](#conprop)<br>\n",
    "&emsp;&emsp;[Getters](#getter)<br>\n",
    "&emsp;&emsp;[Setters](#setter)<br>\n",
    "&emsp;&emsp;[Index Signatures](#idxsign)<br>\n",
    "&emsp;&emsp;[Static](#static)<br>\n",
    "&emsp;[Inheritance](#inherit)<br>\n",
    "&emsp;&emsp;[Method Overrides](#methover)<br>\n",
    "&emsp;&emsp;[Override Keyword](#overrride)<br>\n",
    "&emsp;&emsp;[Polymorphism](#polym)<br>\n",
    "&emsp;[Design Patterns](#dp)<br>\n",
    "&emsp;[Abstract Classes](#abs)<br>\n",
    "&emsp;&emsp;[Flying Ducks](#fly)<br>\n",
    "&emsp;&emsp;[Decoy Ducks](#decoy)<br>\n",
    "&emsp;&emsp;[Exercise #1](#ice1)<br>\n",
    "&emsp;[Interfaces](#interfaces)<br>\n",
    "&emsp;&emsp;[Exercise #2](#ice2)<br>\n",
    "&emsp;&emsp;[Rubber Duck / Final Pattern](#rubber)<br>\n",
    "&emsp;&emsp;[More On Polymorphism](#mpoly)<br>\n",
    "&emsp;&emsp;[Programming to Interface](#ptoi)<br>\n",
    "&emsp;&emsp;[Extending Interfaces](#xi)<br>\n",
    "[Generics](#gen)<br>\n",
    "&emsp;[Generic Functions](#gf)<br>\n",
    "&emsp;[Generic Classes](#gc)<br>\n",
    "&emsp;[Multiple Generics](#mg)<br>\n",
    "&emsp;[Generic Interfaces](#gi)<br>\n",
    "&emsp;[Generic Constraints](#gcon)<br>\n",
    "&emsp;[keyof](#keyof)<br>\n",
    "&emsp;[Type Mapping](#typemap)<br>\n",
    "&emsp;[Optional&lt;T&gt;](#optgen)<br>\n",
    "&emsp;[Read Only&lt;T&gt;](#rogen)<br>\n",
    "&emsp;[Built In Utility Classes](#util)<br>\n",
    "[Homework](#hw)<br>\n",
    "\n",
    "\n",
    "\n",
    "\n",
    "\n",
    "\n",
    "\n",
    "\n",
    "\n",
    "\n",
    "\n",
    "\n"
   ]
  },
  {
   "cell_type": "markdown",
   "id": "910c27b6",
   "metadata": {},
   "source": [
    "<a id=\"oop\"></a>\n",
    "# Object Oriented Programming"
   ]
  },
  {
   "cell_type": "markdown",
   "id": "fa6b48ea",
   "metadata": {},
   "source": [
    "Object-oriented programming (OOP) is a programming paradigm that focuses on the organization and manipulation of data as objects, rather than simply processing logic or functions. Good OOP practices involve designing reusable and extensible code by creating classes, interfaces, and abstract classes.\n",
    "\n",
    "While some programming languages like Java are purely OOP, others like Typescript combine OOP principles with scripting capabilities. In OOP, a model is designed to represent a real-life entity, and then that model is used to create different but similar objects. For example, a Car can be considered a model that defines the properties and behaviors of a generic car, and a specific car like a Ford Ranger can be an instance of that model that behaves like all other cars but may have its own unique characteristics."
   ]
  },
  {
   "cell_type": "markdown",
   "id": "becd1b0e",
   "metadata": {},
   "source": [
    "<a id=\"classes\"></a>\n",
    "\n",
    "## Classes"
   ]
  },
  {
   "cell_type": "markdown",
   "id": "1d92e4d7",
   "metadata": {},
   "source": [
    "To define the types of your properties, you write them at the top of the class and then using the `this` keyword you can assign them in the constructor"
   ]
  },
  {
   "cell_type": "code",
   "execution_count": 1,
   "id": "f5ee7e3a",
   "metadata": {},
   "outputs": [],
   "source": [
    "class Car {\n",
    "    make: string;\n",
    "    model: string;\n",
    "    year: number;\n",
    "    \n",
    "    constructor(make: string, model: string, year: number){\n",
    "        this.make = make\n",
    "        this.model = model\n",
    "        this.year = year\n",
    "        \n",
    "    }\n",
    "    drive(miles: number):void{\n",
    "        console.log(`You drove ${miles} miles.`)\n",
    "    }\n",
    "}\n"
   ]
  },
  {
   "cell_type": "code",
   "execution_count": 2,
   "id": "c21d23f4",
   "metadata": {},
   "outputs": [
    {
     "name": "stdout",
     "output_type": "stream",
     "text": [
      "Car { make: 'DeLorean', model: 'DMC-12', year: 1981 }\n"
     ]
    }
   ],
   "source": [
    "let delorean1 = new Car('DeLorean', 'DMC-12', 1981)\n",
    "console.log(delorean1)"
   ]
  },
  {
   "cell_type": "markdown",
   "id": "98568e5d",
   "metadata": {},
   "source": [
    "<a id=\"rop\"></a>\n",
    "\n",
    "### Read Only Properties"
   ]
  },
  {
   "cell_type": "markdown",
   "id": "7759c095",
   "metadata": {},
   "source": [
    "Since IDs should never change lets make a readonly ID on our Car Class"
   ]
  },
  {
   "cell_type": "code",
   "execution_count": 3,
   "id": "d39d6a03",
   "metadata": {},
   "outputs": [],
   "source": [
    "class Car {\n",
    "    readonly make: string;\n",
    "    model: string;\n",
    "    year: number;\n",
    "    \n",
    "    constructor(make: string, model: string, year: number){\n",
    "        this.make = make\n",
    "        this.model = model\n",
    "        this.year = year\n",
    "        \n",
    "    }\n",
    "    drive(miles: number | string):void{\n",
    "        console.log(`You drove ${miles} miles. Congratz!`)\n",
    "    }\n",
    "}\n",
    "\n",
    "\n"
   ]
  },
  {
   "cell_type": "code",
   "execution_count": 8,
   "id": "c8ad3704",
   "metadata": {},
   "outputs": [
    {
     "name": "stdout",
     "output_type": "stream",
     "text": [
      "Car { make: 'DeLorean', model: 'DMC-12', year: 1982 }\n"
     ]
    }
   ],
   "source": [
    "let delorean2 = new Car('DeLorean', 'DMC-12', 1982)\n",
    "console.log(delorean2)"
   ]
  },
  {
   "cell_type": "markdown",
   "id": "bf661f70",
   "metadata": {},
   "source": [
    "<a id=\"op\"></a>\n",
    "\n",
    "### Optional Properties"
   ]
  },
  {
   "cell_type": "markdown",
   "id": "e22c270c",
   "metadata": {},
   "source": [
    "Lets give the car have an optional nickname like Kitt, or Herbie.  Not every car will have such a cool nickname"
   ]
  },
  {
   "cell_type": "code",
   "execution_count": 9,
   "id": "dc729b95",
   "metadata": {},
   "outputs": [],
   "source": [
    "class Car {\n",
    "    readonly id: number = 1;\n",
    "    make: string;\n",
    "    model: string;\n",
    "    year: number;\n",
    "    nickname?: string\n",
    "    \n",
    "    constructor(make: string, model: string, year: number, nickname: string){\n",
    "        this.make = make\n",
    "        this.model = model\n",
    "        this.year = year\n",
    "        this.nickname = nickname\n",
    "        \n",
    "    }\n",
    "    drive(miles: number):void{\n",
    "        console.log(`You drove ${miles} miles.`)\n",
    "    }\n",
    "}\n",
    "\n",
    "\n"
   ]
  },
  {
   "cell_type": "code",
   "execution_count": 10,
   "id": "eddfdaa8",
   "metadata": {},
   "outputs": [
    {
     "name": "stdout",
     "output_type": "stream",
     "text": [
      "Anna\n"
     ]
    }
   ],
   "source": [
    "let delorean2 = new Car('DeLorean', 'DMC', 1990, 'Anna')\n",
    "console.log(delorean2.nickname)"
   ]
  },
  {
   "cell_type": "markdown",
   "id": "ec97d010",
   "metadata": {},
   "source": [
    "<a id=\"access\"></a>\n",
    "\n",
    "### Access Control keywords"
   ]
  },
  {
   "cell_type": "markdown",
   "id": "17233b3a",
   "metadata": {},
   "source": [
    "Access Control keywords are used in many languages, and TypeScript uses the most common three `public`, `protected`, `private`.  These access modifiers tell the computer what can access and modify the property/method.\n",
    "\n",
    "`public` -- this property is available  anywhere.  If no access modifier is used, the property defaults to public\n",
    "\n",
    "`protected` -- this property can be used within the class and within the derived classes, but not from outside the class\n",
    "\n",
    "`private`  -- this property can only be used from within the class that declared it.\n",
    "\n",
    "These access modifiers are the key to a concept known and <b>encapsulation</b>. This is basically the idea of data hiding to prevent properties from being modified or used by people/programs that it shouldn't be used by, or to control the modifications of these properties."
   ]
  },
  {
   "cell_type": "markdown",
   "id": "45a2174f",
   "metadata": {},
   "source": [
    "<b>Now</b> Lets assign some private and public access modifiers"
   ]
  },
  {
   "cell_type": "code",
   "execution_count": 12,
   "id": "52683d48",
   "metadata": {},
   "outputs": [],
   "source": [
    "class Car{\n",
    "    private readonly id: number\n",
    "    public make: string\n",
    "    public model: string\n",
    "    public year: number\n",
    "    public nickname?: string\n",
    "    \n",
    "    constructor(id: number, make: string, model: string, year: number, nickname?: string){\n",
    "        this.id = id\n",
    "        this.make = make\n",
    "        this.model = model\n",
    "        this.year = year\n",
    "        this.nickname = nickname\n",
    "    }\n",
    "    drive(miles: number): void{\n",
    "        console.log(`You drove ${miles}. Great!`)\n",
    "    }\n",
    "    printInfo():void{\n",
    "        console.log(`This Car has id: ${this.id} and is a\n",
    "        ${this.make}\n",
    "        ${this.model}\n",
    "        ${this.year}`,\n",
    "        this.nickname? 'that is called' + this.nickname: \"This car doesnt have a nick name\")\n",
    "    }\n",
    "}\n",
    "\n",
    "\n",
    "\n",
    "\n",
    "\n",
    "\n"
   ]
  },
  {
   "cell_type": "markdown",
   "id": "2af88485",
   "metadata": {},
   "source": [
    "Private variables cannot be access outside of the class"
   ]
  },
  {
   "cell_type": "code",
   "execution_count": 18,
   "id": "e35ddf06",
   "metadata": {
    "scrolled": false
   },
   "outputs": [
    {
     "name": "stdout",
     "output_type": "stream",
     "text": [
      "This Car has id: 1 and is a\n",
      "        Subaru\n",
      "        Outback\n",
      "        2023 This car doesnt have a nick name\n",
      "[Function: drive]\n"
     ]
    }
   ],
   "source": [
    "let subaru = new Car(1, 'Subaru', 'Outback', 2023)\n",
    "subaru.printInfo()\n",
    "console.log(subaru.drive)"
   ]
  },
  {
   "cell_type": "code",
   "execution_count": 15,
   "id": "62b278c3",
   "metadata": {},
   "outputs": [
    {
     "name": "stderr",
     "output_type": "stream",
     "text": [
      "1:20 - Property 'id' is private and only accessible within class 'Car'.\n"
     ]
    }
   ],
   "source": [
    "console.log(subaru.id)"
   ]
  },
  {
   "cell_type": "markdown",
   "id": "67b02032",
   "metadata": {},
   "source": [
    "<a id=\"conprop\"></a>\n",
    "\n",
    "### Declaring Properties in the Constructor"
   ]
  },
  {
   "cell_type": "markdown",
   "id": "4d8eb6d8",
   "metadata": {},
   "source": [
    "When passing values to our constructor we can give the parameters an access modifier and no longer declare them at the top of the document.  Optional properties will still need to be declared at the top.\n",
    "\n",
    "<b>Note: </b> Like in Python we will name our private properties with an underscore.  This is an older convention and many may argue it is not applicable anymore, often it's replaced with a `$` at the beginning of the variable name, or some custom convention.  Google and Apple style guide chastise the use of the `_` prefix, so in your applications do not use this `_` convention.  For this workbook to make things clear, we will use a prefix of `_` for private variables and a postfix of `$` for protected variables"
   ]
  },
  {
   "cell_type": "code",
   "execution_count": 20,
   "id": "091b369c",
   "metadata": {},
   "outputs": [],
   "source": [
    "class Car{\n",
    "    public nickname?: string\n",
    "    \n",
    "    constructor(private readonly _id: number, public make: string, public model: string,\n",
    "                public year: number){}\n",
    "    drive(miles: number): void{\n",
    "        console.log(`You drove ${miles} miles. Nice!`)\n",
    "    }\n",
    "    printInfo():void{\n",
    "        console.log(`This Car has id: ${this._id} and is a\n",
    "        ${this.make}\n",
    "        ${this.model}\n",
    "        ${this.year}`,\n",
    "        this.nickname? 'that is called' + this.nickname: \"This car doesnt have a nick name\")\n",
    "    }\n",
    "}\n"
   ]
  },
  {
   "cell_type": "code",
   "execution_count": 22,
   "id": "eb0bde2e",
   "metadata": {},
   "outputs": [
    {
     "name": "stdout",
     "output_type": "stream",
     "text": [
      "This Car has id: 2 and is a\n",
      "        Jeep\n",
      "        Grand Cherokee\n",
      "        2005 that is calledBest Car Ever!\n"
     ]
    }
   ],
   "source": [
    "let jeep1 = new Car(2, 'Jeep', 'Grand Cherokee', 2005)\n",
    "jeep1.nickname = \"Best Car Ever!\"\n",
    "jeep1.printInfo()"
   ]
  },
  {
   "cell_type": "markdown",
   "id": "d0037ac7",
   "metadata": {},
   "source": [
    "<a id=\"getter\"></a>\n",
    "\n",
    "### Getters"
   ]
  },
  {
   "cell_type": "markdown",
   "id": "47f20072",
   "metadata": {},
   "source": [
    "We can access varaibles with a getter.  This helps us encapsulate the property while still allowing view access.  Using getters and setters in your classes is good practice and should always be employed in your classes."
   ]
  },
  {
   "cell_type": "markdown",
   "id": "2a5bc985",
   "metadata": {},
   "source": [
    "In the following example we decided since a car's make and model can not be changed once it is made we will make those properties private, but the nickname of a car can be changed by anyone at anytime so we will make that public."
   ]
  },
  {
   "cell_type": "code",
   "execution_count": 24,
   "id": "10c24e3b",
   "metadata": {},
   "outputs": [],
   "source": [
    "class Car{\n",
    "    constructor(private _make: string, private _model: string, public nickname: string){}\n",
    "    \n",
    "    get make(): string{\n",
    "        if (this._model){\n",
    "            return this._make\n",
    "        } else {\n",
    "            return \"No Model Here\"\n",
    "        }\n",
    "    }\n",
    "}\n",
    "\n",
    "\n"
   ]
  },
  {
   "cell_type": "code",
   "execution_count": 25,
   "id": "16c7c940",
   "metadata": {
    "scrolled": true
   },
   "outputs": [
    {
     "name": "stdout",
     "output_type": "stream",
     "text": [
      "Car { _make: 'Pontiac', _model: '', nickname: 'Kitt' }\n"
     ]
    }
   ],
   "source": [
    "let knightRider = new Car('Pontiac', \"\", \"Kitt\")\n",
    "console.log(knightRider)\n",
    "\n"
   ]
  },
  {
   "cell_type": "code",
   "execution_count": 29,
   "id": "2c58c622",
   "metadata": {
    "scrolled": true
   },
   "outputs": [
    {
     "name": "stdout",
     "output_type": "stream",
     "text": [
      "No Model Here\n"
     ]
    }
   ],
   "source": [
    "knightRider.make"
   ]
  },
  {
   "cell_type": "markdown",
   "id": "8873979c",
   "metadata": {},
   "source": [
    "Public properties can be changed from outside the class"
   ]
  },
  {
   "cell_type": "code",
   "execution_count": 30,
   "id": "5e9636f1",
   "metadata": {},
   "outputs": [
    {
     "name": "stderr",
     "output_type": "stream",
     "text": [
      "1:13 - Property '_model' is private and only accessible within class 'Car'.\n"
     ]
    }
   ],
   "source": [
    "knightRider._model"
   ]
  },
  {
   "cell_type": "code",
   "execution_count": 31,
   "id": "048cfe5f",
   "metadata": {},
   "outputs": [
    {
     "name": "stdout",
     "output_type": "stream",
     "text": [
      "Car { _make: 'Pontiac', _model: '', nickname: 'Alright Car' }\n"
     ]
    }
   ],
   "source": [
    "knightRider.nickname = 'Alright Car'\n",
    "console.log(knightRider)"
   ]
  },
  {
   "cell_type": "markdown",
   "id": "9a4c43ba",
   "metadata": {},
   "source": [
    "Private Properties can not be accessed outside the class"
   ]
  },
  {
   "cell_type": "code",
   "execution_count": 33,
   "id": "769e18e3",
   "metadata": {
    "scrolled": true
   },
   "outputs": [
    {
     "name": "stderr",
     "output_type": "stream",
     "text": [
      "1:13 - Property '_model' is private and only accessible within class 'Car'.\n"
     ]
    }
   ],
   "source": [
    "knightRider._model = 'ABC-13'\n"
   ]
  },
  {
   "cell_type": "markdown",
   "id": "e4123377",
   "metadata": {},
   "source": [
    "Public getters can make private variables viewable outside the class"
   ]
  },
  {
   "cell_type": "markdown",
   "id": "75bc6bd7",
   "metadata": {},
   "source": [
    "<a id=\"setter\"></a>\n",
    "\n",
    "### Setters"
   ]
  },
  {
   "cell_type": "markdown",
   "id": "393c15cf",
   "metadata": {},
   "source": [
    "If a property is changed we often want to check or process the data that the property is getting changed to.  This makes setters very important.  They will allow us to define what happens when we change our variable.\n",
    "\n",
    "We can even create getters for things that are not properties.\n",
    "\n",
    "<strong>Note: </strong> Do not try and set a return type on a setter"
   ]
  },
  {
   "cell_type": "code",
   "execution_count": 34,
   "id": "60caa0fe",
   "metadata": {},
   "outputs": [],
   "source": [
    "class Car{\n",
    "    constructor(private _make: string, private _model: string, public nickname: string){}\n",
    "    \n",
    "    get make(): string {\n",
    "        return this._make\n",
    "    }\n",
    "    \n",
    "    get model(): string{\n",
    "        if (this._model){\n",
    "            return this._make\n",
    "        } else {\n",
    "            return \"No Model Here\"\n",
    "        }\n",
    "    }\n",
    "    \n",
    "    set make(newMake: string){\n",
    "        this._make = newMake\n",
    "    }\n",
    "    \n",
    "    set model(newModel: string){\n",
    "        if (newModel && newModel !== 'Pinto'){\n",
    "            this._model = newModel\n",
    "            \n",
    "        }else {\n",
    "            this._model = 'Wrecked'\n",
    "        }\n",
    "    }\n",
    "}\n",
    "\n"
   ]
  },
  {
   "cell_type": "code",
   "execution_count": 35,
   "id": "2971efbe",
   "metadata": {},
   "outputs": [
    {
     "name": "stdout",
     "output_type": "stream",
     "text": [
      "Car { _make: 'Pontiac', _model: '', nickname: 'Kitt' }\n"
     ]
    }
   ],
   "source": [
    "let knightRider2 = new Car('Pontiac', \"\", 'Kitt')\n",
    "console.log(knightRider2)"
   ]
  },
  {
   "cell_type": "markdown",
   "id": "d02db854",
   "metadata": {},
   "source": [
    "Setters can allow us to change a private variable, while still letting the class decide how to properly enact the change."
   ]
  },
  {
   "cell_type": "code",
   "execution_count": 37,
   "id": "39f66dc5",
   "metadata": {},
   "outputs": [
    {
     "name": "stdout",
     "output_type": "stream",
     "text": [
      "Car { _make: 'BMW', _model: 'Pint', nickname: 'Kitt' }\n"
     ]
    }
   ],
   "source": [
    "knightRider2.make = 'BMW'\n",
    "knightRider2.model = 'Pint'\n",
    "\n",
    "console.log(knightRider2)\n",
    "\n"
   ]
  },
  {
   "cell_type": "markdown",
   "id": "380eb8d3",
   "metadata": {},
   "source": [
    "<a id=\"idxsign\"></a>\n",
    "\n",
    "### Index Signatures"
   ]
  },
  {
   "cell_type": "markdown",
   "id": "a6a97c72",
   "metadata": {},
   "source": [
    "Index Signatures allow us to dynamically (after creation) change the properties of our class.  This can be done in JS but in TS you get an error\n",
    "\n",
    "syntax:\n",
    "```\n",
    "[placeHolder:DatatypeOfProperty]:DataTypeContainedInProperty\n",
    "```"
   ]
  },
  {
   "cell_type": "code",
   "execution_count": 39,
   "id": "02387f63",
   "metadata": {},
   "outputs": [
    {
     "name": "stderr",
     "output_type": "stream",
     "text": [
      "2:14 - Property 'year' does not exist on type 'Car'.\n"
     ]
    }
   ],
   "source": [
    "//How we do this in JS\n",
    "knightRider2.year = 1982"
   ]
  },
  {
   "cell_type": "code",
   "execution_count": 40,
   "id": "c906038f",
   "metadata": {},
   "outputs": [],
   "source": [
    "class PokemonRatings {\n",
    "    [newKey: string]: number\n",
    "}\n",
    "\n",
    "\n"
   ]
  },
  {
   "cell_type": "code",
   "execution_count": 41,
   "id": "409f4a50",
   "metadata": {
    "scrolled": true
   },
   "outputs": [
    {
     "name": "stdout",
     "output_type": "stream",
     "text": [
      "PokemonRatings { Pikachu: 10 }\n"
     ]
    }
   ],
   "source": [
    "let myRatings = new PokemonRatings()\n",
    "myRatings['Pikachu'] = 10\n",
    "console.log(myRatings)\n",
    "\n"
   ]
  },
  {
   "cell_type": "code",
   "execution_count": 42,
   "id": "c8239c24",
   "metadata": {},
   "outputs": [
    {
     "name": "stdout",
     "output_type": "stream",
     "text": [
      "PokemonRatings { Pikachu: 10, Ditto: 8 }\n"
     ]
    }
   ],
   "source": [
    "myRatings['Ditto'] = 8\n",
    "console.log(myRatings)"
   ]
  },
  {
   "cell_type": "code",
   "execution_count": 43,
   "id": "48242edf",
   "metadata": {},
   "outputs": [],
   "source": [
    "class Person{\n",
    "    [newKey: string]: string | number\n",
    "    constructor(name: string, additionalVar: {[newKey: string]: string | number}){\n",
    "        this.name = name\n",
    "        Object.assign(this, additionalVar)\n",
    "    }    \n",
    "}\n"
   ]
  },
  {
   "cell_type": "code",
   "execution_count": 45,
   "id": "84fc69f9",
   "metadata": {},
   "outputs": [
    {
     "name": "stdout",
     "output_type": "stream",
     "text": [
      "Person {\n",
      "  name: 'Sam',\n",
      "  lastname: 'Mennenga',\n",
      "  age: 31,\n",
      "  favProgrammingLanguage: 'TypeScript'\n",
      "}\n"
     ]
    }
   ],
   "source": [
    "let person1 = new Person('Sam', {lastname: 'Mennenga', age: 31, favProgrammingLanguage: 'TypeScript'})\n",
    "console.log(person1)"
   ]
  },
  {
   "cell_type": "markdown",
   "id": "a7b91fa6",
   "metadata": {},
   "source": [
    "<a id=\"static\"></a>\n",
    "\n",
    "### Static"
   ]
  },
  {
   "cell_type": "markdown",
   "id": "cdd0515f",
   "metadata": {},
   "source": [
    "The `static` keyword denotes that the property maintains its value across all instances, and also must be used without an instance.\n",
    "\n",
    "To access a Static Property we call its by class name. `ClassName.staticProperty`"
   ]
  },
  {
   "cell_type": "code",
   "execution_count": 46,
   "id": "90933070",
   "metadata": {},
   "outputs": [],
   "source": [
    "class Counter{\n",
    "    public static count: number = 0\n",
    "    \n",
    "    increaseCount(): void{\n",
    "        Counter.count++\n",
    "    }\n",
    "    static showCount():void{\n",
    "        console.log(`The count is ${Counter.count}`)\n",
    "    }\n",
    "}\n"
   ]
  },
  {
   "cell_type": "code",
   "execution_count": 47,
   "id": "4d80fed3",
   "metadata": {},
   "outputs": [],
   "source": [
    "let counter1 = new Counter()"
   ]
  },
  {
   "cell_type": "code",
   "execution_count": 48,
   "id": "1dd9d987",
   "metadata": {},
   "outputs": [
    {
     "name": "stdout",
     "output_type": "stream",
     "text": [
      "0\n"
     ]
    }
   ],
   "source": [
    "console.log(Counter.count)"
   ]
  },
  {
   "cell_type": "code",
   "execution_count": 49,
   "id": "6879e279",
   "metadata": {},
   "outputs": [
    {
     "name": "stdout",
     "output_type": "stream",
     "text": [
      "1\n"
     ]
    }
   ],
   "source": [
    "counter1.increaseCount()\n",
    "console.log(Counter.count)\n",
    "\n"
   ]
  },
  {
   "cell_type": "markdown",
   "id": "25e6168b",
   "metadata": {},
   "source": [
    "#### Accessing"
   ]
  },
  {
   "cell_type": "code",
   "execution_count": null,
   "id": "4c52eb6b",
   "metadata": {},
   "outputs": [],
   "source": []
  },
  {
   "cell_type": "code",
   "execution_count": null,
   "id": "0d9c9cd4",
   "metadata": {},
   "outputs": [],
   "source": []
  },
  {
   "cell_type": "code",
   "execution_count": null,
   "id": "9b51dacc",
   "metadata": {},
   "outputs": [],
   "source": [
    " // Can not Access"
   ]
  },
  {
   "cell_type": "markdown",
   "id": "a6236370",
   "metadata": {},
   "source": [
    "All Members of the Counter class share the same count property!"
   ]
  },
  {
   "cell_type": "code",
   "execution_count": 53,
   "id": "1531cec3",
   "metadata": {},
   "outputs": [
    {
     "name": "stdout",
     "output_type": "stream",
     "text": [
      "4\n",
      "The count is 4\n"
     ]
    }
   ],
   "source": [
    "let counter2 = new Counter()\n",
    "counter2.increaseCount()\n",
    "console.log(Counter.count)\n",
    "// counter2.showCount()\n",
    "\n",
    "Counter.showCount()\n",
    "\n",
    "\n",
    "\n",
    "\n",
    "\n"
   ]
  },
  {
   "cell_type": "code",
   "execution_count": null,
   "id": "2471544f",
   "metadata": {},
   "outputs": [],
   "source": [
    "//Nope\n"
   ]
  },
  {
   "cell_type": "code",
   "execution_count": null,
   "id": "da45fa4c",
   "metadata": {},
   "outputs": [],
   "source": []
  },
  {
   "cell_type": "markdown",
   "id": "a0a65a71",
   "metadata": {},
   "source": [
    "<a id=\"inherit\"></a>\n",
    "\n",
    "## Inheritance"
   ]
  },
  {
   "cell_type": "markdown",
   "id": "f9bafbb5",
   "metadata": {},
   "source": [
    "We are going to make a Duck class then define children classes to represent different kinds of ducks.  \n",
    "\n",
    "Here we will use the `protected` access modifier for the first time.  Remember protected means that the child class can access the property, while if it was made private it would not be able to be accessed in the child class\n",
    "\n",
    "<b>Note: </b>In python a class can inherit from multiple classes.  This is not possible in JavaScript/TypeScript.  You can only extend one class in JS/TS this is to prevent the so-called diamond problem (when two extended classes have the same base class).  This is fine and normal in most languages because JS also provides Interfaces and a class can implement many Interfaces (more on interfaces later)"
   ]
  },
  {
   "cell_type": "code",
   "execution_count": 24,
   "id": "37fc921f",
   "metadata": {},
   "outputs": [],
   "source": [
    "class Duck {\n",
    "    public static className: string = 'Duck'\n",
    "    \n",
    "    constructor(protected age$: number){}\n",
    "    \n",
    "    get age(): number{\n",
    "        return this.age$\n",
    "    } \n",
    "    \n",
    "    quack(): void{\n",
    "        console.log('Generic Quack Sound')\n",
    "    }\n",
    "    \n",
    "    swim(): void{\n",
    "        console.log('Paddles with two little feets')\n",
    "    }\n",
    "}\n"
   ]
  },
  {
   "cell_type": "code",
   "execution_count": 25,
   "id": "7f936305",
   "metadata": {},
   "outputs": [
    {
     "name": "stdout",
     "output_type": "stream",
     "text": [
      "Duck\n",
      "Generic Quack Sound\n",
      "Paddles with two little feets\n",
      "22\n"
     ]
    }
   ],
   "source": [
    "console.log(Duck.className)\n",
    "let daffy = new Duck(22)\n",
    "daffy.quack()\n",
    "daffy.swim()\n",
    "console.log(daffy.age)"
   ]
  },
  {
   "cell_type": "markdown",
   "id": "4fc302a5",
   "metadata": {},
   "source": [
    "#### In the Child Class"
   ]
  },
  {
   "cell_type": "markdown",
   "id": "f8d79a9b",
   "metadata": {},
   "source": [
    "To inherit from a class in JS/TS we use the extends keyword\n",
    "\n",
    "<b>Note </b> When adding parameters that are part of the parent class we do not add access modifiers"
   ]
  },
  {
   "cell_type": "code",
   "execution_count": 26,
   "id": "b52cd841",
   "metadata": {
    "scrolled": true
   },
   "outputs": [
    {
     "name": "stdout",
     "output_type": "stream",
     "text": [
      "MallardDuck\n",
      "Duck\n",
      "25\n",
      "Generic Quack Sound\n",
      "undefined\n",
      "Paddles with two little feets\n",
      "undefined\n",
      "multi colored\n"
     ]
    }
   ],
   "source": [
    "class MallardDuck extends Duck {\n",
    "    public static className = 'MallardDuck'\n",
    "    \n",
    "    constructor(age$: number, public color: string){\n",
    "        super(age$)\n",
    "    }\n",
    "}\n",
    "\n",
    "let mallard = new MallardDuck(25, 'multi colored')\n",
    "\n",
    "console.log(MallardDuck.className)\n",
    "console.log(Duck.className)\n",
    "console.log(mallard.age)\n",
    "console.log(mallard.quack())\n",
    "console.log(mallard.swim())\n",
    "console.log(mallard.color)"
   ]
  },
  {
   "cell_type": "code",
   "execution_count": 62,
   "id": "01b48029",
   "metadata": {
    "scrolled": true
   },
   "outputs": [
    {
     "name": "stderr",
     "output_type": "stream",
     "text": [
      "2:19 - Property 'color' does not exist on type 'Duck'.\n"
     ]
    }
   ],
   "source": [
    "// Duck's don't have a color\n",
    "console.log(daffy.color)"
   ]
  },
  {
   "cell_type": "markdown",
   "id": "acc9211f",
   "metadata": {},
   "source": [
    "### Protected Variables are Accessible in the Child Class"
   ]
  },
  {
   "cell_type": "markdown",
   "id": "da6877ec",
   "metadata": {},
   "source": [
    "Try switching the access modifier on serialNo to `private` and you will see you cannot access it in the Roku class."
   ]
  },
  {
   "cell_type": "code",
   "execution_count": 28,
   "id": "bb0a7c41",
   "metadata": {},
   "outputs": [],
   "source": [
    "class TV {\n",
    "    constructor (protected serialNo$: string){}\n",
    "}\n",
    "\n",
    "class Roku extends TV {\n",
    "    showSerial(): void{\n",
    "        console.log(this.serialNo$)\n",
    "    }\n",
    "}\n"
   ]
  },
  {
   "cell_type": "code",
   "execution_count": 29,
   "id": "c5047663",
   "metadata": {},
   "outputs": [
    {
     "name": "stdout",
     "output_type": "stream",
     "text": [
      "abasdascascz\n"
     ]
    }
   ],
   "source": [
    "let myTV = new Roku('abasdascascz')\n",
    "myTV.showSerial()"
   ]
  },
  {
   "cell_type": "markdown",
   "id": "8a84af9b",
   "metadata": {},
   "source": [
    "<a id=\"methover\"></a>\n",
    "\n",
    "### Method Overrides"
   ]
  },
  {
   "cell_type": "markdown",
   "id": "c10d5cbe",
   "metadata": {},
   "source": [
    "Now we notice that our mallard makes a generic animal sounds instead of the mallard's quack sound, so we should implement a different way to quack that is specific to mallards, we can do this by overriding the parent class method"
   ]
  },
  {
   "cell_type": "markdown",
   "id": "83b7556a",
   "metadata": {},
   "source": [
    "##### Implicit Overrides"
   ]
  },
  {
   "cell_type": "markdown",
   "id": "6ab1bbb6",
   "metadata": {},
   "source": [
    "If you create a method in a child class with the same name as a method in the parent class, the child class will use the method definition from the child class, this is called a <b>method override</b>  This is done implicitly by the computer.  This is now considered bad practice and it is recommended to always use the `override` keyword (more on that next)"
   ]
  },
  {
   "cell_type": "code",
   "execution_count": 32,
   "id": "767a531f",
   "metadata": {},
   "outputs": [],
   "source": [
    "class Duck {\n",
    "    public static className: string = 'Duck'\n",
    "    \n",
    "    constructor(protected age$: number){}\n",
    "    \n",
    "    get age(): number{\n",
    "        return this.age$\n",
    "    } \n",
    "    \n",
    "    quack(): void{\n",
    "        console.log('Generic Quack Sound')\n",
    "    }\n",
    "    \n",
    "    swim(): void{\n",
    "        console.log('Paddles with two little feets')\n",
    "    }\n",
    "}\n",
    "\n",
    "class MallardDuck extends Duck {\n",
    "    public static className = 'MallardDuck';\n",
    "    \n",
    "    constructor(age$: number, public color: string){\n",
    "        super(age$);\n",
    "    }\n",
    "    \n",
    "    get age(): number {\n",
    "        return this.age$ + 5\n",
    "    }\n",
    "    \n",
    "    public override quack(): void {\n",
    "        console.log('Mallard Quack Sounds')\n",
    "    }\n",
    "}\n",
    "\n"
   ]
  },
  {
   "cell_type": "code",
   "execution_count": 33,
   "id": "db57a34c",
   "metadata": {},
   "outputs": [
    {
     "name": "stdout",
     "output_type": "stream",
     "text": [
      "10\n",
      "brown\n",
      "Mallard Quack Sounds\n",
      "undefined\n"
     ]
    }
   ],
   "source": [
    "let mallard2 = new MallardDuck(5, 'brown')\n",
    "console.log(mallard2.age)\n",
    "console.log(mallard2.color)\n",
    "console.log(mallard2.quack())"
   ]
  },
  {
   "cell_type": "markdown",
   "id": "68834511",
   "metadata": {},
   "source": [
    "<a id=\"override\"></a>\n",
    "##### Explicit Overrides"
   ]
  },
  {
   "cell_type": "markdown",
   "id": "5a7abe90",
   "metadata": {},
   "source": [
    "TS 4.3 they added support for the `override` keyword.  This notebook runs 4.1, so the override keyword will not work.  Without it you get an implicit override, where TS infers you are overriding when you use the same name.\n",
    "\n",
    "The `override` keyword is really useful for when you change your base class and maybe remove a method.  The Child classes with now get an error saying there is no method to override. "
   ]
  },
  {
   "cell_type": "markdown",
   "id": "d1d2df06",
   "metadata": {},
   "source": [
    "Since this notebook does not support the `override` keyword, we will have you checkout this file using StackBlitz\n",
    "\n",
    "[https://stackblitz.com/edit/w9pgd4?file=index.ts](https://stackblitz.com/edit/w9pgd4?file=index.ts)\n",
    "\n",
    "when using this code be sure to open the console (on the bottom right below the browser output)"
   ]
  },
  {
   "cell_type": "markdown",
   "id": "55afc76b",
   "metadata": {},
   "source": [
    "<a id=\"polym\"></a>\n",
    "\n",
    "### Polymorphism"
   ]
  },
  {
   "cell_type": "markdown",
   "id": "c2880118",
   "metadata": {},
   "source": [
    "Polymorphism means having many forms.  What we have learned in TS so far is that you always need to know the datatype of your variables.  And if you say make an array you have to define what is in that array.  \n",
    "\n",
    "What polymorphism says is if one class (say MallardDuck) inherits from a class (say Duck) then every MallardDuck is a Duck. Also, all other Children of the Duck Class (say RedHeadedDuck) are also Ducks; and not to forget that Ducks are also Ducks.  This means we can build an Array&lt;Ducks&gt; and include Ducks, RedHeadedDucks, and Mallard Ducks.\n",
    "    \n",
    "In OOP we often talk about the <b>Open-Closed Principal</b> The open–closed principle states \"software entities (classes, modules, functions, etc.) should be open for extension, but closed for modification\";\n",
    "    \n",
    "Polymorphism is a key way we can help achieve this goal"
   ]
  },
  {
   "cell_type": "markdown",
   "id": "df113605",
   "metadata": {},
   "source": [
    "<b>Lets </b> make another Type of Duck the ReadHeadedDuck"
   ]
  },
  {
   "cell_type": "code",
   "execution_count": 34,
   "id": "eaf6cee9",
   "metadata": {},
   "outputs": [],
   "source": [
    "class RedHeadedDuck extends Duck {\n",
    "    public static className = 'RedHeadedDuck';\n",
    "    \n",
    "    constructor(public color: string, age$: number){\n",
    "        super(age$);\n",
    "    }\n",
    "    \n",
    "    get age(): number {\n",
    "        return this.age$ - 5\n",
    "    }\n",
    "    \n",
    "    public override quack():void{\n",
    "        console.log('This Duck Quacks like a Red Headed Duck')\n",
    "    }\n",
    "}\n"
   ]
  },
  {
   "cell_type": "code",
   "execution_count": 36,
   "id": "49b8c2bd",
   "metadata": {},
   "outputs": [],
   "source": [
    "let duckArray: Duck[] = [new Duck(30), new MallardDuck(15, 'black'), new RedHeadedDuck('red', 20)]"
   ]
  },
  {
   "cell_type": "markdown",
   "id": "72aaa5c0",
   "metadata": {},
   "source": [
    "Let’s make an array of Ducks.  Since all Duck Types inherit from Duck we can declare the array and array of Ducks."
   ]
  },
  {
   "cell_type": "markdown",
   "id": "c0ee1f5b",
   "metadata": {},
   "source": [
    "Now Lets watch Polymorphism in action\n",
    "\n",
    "This is really cool, because all Ducks are implementing the same behaviors (methods) we can invoke them and get the results from each individual class."
   ]
  },
  {
   "cell_type": "code",
   "execution_count": 39,
   "id": "1062c0a7",
   "metadata": {
    "scrolled": true
   },
   "outputs": [
    {
     "name": "stdout",
     "output_type": "stream",
     "text": [
      "30\n",
      "Generic Quack Sound\n",
      "Paddles with two little feets\n",
      "20\n",
      "Mallard Quack Sounds\n",
      "Paddles with two little feets\n",
      "15\n",
      "This Duck Quacks like a Red Headed Duck\n",
      "Paddles with two little feets\n"
     ]
    }
   ],
   "source": [
    "for (let duck of duckArray) {\n",
    "    console.log(duck.age)\n",
    "    duck.quack()\n",
    "    duck.swim()\n",
    "}"
   ]
  },
  {
   "cell_type": "markdown",
   "id": "1af58e19",
   "metadata": {},
   "source": [
    "<a id=\"dp\"></a>\n",
    "\n",
    "## OOP Design Patterns"
   ]
  },
  {
   "cell_type": "markdown",
   "id": "3be2806a",
   "metadata": {},
   "source": [
    "There are alot of ways to design systems with classes and Abstract classes and interfaces (more of these last two things coming up)\n",
    "\n",
    "The way you connect your Classes/Interface/Abstract Class make up your Design Pattern.  We are going to walk you through a good OOP design pattern in the next few sections"
   ]
  },
  {
   "cell_type": "markdown",
   "id": "d539b702",
   "metadata": {},
   "source": [
    "<a id=\"abs\"></a>\n",
    "\n",
    "## Abstract Classes"
   ]
  },
  {
   "cell_type": "markdown",
   "id": "8599a057",
   "metadata": {},
   "source": [
    "Our `Duck` Class now has a problem.  We shouldn't be able to create a plain duck.  All Ducks in the world are some variation on the Duck class, but a plain generic Duck should never exist.  This means we shouldn't be able to make a new duck\n",
    "\n",
    "`let duck = Duck(23)` Should not be allowed because this doesn't make logical sense.\n",
    "\n",
    "Don't fear because we have a solution for this.  We will use an `Abstract Class`  An Abstract Class is a class typically without method implementations, or implementations that function the same for all children classes.  In an Abstract class we merely define that a method should exist and that the children classes should define their own implantation..\n",
    "\n",
    "<b>Note: </b> All Abstract methods have a body even if it is empty"
   ]
  },
  {
   "cell_type": "code",
   "execution_count": 49,
   "id": "9c8f03f6",
   "metadata": {},
   "outputs": [],
   "source": [
    "abstract class Duck {\n",
    "    \n",
    "    public color: string\n",
    "    constructor(protected age$:number){}\n",
    "    get age():number{return this.age$}\n",
    "    quack():void{}\n",
    "    swim():void{}\n",
    "    fly():void{}\n",
    "}"
   ]
  },
  {
   "cell_type": "code",
   "execution_count": 42,
   "id": "4340cc8d",
   "metadata": {},
   "outputs": [
    {
     "name": "stderr",
     "output_type": "stream",
     "text": [
      "2:13 - Cannot create an instance of an abstract class.\n"
     ]
    }
   ],
   "source": [
    "  //Error\n",
    "let duck1 = new Duck(30)"
   ]
  },
  {
   "cell_type": "code",
   "execution_count": 50,
   "id": "2f1520ca",
   "metadata": {},
   "outputs": [],
   "source": [
    "class MallardDuck extends Duck {\n",
    "    constructor(public color: string, age$: number){\n",
    "        super(age$)\n",
    "    }\n",
    "    \n",
    "    get age(): number{\n",
    "        return this.age$ + 5\n",
    "    }\n",
    "    \n",
    "    quack():void{\n",
    "        console.log('Mallard Quack Noises')\n",
    "    }\n",
    "    \n",
    "    swim(): void{\n",
    "        console.log('Swimming Like a Mallard')\n",
    "    }\n",
    "    \n",
    "    fly(): void{\n",
    "        console.log('Flying like a Mallard!')\n",
    "    }\n",
    "}\n",
    "\n",
    "\n",
    "class RedHeadedDuck extends Duck {\n",
    "    constructor(public color: string, age$: number){\n",
    "        super(age$)\n",
    "    }\n",
    "    \n",
    "    get age(): number{\n",
    "        return this.age$ - 5\n",
    "    }\n",
    "    \n",
    "    quack():void{\n",
    "        console.log('RedHeaded Quack Noises')\n",
    "    }\n",
    "    \n",
    "    swim(): void{\n",
    "        console.log('Swimming Like a RedHeaded')\n",
    "    }\n",
    "    \n",
    "    fly(): void{\n",
    "        console.log('Flying like a Redheaded!')\n",
    "    }\n",
    "}\n"
   ]
  },
  {
   "cell_type": "code",
   "execution_count": 51,
   "id": "e955b967",
   "metadata": {},
   "outputs": [],
   "source": [
    "let duckArray2: Duck[] = [new MallardDuck('brown', 29), new RedHeadedDuck('red and brown', 3)]\n"
   ]
  },
  {
   "cell_type": "code",
   "execution_count": 48,
   "id": "330a634d",
   "metadata": {},
   "outputs": [
    {
     "name": "stdout",
     "output_type": "stream",
     "text": [
      "34\n",
      "Mallard Quack Noises\n",
      "Swimming Like a Mallard\n",
      "Flying like a Mallard!\n",
      "-2\n",
      "RedHeaded Quack Noises\n",
      "Swimming Like a RedHeaded\n",
      "Flying like a Redheaded!\n"
     ]
    }
   ],
   "source": [
    "for (let duck of duckArray2){\n",
    "    console.log(duck.age)\n",
    "    duck.quack()\n",
    "    duck.swim()\n",
    "    duck.fly()\n",
    "}"
   ]
  },
  {
   "cell_type": "markdown",
   "id": "1e0f4f29",
   "metadata": {},
   "source": [
    "<b>What happened with Color?</b>"
   ]
  },
  {
   "cell_type": "markdown",
   "id": "ccf084bf",
   "metadata": {},
   "source": [
    "Lets Try and get the ducks color the same way.\n",
    "\n",
    "when we run the code below we get \n",
    "\n",
    "```Property 'color' does not exist on type 'Duck'.```\n",
    "We know MallardDuck and RedheadedDuck have the property color, but since we are accessing the RedHeaded and Mallard Ducks as a Duck Type (since they are in a array of Ducks not as RedheadedDuck|MallardDuck) we can not use the color property unless it is defined in the parent Abstract class.\n",
    "\n",
    "To fix this we can go back to our base class of `Duck` and add the property `color:string` at the top of our `Duck` class.  Then rerun the cells defining `MallardDuck` and `RedheadedDuck` (to get the new copy of the Duck class) and then rerun the cell below and we should see out expected results"
   ]
  },
  {
   "cell_type": "code",
   "execution_count": 53,
   "id": "3e60585d",
   "metadata": {},
   "outputs": [
    {
     "name": "stdout",
     "output_type": "stream",
     "text": [
      "brown\n",
      "red and brown\n"
     ]
    }
   ],
   "source": [
    "for (let duck of duckArray2){\n",
    "    console.log(duck.color)\n",
    "}\n",
    "\n"
   ]
  },
  {
   "cell_type": "markdown",
   "id": "3f0f47f7",
   "metadata": {},
   "source": [
    "<a id=\"fly\"></a>\n",
    "\n",
    "#### Flying Ducks"
   ]
  },
  {
   "cell_type": "markdown",
   "id": "25746db9",
   "metadata": {},
   "source": [
    "Let's imagine now we are tasked with adding the ability to fly to our ducks.  This will be simple to add a new method to our Abstract base class `Duck` then implement its specific functionality in the children classes `MallardDuck` and `RedHeaded Duck`.  And for simplicity lets remove the color property"
   ]
  },
  {
   "cell_type": "code",
   "execution_count": null,
   "id": "5d2dce16",
   "metadata": {},
   "outputs": [],
   "source": [
    "\n",
    "// See above example\n"
   ]
  },
  {
   "cell_type": "markdown",
   "id": "ec2dc503",
   "metadata": {},
   "source": [
    "<a id=\"decoy\"></a>\n",
    "\n",
    "#### Decoy Ducks "
   ]
  },
  {
   "cell_type": "markdown",
   "id": "465f7f65",
   "metadata": {},
   "source": [
    "Okay that was easy enough, but now we are required to make another type of duck, a duck decoy.  Lets Build our `DecoyDuck` class"
   ]
  },
  {
   "cell_type": "code",
   "execution_count": 7,
   "id": "5922d89d",
   "metadata": {},
   "outputs": [],
   "source": [
    "class DecoyDuck extends Duck {\n",
    "    constructor(age$: number){\n",
    "        super(age$)\n",
    "    }\n",
    "    get age(): number{\n",
    "        return this.age$\n",
    "    }\n",
    "    quack():void{\n",
    "        console.log('I dont quack')\n",
    "    }\n",
    "    swim():void{\n",
    "        console.log(\"I float, I dont swim\")\n",
    "    }\n",
    "}\n",
    "\n"
   ]
  },
  {
   "cell_type": "code",
   "execution_count": 54,
   "id": "5266ee4f",
   "metadata": {},
   "outputs": [],
   "source": [
    "let duckArray3: Duck[] = [new MallardDuck('brown', 29), new RedHeadedDuck('red and brown', 3), new DecoyDuck(6)]"
   ]
  },
  {
   "cell_type": "code",
   "execution_count": 55,
   "id": "5773b083",
   "metadata": {},
   "outputs": [
    {
     "name": "stdout",
     "output_type": "stream",
     "text": [
      "34\n",
      "Mallard Quack Noises\n",
      "Swimming Like a Mallard\n",
      "Flying like a Mallard!\n",
      "-2\n",
      "RedHeaded Quack Noises\n",
      "Swimming Like a RedHeaded\n",
      "Flying like a Redheaded!\n",
      "6\n",
      "I dont quack\n",
      "I float, I dont swim\n"
     ]
    }
   ],
   "source": [
    "for (let duck of duckArray3){\n",
    "    console.log(duck.age)\n",
    "    duck.quack()\n",
    "    duck.swim()\n",
    "    duck.fly()\n",
    "}"
   ]
  },
  {
   "cell_type": "markdown",
   "id": "b6eed0cc",
   "metadata": {},
   "source": [
    "We Have now come across a problem with using the abstract class to derive all our Duck Types.  A Decoy Duck has no implementation of fly, and thus we should not be implementing a fly method on a decoy duck.\n",
    "\n",
    "Never Fear! Interfaces are here!  An Interface lets you define methods that a class needs to implement.  It can also be used as a type."
   ]
  },
  {
   "cell_type": "markdown",
   "id": "35e8bef6",
   "metadata": {},
   "source": [
    "<a id=\"ice1\"></a>\n",
    "\n",
    "## In Class Exercise #1"
   ]
  },
  {
   "cell_type": "markdown",
   "id": "197a19cc",
   "metadata": {},
   "source": [
    "Create a class `Car` and then create 2 car subclasses `SmartCar`, `Truck`.\n",
    "All Cars should be able to `brake` `drive` and `honk`\n",
    "\n",
    "- When a SmartCar drives it makes `hummmm` sound and when it honks it makes a `MMmeep` sound\n",
    "- When a Truck drives it makes a `vrooom` sound and when it honks it makes `BWaaaaaahp`\n",
    "- When a Truck or a SmartCar brakes it makes `squeeel` sound"
   ]
  },
  {
   "cell_type": "code",
   "execution_count": 56,
   "id": "3c84f533",
   "metadata": {},
   "outputs": [],
   "source": [
    "//Solution\n",
    "// class Car {\n",
    "//     public static className: string = 'Car'\n",
    "    \n",
    "//     constructor(public year$: number){}\n",
    "    \n",
    "//     get year(): number{\n",
    "//         return this.year$\n",
    "//     } \n",
    "    \n",
    "//     brake(): void{\n",
    "//         console.log('squeeel')\n",
    "//     }\n",
    "    \n",
    "//     drive(): void{}\n",
    "    \n",
    "//     honk(): void{}\n",
    "// }\n",
    "abstract class Car {\n",
    "    drive(): void{}\n",
    "    honk(): void{}\n",
    "    brake(): void{}\n",
    "}\n",
    "class SmartCar extends Car{\n",
    "    \n",
    "    drive(): void{\n",
    "        console.log(\"hummmm\")\n",
    "    }\n",
    "    honk(): void{\n",
    "        console.log('MMmeep')\n",
    "    }\n",
    "}\n",
    "\n",
    "class Truck extends Car{\n",
    "    \n",
    "    drive(): void{\n",
    "        console.log(\"vrooom\")\n",
    "    }\n",
    "    honk(): void{\n",
    "        console.log('Bwaaaaaahp')\n",
    "    }\n",
    "}\n"
   ]
  },
  {
   "cell_type": "code",
   "execution_count": 59,
   "id": "c999dc22",
   "metadata": {},
   "outputs": [
    {
     "name": "stdout",
     "output_type": "stream",
     "text": [
      "hummmm\n",
      "squeeel\n",
      "MMmeep\n"
     ]
    }
   ],
   "source": [
    "let tesla = new SmartCar(2022)\n",
    "\n",
    "tesla.drive()\n",
    "tesla.brake()\n",
    "tesla.honk()"
   ]
  },
  {
   "cell_type": "code",
   "execution_count": 60,
   "id": "01a5ddb3",
   "metadata": {},
   "outputs": [
    {
     "name": "stdout",
     "output_type": "stream",
     "text": [
      "vrooom\n",
      "squeeel\n",
      "Bwaaaaaahp\n"
     ]
    }
   ],
   "source": [
    "let ford = new Truck(2020)\n",
    "\n",
    "ford.drive()\n",
    "ford.brake()\n",
    "ford.honk()"
   ]
  },
  {
   "cell_type": "markdown",
   "id": "00e0b56e",
   "metadata": {},
   "source": [
    "<a id=\"interfaces\"></a>\n",
    "\n",
    "### Interfaces"
   ]
  },
  {
   "cell_type": "markdown",
   "id": "96edbaa2",
   "metadata": {},
   "source": [
    "Let's redefine our Ducks now using Interfaces. Interfaces are generally names with the suffix `able` because the Interface says anything that implements me is able to do these actions.\n",
    "\n",
    "Interfaces also work with Polymorphism. \n",
    "\n",
    "To say a class uses an interface we use the keyword `implements`\n",
    "\n",
    "A class can implement many interfaces, yet extend only one class.\n",
    "\n",
    "An Interface can enforce many different methods/properties, but in this example we will keep it to one method per interface.  The Age property should belong to all ducks still, so we will keep the Duck base class to hold the age, for these examples we will assume the ducks all age exactly the same, so there will be no need to override the getters for age.\n",
    "\n",
    "<i>Interface vs Type</i>\n",
    "\n",
    "Interfaces and Types are extremely similar in TypeScript and for the most part Interfaces and Types can be used interchangeably in TypeScript.\n",
    "\n",
    "for an in-depth discussion on the differences visit https://www.educba.com/typescript-type-vs-interface/\n",
    "\n",
    "Interfaces are created to say this class will work with anything that needs this interface.  You can think of a CD as an interface.  There are tons of different CDs with different information on them, but they can all be put into a CD player to play there contents.  The CD is an interface that works with a CD Player then different artists can use the CD interface to create there own CDs filled with their own music.\n",
    "\n",
    "\n",
    "<strong>Note </strong> Interfaces do not have method bodies (Abstract classes have method bodies)"
   ]
  },
  {
   "cell_type": "code",
   "execution_count": null,
   "id": "badc552b",
   "metadata": {},
   "outputs": [],
   "source": [
    "// Original Abstract Class without Interfaces\n",
    "abstract class Duck {\n",
    "    \n",
    "    public color: string\n",
    "    constructor(protected age$:number){}\n",
    "    get age():number{return this.age$}\n",
    "    quack():void{}\n",
    "    swim():void{}\n",
    "    fly():void{}\n",
    "}"
   ]
  },
  {
   "cell_type": "code",
   "execution_count": 65,
   "id": "28054abf",
   "metadata": {},
   "outputs": [],
   "source": [
    "abstract class Duck {\n",
    "    constructor(protected age$: number){}\n",
    "    \n",
    "    get age(): number{return this.age$}\n",
    "}\n",
    "\n",
    "interface Quackable {\n",
    "    quack(): void\n",
    "}\n",
    "\n",
    "interface Swimmable{\n",
    "    swim(): void\n",
    "}\n",
    "\n",
    "interface Flyable {\n",
    "    fly(): void\n",
    "}\n"
   ]
  },
  {
   "cell_type": "code",
   "execution_count": 73,
   "id": "c8ac61fa",
   "metadata": {},
   "outputs": [],
   "source": [
    "class MallardDuck extends Duck implements Quackable, Swimmable, Flyable {\n",
    "    constructor(age$: number){\n",
    "        super(age$)\n",
    "    }\n",
    "    \n",
    "    quack(): void{\n",
    "        console.log('Mallard Quack Noises')\n",
    "    }\n",
    "    \n",
    "    swim(): void{\n",
    "        console.log('Swimming Like a Mallard')\n",
    "    }\n",
    "    \n",
    "    fly(): void{\n",
    "        console.log('Flying Like a Mallard')\n",
    "    }\n",
    "}\n",
    "\n",
    "class RedHeadedDuck extends Duck implements Quackable, Swimmable, Flyable {\n",
    "    constructor(age$: number){\n",
    "        super(age$)\n",
    "    }\n",
    "    \n",
    "    quack(): void{\n",
    "        console.log('RedHeaded Quack Noises')\n",
    "    }\n",
    "    \n",
    "    swim(): void{\n",
    "        console.log('Swimming Like a RedHeaded Duck')\n",
    "    }\n",
    "    \n",
    "    fly(): void{\n",
    "        console.log('Flying Like a RedHeaded Duck')\n",
    "    }\n",
    "}\n",
    "\n",
    "class DecoyDuck extends Duck implements Quackable, Swimmable {\n",
    "    constructor(age$: number){\n",
    "        super(age$)\n",
    "    }\n",
    "    \n",
    "    quack(): void{\n",
    "        console.log('Decoy Quack Noises')\n",
    "    }\n",
    "    \n",
    "    swim(): void{\n",
    "        console.log('Swimming Like a Decoy Duck')\n",
    "    }\n",
    "    \n",
    "}"
   ]
  },
  {
   "cell_type": "markdown",
   "id": "3e028f5b",
   "metadata": {},
   "source": [
    "We can use the Interface as a type to make an array of all the ducks that Quack"
   ]
  },
  {
   "cell_type": "code",
   "execution_count": 74,
   "id": "4fc873c2",
   "metadata": {},
   "outputs": [
    {
     "name": "stdout",
     "output_type": "stream",
     "text": [
      "Mallard Quack Noises\n",
      "RedHeaded Quack Noises\n",
      "Decoy Quack Noises\n"
     ]
    }
   ],
   "source": [
    "let quackableArray: Quackable[] = [\n",
    "    new MallardDuck(30),\n",
    "    new RedHeadedDuck(20),\n",
    "    new DecoyDuck(10)\n",
    "]\n",
    "\n",
    "for (let duck of quackableArray){\n",
    "    duck.quack()\n",
    "}\n",
    "\n",
    "\n"
   ]
  },
  {
   "cell_type": "code",
   "execution_count": 76,
   "id": "9c3b39a4",
   "metadata": {},
   "outputs": [
    {
     "name": "stdout",
     "output_type": "stream",
     "text": [
      "Flying Like a Mallard\n",
      "Flying Like a RedHeaded Duck\n"
     ]
    }
   ],
   "source": [
    "let flyableArray: Flyable[] = [\n",
    "    new MallardDuck(30),\n",
    "    new RedHeadedDuck(20)\n",
    "]\n",
    "\n",
    "for (let duck of flyableArray){\n",
    "    duck.fly()\n",
    "}"
   ]
  },
  {
   "cell_type": "code",
   "execution_count": 77,
   "id": "6ba8f2fa",
   "metadata": {},
   "outputs": [
    {
     "name": "stdout",
     "output_type": "stream",
     "text": [
      "30\n",
      "20\n",
      "10\n"
     ]
    }
   ],
   "source": [
    "let duckArray: Duck[] = [\n",
    "    new MallardDuck(30),\n",
    "    new RedHeadedDuck(20),\n",
    "    new DecoyDuck(10)\n",
    "]\n",
    "\n",
    "for (let duck of duckArray){\n",
    "    console.log(duck.age)\n",
    "}"
   ]
  },
  {
   "cell_type": "markdown",
   "id": "4d34a346",
   "metadata": {},
   "source": [
    "<a id=\"ice2\"></a>\n",
    "## In Class Exercise #2"
   ]
  },
  {
   "cell_type": "markdown",
   "id": "17ac5b75",
   "metadata": {},
   "source": [
    "Create a Interface Of MusicMedia that states anything implementing it should be able to `play` and create Classes: CD, Tape, Record to implement your interface\n",
    "\n",
    "To implement play:\n",
    "\n",
    "- CDs will print \"Spins and read with Laser\"\n",
    "- Tapes will print \"Magnetic Tape is read\"\n",
    "- Records will print \"Needle reads grooves\""
   ]
  },
  {
   "cell_type": "code",
   "execution_count": 87,
   "id": "ddab1fa0",
   "metadata": {},
   "outputs": [],
   "source": [
    "//Solution\n",
    "interface MusicMedia{\n",
    "    play():void\n",
    "}\n",
    "\n",
    "class CD implements MusicMedia{\n",
    "    play():void{\n",
    "        console.log('Spins and read with Laser')\n",
    "    }\n",
    "}\n",
    "\n",
    "class Tape implements MusicMedia{\n",
    "    play(): void{\n",
    "        console.log('Magnetic Tape is read')\n",
    "    }\n",
    "}\n",
    "\n",
    "class Record implements MusicMedia{\n",
    "    play(): void{\n",
    "        console.log('Needle reads grooves')\n",
    "    }\n",
    "}\n",
    "\n",
    "\n"
   ]
  },
  {
   "cell_type": "code",
   "execution_count": 92,
   "id": "52ea9a8d",
   "metadata": {},
   "outputs": [
    {
     "name": "stdout",
     "output_type": "stream",
     "text": [
      "Spins and read with Laser\n",
      "undefined\n"
     ]
    }
   ],
   "source": [
    "let mck = new CD\n",
    "console.log(mck.play())"
   ]
  },
  {
   "cell_type": "markdown",
   "id": "a4ec1618",
   "metadata": {},
   "source": [
    "<a id=\"rubber\"></a>\n",
    "\n",
    "#### Rubber Duck / Final Design"
   ]
  },
  {
   "cell_type": "markdown",
   "id": "fca66013",
   "metadata": {},
   "source": [
    "Lets take this a step futher, because we know we will be making a lot more types of ducks in the future.  Lets now assume a mallard and redheaded duck both quack and fly and swim the same and most ducks will have the same sort of flying and quacking and swimming mechanism.  Decoy ducks still fly, quack, and swim differently.  \n",
    "\n",
    "Now we are tasked with creating a Rubber Ducky.  A Rubber ducky will not be able to fly like our Decoy Duck, It will quack in its own squeaky way, and it will swim like the Decoy duck by floating.\n",
    "\n",
    "This is our final iteration of this Duck Design"
   ]
  },
  {
   "cell_type": "code",
   "execution_count": 109,
   "id": "55165d5f",
   "metadata": {},
   "outputs": [],
   "source": [
    "interface Quackable {\n",
    "    quack(): void\n",
    "}\n",
    "\n",
    "interface Swimmable {\n",
    "    swim(): void\n",
    "}\n",
    "\n",
    "interface Flyable {\n",
    "    fly(): void\n",
    "}\n",
    "\n",
    "// Custom Classes to implement our Interfaces\n",
    "\n",
    "class Quacks implements Quackable {\n",
    "    quack(){\n",
    "        console.log('Quack')\n",
    "    }\n",
    "}\n",
    "\n",
    "class Squeaks implements Quackable {\n",
    "    quack() {\n",
    "        console.log('Squeak')\n",
    "    }\n",
    "}\n",
    "\n",
    "class Muted implements Quackable {\n",
    "    quack(){\n",
    "        console.log('The sweet sound of silence')\n",
    "    }\n",
    "}\n",
    "\n",
    "class Swims implements Swimmable {\n",
    "    swim(){\n",
    "        console.log('Standard Duck swim techniques')\n",
    "    }\n",
    "}\n",
    "\n",
    "class Floats implements Swimmable {\n",
    "    swim(){\n",
    "        console.log('Float away my wayward duck')\n",
    "    }\n",
    "}\n",
    "\n",
    "class FlyWithWings implements Flyable {\n",
    "    fly(){\n",
    "        console.log('Flys with wings')\n",
    "    }\n",
    "}\n",
    "\n",
    "class NeverFlys implements Flyable {\n",
    "    fly(){\n",
    "        console.log('I cant fly :()')\n",
    "    }\n",
    "}\n",
    "\n",
    "abstract class Duck implements Quackable, Swimmable, Flyable {\n",
    "    protected swimAbility$: Swimmable\n",
    "    protected quackAbility$: Quackable\n",
    "    protected flyAbility$: Flyable\n",
    "    \n",
    "    constructor(protected age$: number){}\n",
    "    get age():number{return this.age$}\n",
    "    \n",
    "    set flyAbility(fa:Flyable){\n",
    "        this.flyAbility$ = fa\n",
    "    }\n",
    "    \n",
    "    set quackAbility(qa:Quackable){\n",
    "        this.quackAbility$ = qa\n",
    "    }\n",
    "    \n",
    "    set swimAbility(sa:Swimmable){\n",
    "        this.swimAbility$ = sa\n",
    "    }\n",
    "    \n",
    "    swim():void{\n",
    "        this.swimAbility$.swim()\n",
    "    }\n",
    "    \n",
    "    quack():void{\n",
    "        this.quackAbility$.quack()\n",
    "    }\n",
    "    \n",
    "    fly():void{\n",
    "        this.flyAbility$.fly()\n",
    "    }\n",
    "}\n"
   ]
  },
  {
   "cell_type": "code",
   "execution_count": 110,
   "id": "80713238",
   "metadata": {
    "scrolled": true
   },
   "outputs": [],
   "source": [
    "class MalardDuck extends Duck {\n",
    "    swimAbility$ = new Swims()\n",
    "    quackAbility$ = new Quacks()\n",
    "    flyAbility$ = new FlyWithWings()\n",
    "}\n",
    "\n",
    "class RedHeadedDuck extends Duck {\n",
    "    swimAbility$ = new Swims()\n",
    "    quackAbility$ = new Quacks()\n",
    "    flyAbility$ = new FlyWithWings()\n",
    "}\n",
    "\n",
    "class DecoyDuck extends Duck {\n",
    "    swimAbility$ = new Floats()\n",
    "    quackAbility$ = new Muted()\n",
    "    flyAbility$ = new NeverFlys()\n",
    "}\n",
    "\n",
    "class RubberDuck extends Duck {\n",
    "    swimAbility$ = new Floats()\n",
    "    quackAbility$ = new Squeaks()\n",
    "    flyAbility$ = new NeverFlys()\n",
    "}\n"
   ]
  },
  {
   "cell_type": "code",
   "execution_count": 111,
   "id": "f195550f",
   "metadata": {},
   "outputs": [],
   "source": [
    "let allDucks: Duck[] = [\n",
    "    new MallardDuck(30),\n",
    "    new RedHeadedDuck(35),\n",
    "    new DecoyDuck(15),\n",
    "    new RubberDuck(10)\n",
    "]"
   ]
  },
  {
   "cell_type": "code",
   "execution_count": 112,
   "id": "f9bc5a23",
   "metadata": {
    "scrolled": true
   },
   "outputs": [
    {
     "name": "stdout",
     "output_type": "stream",
     "text": [
      "30\n",
      "Mallard Quack Noises\n",
      "Swimming Like a Mallard\n",
      "Flying Like a Mallard\n",
      "35\n",
      "Quack\n",
      "Standard Duck swim techniques\n",
      "Flys with wings\n",
      "15\n",
      "The sweet sound of silence\n",
      "Float away my wayward duck\n",
      "I cant fly :()\n",
      "10\n",
      "Squeak\n",
      "Float away my wayward duck\n",
      "I cant fly :()\n"
     ]
    }
   ],
   "source": [
    "for (let duck of allDucks){\n",
    "    console.log(duck.age)\n",
    "    duck.quack()\n",
    "    duck.swim()\n",
    "    duck.fly()\n",
    "}"
   ]
  },
  {
   "cell_type": "code",
   "execution_count": 113,
   "id": "73ad69cc",
   "metadata": {},
   "outputs": [
    {
     "name": "stdout",
     "output_type": "stream",
     "text": [
      "Mallard Quack Noises\n",
      "30\n"
     ]
    }
   ],
   "source": [
    "let mallardduck = new MallardDuck(30)\n",
    "mallardduck.quack()\n",
    "mallardduck.age"
   ]
  },
  {
   "cell_type": "markdown",
   "id": "63a55ff8",
   "metadata": {},
   "source": [
    "<a id=\"mpoly\"></a>\n",
    "\n",
    "### More Polymorphism"
   ]
  },
  {
   "cell_type": "markdown",
   "id": "0af97308",
   "metadata": {},
   "source": [
    "We can now use the parent class of duck to declare all our duck types and expect the all same abilities to work on each instance of duck"
   ]
  },
  {
   "cell_type": "code",
   "execution_count": 118,
   "id": "7432af60",
   "metadata": {},
   "outputs": [
    {
     "name": "stdout",
     "output_type": "stream",
     "text": [
      "NeverFlys {}\n"
     ]
    }
   ],
   "source": [
    "mallardduck.flyAbility = new NeverFlys()\n"
   ]
  },
  {
   "cell_type": "code",
   "execution_count": 119,
   "id": "c49eb0cc",
   "metadata": {},
   "outputs": [
    {
     "name": "stdout",
     "output_type": "stream",
     "text": [
      "Flying Like a Mallard\n",
      "undefined\n"
     ]
    }
   ],
   "source": [
    "console.log(mallardduck.fly())\n"
   ]
  },
  {
   "cell_type": "markdown",
   "id": "ba6362fa",
   "metadata": {},
   "source": [
    "We also have the ability to change the implementations with this set up.  Lets make a RubberDuck learn to fly"
   ]
  },
  {
   "cell_type": "code",
   "execution_count": null,
   "id": "2b2e90c2",
   "metadata": {},
   "outputs": [],
   "source": [
    "\n",
    "\n"
   ]
  },
  {
   "cell_type": "markdown",
   "id": "f81a9dcd",
   "metadata": {},
   "source": [
    "<a id=\"ptoi\"></a>\n",
    "\n",
    "#### Programming To Interface"
   ]
  },
  {
   "cell_type": "markdown",
   "id": "6349da36",
   "metadata": {},
   "source": [
    "This design can be further improved, but it is a quite flexible design.  What we are learning is the idea of <b>Programming to Interface</b>.  This is the idea could really be stated <b>program to a supertype</b>.  The declared type of the variables should be a supertype, usually an abstract class or interface, so that the objects assiged to those variables can be of any concrete implementation of the supertype, which means the decalring class doesn't have to know about the object types! "
   ]
  },
  {
   "cell_type": "markdown",
   "id": "30151a8c",
   "metadata": {},
   "source": [
    "<a id=\"xi\"></a>\n",
    "\n",
    "### Extending Interfaces"
   ]
  },
  {
   "cell_type": "markdown",
   "id": "dc69d9ac",
   "metadata": {},
   "source": [
    "An interface can also be used alot like a type.  The main difference here is an interface describes the object while a type defines the object.  \n",
    "\n",
    "In TypeScript, We can even extend interfaces with the extends keyword."
   ]
  },
  {
   "cell_type": "code",
   "execution_count": 121,
   "id": "ff623c9d",
   "metadata": {
    "scrolled": true
   },
   "outputs": [
    {
     "name": "stdout",
     "output_type": "stream",
     "text": [
      "{\n",
      "  firstName: 'Nicole',\n",
      "  lastName: 'Kidman',\n",
      "  zip: 36474,\n",
      "  lastPost: 2023-07-12T02:23:23.517Z,\n",
      "  posts: [\n",
      "    {\n",
      "      title: 'Best Actress Ever',\n",
      "      body: \"I'm Nicole Kidman, the one and only\"\n",
      "    },\n",
      "    { title: 'Did you see me in Genius', body: \"I'm too legit\" }\n",
      "  ]\n",
      "}\n"
     ]
    }
   ],
   "source": [
    "interface Human {\n",
    "    firstName: string\n",
    "    lastName: string\n",
    "    zip: number\n",
    "}\n",
    "\n",
    "type Post = {\n",
    "    title: string,\n",
    "    body: string\n",
    "}\n",
    "\n",
    "interface Poster extends Human {\n",
    "    posts: Post[]\n",
    "    lastPost: Date\n",
    "}\n",
    "\n",
    "let myUser: Poster = {\n",
    "    firstName: 'Nicole',\n",
    "    lastName: 'Kidman',\n",
    "    zip: 36474,\n",
    "    lastPost: new Date(),\n",
    "    posts: [\n",
    "        {title: 'Best Actress Ever', body: \"I'm Nicole Kidman, the one and only\"},\n",
    "        {title: 'Did you see me in Genius', body: \"I'm too legit\"}\n",
    "    ]\n",
    "}\n",
    "\n",
    "console.log(myUser)\n",
    "\n",
    "\n",
    "\n"
   ]
  },
  {
   "cell_type": "code",
   "execution_count": 122,
   "id": "cfa724ad",
   "metadata": {},
   "outputs": [
    {
     "name": "stdout",
     "output_type": "stream",
     "text": [
      "{ name: 'Nhien', zip: 77489, age: 27 }\n"
     ]
    },
    {
     "name": "stderr",
     "output_type": "stream",
     "text": [
      "UncaughtException: Error: Unexpected pending rebuildTimer\n",
      "    at sys.setTimeout (C:\\Users\\13462\\anaconda3\\node_modules\\tslab\\dist\\converter.js:111:19)\n",
      "    at scheduleProgramUpdate (C:\\Users\\13462\\anaconda3\\node_modules\\tslab\\node_modules\\@tslab\\typescript-for-tslab\\lib\\typescript.js:122735:35)\n",
      "    at onSourceFileChange (C:\\Users\\13462\\anaconda3\\node_modules\\tslab\\node_modules\\@tslab\\typescript-for-tslab\\lib\\typescript.js:122876:7)\n",
      "    at C:\\Users\\13462\\anaconda3\\node_modules\\tslab\\node_modules\\@tslab\\typescript-for-tslab\\lib\\typescript.js:122868:56\n",
      "    at cb (C:\\Users\\13462\\anaconda3\\node_modules\\tslab\\dist\\converter.js:184:13)\n",
      "    at C:\\Users\\13462\\anaconda3\\node_modules\\tslab\\node_modules\\@tslab\\typescript-for-tslab\\lib\\typescript.js:5798:9\n",
      "    at C:\\Users\\13462\\anaconda3\\node_modules\\tslab\\node_modules\\@tslab\\typescript-for-tslab\\lib\\typescript.js:5560:101\n",
      "    at Array.forEach (<anonymous>)\n",
      "    at FSWatcher.<anonymous> (C:\\Users\\13462\\anaconda3\\node_modules\\tslab\\node_modules\\@tslab\\typescript-for-tslab\\lib\\typescript.js:5560:85)\n",
      "    at FSWatcher.emit (node:events:513:28)\n",
      "UncaughtException: Error: Unexpected pending rebuildTimer\n",
      "    at sys.setTimeout (C:\\Users\\13462\\anaconda3\\node_modules\\tslab\\dist\\converter.js:111:19)\n",
      "    at scheduleProgramUpdate (C:\\Users\\13462\\anaconda3\\node_modules\\tslab\\node_modules\\@tslab\\typescript-for-tslab\\lib\\typescript.js:122735:35)\n",
      "    at onSourceFileChange (C:\\Users\\13462\\anaconda3\\node_modules\\tslab\\node_modules\\@tslab\\typescript-for-tslab\\lib\\typescript.js:122876:7)\n",
      "    at C:\\Users\\13462\\anaconda3\\node_modules\\tslab\\node_modules\\@tslab\\typescript-for-tslab\\lib\\typescript.js:122868:56\n",
      "    at cb (C:\\Users\\13462\\anaconda3\\node_modules\\tslab\\dist\\converter.js:184:13)\n",
      "    at C:\\Users\\13462\\anaconda3\\node_modules\\tslab\\node_modules\\@tslab\\typescript-for-tslab\\lib\\typescript.js:5798:9\n",
      "    at C:\\Users\\13462\\anaconda3\\node_modules\\tslab\\node_modules\\@tslab\\typescript-for-tslab\\lib\\typescript.js:5560:101\n",
      "    at Array.forEach (<anonymous>)\n",
      "    at FSWatcher.<anonymous> (C:\\Users\\13462\\anaconda3\\node_modules\\tslab\\node_modules\\@tslab\\typescript-for-tslab\\lib\\typescript.js:5560:85)\n",
      "    at FSWatcher.emit (node:events:513:28)\n",
      "UncaughtException: Error: Unexpected pending rebuildTimer\n",
      "    at sys.setTimeout (C:\\Users\\13462\\anaconda3\\node_modules\\tslab\\dist\\converter.js:111:19)\n",
      "    at scheduleProgramUpdate (C:\\Users\\13462\\anaconda3\\node_modules\\tslab\\node_modules\\@tslab\\typescript-for-tslab\\lib\\typescript.js:122735:35)\n",
      "    at onSourceFileChange (C:\\Users\\13462\\anaconda3\\node_modules\\tslab\\node_modules\\@tslab\\typescript-for-tslab\\lib\\typescript.js:122876:7)\n",
      "    at C:\\Users\\13462\\anaconda3\\node_modules\\tslab\\node_modules\\@tslab\\typescript-for-tslab\\lib\\typescript.js:122868:56\n",
      "    at cb (C:\\Users\\13462\\anaconda3\\node_modules\\tslab\\dist\\converter.js:184:13)\n",
      "    at C:\\Users\\13462\\anaconda3\\node_modules\\tslab\\node_modules\\@tslab\\typescript-for-tslab\\lib\\typescript.js:5798:9\n",
      "    at C:\\Users\\13462\\anaconda3\\node_modules\\tslab\\node_modules\\@tslab\\typescript-for-tslab\\lib\\typescript.js:5560:101\n",
      "    at Array.forEach (<anonymous>)\n",
      "    at FSWatcher.<anonymous> (C:\\Users\\13462\\anaconda3\\node_modules\\tslab\\node_modules\\@tslab\\typescript-for-tslab\\lib\\typescript.js:5560:85)\n",
      "    at FSWatcher.emit (node:events:513:28)\n",
      "UncaughtException: Error: Unexpected pending rebuildTimer\n",
      "    at sys.setTimeout (C:\\Users\\13462\\anaconda3\\node_modules\\tslab\\dist\\converter.js:111:19)\n",
      "    at scheduleProgramUpdate (C:\\Users\\13462\\anaconda3\\node_modules\\tslab\\node_modules\\@tslab\\typescript-for-tslab\\lib\\typescript.js:122735:35)\n",
      "    at onSourceFileChange (C:\\Users\\13462\\anaconda3\\node_modules\\tslab\\node_modules\\@tslab\\typescript-for-tslab\\lib\\typescript.js:122876:7)\n",
      "    at C:\\Users\\13462\\anaconda3\\node_modules\\tslab\\node_modules\\@tslab\\typescript-for-tslab\\lib\\typescript.js:122868:56\n",
      "    at cb (C:\\Users\\13462\\anaconda3\\node_modules\\tslab\\dist\\converter.js:184:13)\n",
      "    at C:\\Users\\13462\\anaconda3\\node_modules\\tslab\\node_modules\\@tslab\\typescript-for-tslab\\lib\\typescript.js:5798:9\n",
      "    at C:\\Users\\13462\\anaconda3\\node_modules\\tslab\\node_modules\\@tslab\\typescript-for-tslab\\lib\\typescript.js:5560:101\n",
      "    at Array.forEach (<anonymous>)\n",
      "    at FSWatcher.<anonymous> (C:\\Users\\13462\\anaconda3\\node_modules\\tslab\\node_modules\\@tslab\\typescript-for-tslab\\lib\\typescript.js:5560:85)\n",
      "    at FSWatcher.emit (node:events:513:28)\n",
      "UncaughtException: Error: Unexpected pending rebuildTimer\n",
      "    at sys.setTimeout (C:\\Users\\13462\\anaconda3\\node_modules\\tslab\\dist\\converter.js:111:19)\n",
      "    at scheduleProgramUpdate (C:\\Users\\13462\\anaconda3\\node_modules\\tslab\\node_modules\\@tslab\\typescript-for-tslab\\lib\\typescript.js:122735:35)\n",
      "    at onSourceFileChange (C:\\Users\\13462\\anaconda3\\node_modules\\tslab\\node_modules\\@tslab\\typescript-for-tslab\\lib\\typescript.js:122876:7)\n",
      "    at C:\\Users\\13462\\anaconda3\\node_modules\\tslab\\node_modules\\@tslab\\typescript-for-tslab\\lib\\typescript.js:122868:56\n",
      "    at cb (C:\\Users\\13462\\anaconda3\\node_modules\\tslab\\dist\\converter.js:184:13)\n",
      "    at C:\\Users\\13462\\anaconda3\\node_modules\\tslab\\node_modules\\@tslab\\typescript-for-tslab\\lib\\typescript.js:5798:9\n",
      "    at C:\\Users\\13462\\anaconda3\\node_modules\\tslab\\node_modules\\@tslab\\typescript-for-tslab\\lib\\typescript.js:5560:101\n",
      "    at Array.forEach (<anonymous>)\n",
      "    at FSWatcher.<anonymous> (C:\\Users\\13462\\anaconda3\\node_modules\\tslab\\node_modules\\@tslab\\typescript-for-tslab\\lib\\typescript.js:5560:85)\n",
      "    at FSWatcher.emit (node:events:513:28)\n",
      "UncaughtException: Error: Unexpected pending rebuildTimer\n",
      "    at sys.setTimeout (C:\\Users\\13462\\anaconda3\\node_modules\\tslab\\dist\\converter.js:111:19)\n",
      "    at scheduleProgramUpdate (C:\\Users\\13462\\anaconda3\\node_modules\\tslab\\node_modules\\@tslab\\typescript-for-tslab\\lib\\typescript.js:122735:35)\n",
      "    at onSourceFileChange (C:\\Users\\13462\\anaconda3\\node_modules\\tslab\\node_modules\\@tslab\\typescript-for-tslab\\lib\\typescript.js:122876:7)\n",
      "    at C:\\Users\\13462\\anaconda3\\node_modules\\tslab\\node_modules\\@tslab\\typescript-for-tslab\\lib\\typescript.js:122868:56\n",
      "    at cb (C:\\Users\\13462\\anaconda3\\node_modules\\tslab\\dist\\converter.js:184:13)\n",
      "    at C:\\Users\\13462\\anaconda3\\node_modules\\tslab\\node_modules\\@tslab\\typescript-for-tslab\\lib\\typescript.js:5798:9\n",
      "    at C:\\Users\\13462\\anaconda3\\node_modules\\tslab\\node_modules\\@tslab\\typescript-for-tslab\\lib\\typescript.js:5560:101\n",
      "    at Array.forEach (<anonymous>)\n",
      "    at FSWatcher.<anonymous> (C:\\Users\\13462\\anaconda3\\node_modules\\tslab\\node_modules\\@tslab\\typescript-for-tslab\\lib\\typescript.js:5560:85)\n",
      "    at FSWatcher.emit (node:events:513:28)\n",
      "UncaughtException: Error: Unexpected pending rebuildTimer\n",
      "    at sys.setTimeout (C:\\Users\\13462\\anaconda3\\node_modules\\tslab\\dist\\converter.js:111:19)\n",
      "    at scheduleProgramUpdate (C:\\Users\\13462\\anaconda3\\node_modules\\tslab\\node_modules\\@tslab\\typescript-for-tslab\\lib\\typescript.js:122735:35)\n",
      "    at onSourceFileChange (C:\\Users\\13462\\anaconda3\\node_modules\\tslab\\node_modules\\@tslab\\typescript-for-tslab\\lib\\typescript.js:122876:7)\n",
      "    at C:\\Users\\13462\\anaconda3\\node_modules\\tslab\\node_modules\\@tslab\\typescript-for-tslab\\lib\\typescript.js:122868:56\n",
      "    at cb (C:\\Users\\13462\\anaconda3\\node_modules\\tslab\\dist\\converter.js:184:13)\n",
      "    at C:\\Users\\13462\\anaconda3\\node_modules\\tslab\\node_modules\\@tslab\\typescript-for-tslab\\lib\\typescript.js:5798:9\n",
      "    at C:\\Users\\13462\\anaconda3\\node_modules\\tslab\\node_modules\\@tslab\\typescript-for-tslab\\lib\\typescript.js:5560:101\n",
      "    at Array.forEach (<anonymous>)\n",
      "    at FSWatcher.<anonymous> (C:\\Users\\13462\\anaconda3\\node_modules\\tslab\\node_modules\\@tslab\\typescript-for-tslab\\lib\\typescript.js:5560:85)\n",
      "    at FSWatcher.emit (node:events:513:28)\n",
      "UncaughtException: Error: Unexpected pending rebuildTimer\n",
      "    at sys.setTimeout (C:\\Users\\13462\\anaconda3\\node_modules\\tslab\\dist\\converter.js:111:19)\n",
      "    at scheduleProgramUpdate (C:\\Users\\13462\\anaconda3\\node_modules\\tslab\\node_modules\\@tslab\\typescript-for-tslab\\lib\\typescript.js:122735:35)\n",
      "    at onSourceFileChange (C:\\Users\\13462\\anaconda3\\node_modules\\tslab\\node_modules\\@tslab\\typescript-for-tslab\\lib\\typescript.js:122876:7)\n",
      "    at C:\\Users\\13462\\anaconda3\\node_modules\\tslab\\node_modules\\@tslab\\typescript-for-tslab\\lib\\typescript.js:122868:56\n",
      "    at cb (C:\\Users\\13462\\anaconda3\\node_modules\\tslab\\dist\\converter.js:184:13)\n",
      "    at C:\\Users\\13462\\anaconda3\\node_modules\\tslab\\node_modules\\@tslab\\typescript-for-tslab\\lib\\typescript.js:5798:9\n",
      "    at C:\\Users\\13462\\anaconda3\\node_modules\\tslab\\node_modules\\@tslab\\typescript-for-tslab\\lib\\typescript.js:5560:101\n",
      "    at Array.forEach (<anonymous>)\n",
      "    at FSWatcher.<anonymous> (C:\\Users\\13462\\anaconda3\\node_modules\\tslab\\node_modules\\@tslab\\typescript-for-tslab\\lib\\typescript.js:5560:85)\n",
      "    at FSWatcher.emit (node:events:513:28)\n"
     ]
    },
    {
     "name": "stderr",
     "output_type": "stream",
     "text": [
      "UncaughtException: Error: Unexpected pending rebuildTimer\n",
      "    at sys.setTimeout (C:\\Users\\13462\\anaconda3\\node_modules\\tslab\\dist\\converter.js:111:19)\n",
      "    at scheduleProgramUpdate (C:\\Users\\13462\\anaconda3\\node_modules\\tslab\\node_modules\\@tslab\\typescript-for-tslab\\lib\\typescript.js:122735:35)\n",
      "    at onSourceFileChange (C:\\Users\\13462\\anaconda3\\node_modules\\tslab\\node_modules\\@tslab\\typescript-for-tslab\\lib\\typescript.js:122876:7)\n",
      "    at C:\\Users\\13462\\anaconda3\\node_modules\\tslab\\node_modules\\@tslab\\typescript-for-tslab\\lib\\typescript.js:122868:56\n",
      "    at cb (C:\\Users\\13462\\anaconda3\\node_modules\\tslab\\dist\\converter.js:184:13)\n",
      "    at C:\\Users\\13462\\anaconda3\\node_modules\\tslab\\node_modules\\@tslab\\typescript-for-tslab\\lib\\typescript.js:5798:9\n",
      "    at C:\\Users\\13462\\anaconda3\\node_modules\\tslab\\node_modules\\@tslab\\typescript-for-tslab\\lib\\typescript.js:5560:101\n",
      "    at Array.forEach (<anonymous>)\n",
      "    at FSWatcher.<anonymous> (C:\\Users\\13462\\anaconda3\\node_modules\\tslab\\node_modules\\@tslab\\typescript-for-tslab\\lib\\typescript.js:5560:85)\n",
      "    at FSWatcher.emit (node:events:513:28)\n",
      "UncaughtException: Error: Unexpected pending rebuildTimer\n",
      "    at sys.setTimeout (C:\\Users\\13462\\anaconda3\\node_modules\\tslab\\dist\\converter.js:111:19)\n",
      "    at scheduleProgramUpdate (C:\\Users\\13462\\anaconda3\\node_modules\\tslab\\node_modules\\@tslab\\typescript-for-tslab\\lib\\typescript.js:122735:35)\n",
      "    at onSourceFileChange (C:\\Users\\13462\\anaconda3\\node_modules\\tslab\\node_modules\\@tslab\\typescript-for-tslab\\lib\\typescript.js:122876:7)\n",
      "    at C:\\Users\\13462\\anaconda3\\node_modules\\tslab\\node_modules\\@tslab\\typescript-for-tslab\\lib\\typescript.js:122868:56\n",
      "    at cb (C:\\Users\\13462\\anaconda3\\node_modules\\tslab\\dist\\converter.js:184:13)\n",
      "    at C:\\Users\\13462\\anaconda3\\node_modules\\tslab\\node_modules\\@tslab\\typescript-for-tslab\\lib\\typescript.js:5798:9\n",
      "    at C:\\Users\\13462\\anaconda3\\node_modules\\tslab\\node_modules\\@tslab\\typescript-for-tslab\\lib\\typescript.js:5560:101\n",
      "    at Array.forEach (<anonymous>)\n",
      "    at FSWatcher.<anonymous> (C:\\Users\\13462\\anaconda3\\node_modules\\tslab\\node_modules\\@tslab\\typescript-for-tslab\\lib\\typescript.js:5560:85)\n",
      "    at FSWatcher.emit (node:events:513:28)\n",
      "UncaughtException: Error: Unexpected pending rebuildTimer\n",
      "    at sys.setTimeout (C:\\Users\\13462\\anaconda3\\node_modules\\tslab\\dist\\converter.js:111:19)\n",
      "    at scheduleProgramUpdate (C:\\Users\\13462\\anaconda3\\node_modules\\tslab\\node_modules\\@tslab\\typescript-for-tslab\\lib\\typescript.js:122735:35)\n",
      "    at onSourceFileChange (C:\\Users\\13462\\anaconda3\\node_modules\\tslab\\node_modules\\@tslab\\typescript-for-tslab\\lib\\typescript.js:122876:7)\n",
      "    at C:\\Users\\13462\\anaconda3\\node_modules\\tslab\\node_modules\\@tslab\\typescript-for-tslab\\lib\\typescript.js:122868:56\n",
      "    at cb (C:\\Users\\13462\\anaconda3\\node_modules\\tslab\\dist\\converter.js:184:13)\n",
      "    at C:\\Users\\13462\\anaconda3\\node_modules\\tslab\\node_modules\\@tslab\\typescript-for-tslab\\lib\\typescript.js:5798:9\n",
      "    at C:\\Users\\13462\\anaconda3\\node_modules\\tslab\\node_modules\\@tslab\\typescript-for-tslab\\lib\\typescript.js:5560:101\n",
      "    at Array.forEach (<anonymous>)\n",
      "    at FSWatcher.<anonymous> (C:\\Users\\13462\\anaconda3\\node_modules\\tslab\\node_modules\\@tslab\\typescript-for-tslab\\lib\\typescript.js:5560:85)\n",
      "    at FSWatcher.emit (node:events:513:28)\n",
      "UncaughtException: Error: Unexpected pending rebuildTimer\n",
      "    at sys.setTimeout (C:\\Users\\13462\\anaconda3\\node_modules\\tslab\\dist\\converter.js:111:19)\n",
      "    at scheduleProgramUpdate (C:\\Users\\13462\\anaconda3\\node_modules\\tslab\\node_modules\\@tslab\\typescript-for-tslab\\lib\\typescript.js:122735:35)\n",
      "    at onSourceFileChange (C:\\Users\\13462\\anaconda3\\node_modules\\tslab\\node_modules\\@tslab\\typescript-for-tslab\\lib\\typescript.js:122876:7)\n",
      "    at C:\\Users\\13462\\anaconda3\\node_modules\\tslab\\node_modules\\@tslab\\typescript-for-tslab\\lib\\typescript.js:122868:56\n",
      "    at cb (C:\\Users\\13462\\anaconda3\\node_modules\\tslab\\dist\\converter.js:184:13)\n",
      "    at C:\\Users\\13462\\anaconda3\\node_modules\\tslab\\node_modules\\@tslab\\typescript-for-tslab\\lib\\typescript.js:5798:9\n",
      "    at C:\\Users\\13462\\anaconda3\\node_modules\\tslab\\node_modules\\@tslab\\typescript-for-tslab\\lib\\typescript.js:5560:101\n",
      "    at Array.forEach (<anonymous>)\n",
      "    at FSWatcher.<anonymous> (C:\\Users\\13462\\anaconda3\\node_modules\\tslab\\node_modules\\@tslab\\typescript-for-tslab\\lib\\typescript.js:5560:85)\n",
      "    at FSWatcher.emit (node:events:513:28)\n",
      "UncaughtException: Error: Unexpected pending rebuildTimer\n",
      "    at sys.setTimeout (C:\\Users\\13462\\anaconda3\\node_modules\\tslab\\dist\\converter.js:111:19)\n",
      "    at scheduleProgramUpdate (C:\\Users\\13462\\anaconda3\\node_modules\\tslab\\node_modules\\@tslab\\typescript-for-tslab\\lib\\typescript.js:122735:35)\n",
      "    at onSourceFileChange (C:\\Users\\13462\\anaconda3\\node_modules\\tslab\\node_modules\\@tslab\\typescript-for-tslab\\lib\\typescript.js:122876:7)\n",
      "    at C:\\Users\\13462\\anaconda3\\node_modules\\tslab\\node_modules\\@tslab\\typescript-for-tslab\\lib\\typescript.js:122868:56\n",
      "    at cb (C:\\Users\\13462\\anaconda3\\node_modules\\tslab\\dist\\converter.js:184:13)\n",
      "    at C:\\Users\\13462\\anaconda3\\node_modules\\tslab\\node_modules\\@tslab\\typescript-for-tslab\\lib\\typescript.js:5798:9\n",
      "    at C:\\Users\\13462\\anaconda3\\node_modules\\tslab\\node_modules\\@tslab\\typescript-for-tslab\\lib\\typescript.js:5560:101\n",
      "    at Array.forEach (<anonymous>)\n",
      "    at FSWatcher.<anonymous> (C:\\Users\\13462\\anaconda3\\node_modules\\tslab\\node_modules\\@tslab\\typescript-for-tslab\\lib\\typescript.js:5560:85)\n",
      "    at FSWatcher.emit (node:events:513:28)\n",
      "UncaughtException: Error: Unexpected pending rebuildTimer\n",
      "    at sys.setTimeout (C:\\Users\\13462\\anaconda3\\node_modules\\tslab\\dist\\converter.js:111:19)\n",
      "    at scheduleProgramUpdate (C:\\Users\\13462\\anaconda3\\node_modules\\tslab\\node_modules\\@tslab\\typescript-for-tslab\\lib\\typescript.js:122735:35)\n",
      "    at onSourceFileChange (C:\\Users\\13462\\anaconda3\\node_modules\\tslab\\node_modules\\@tslab\\typescript-for-tslab\\lib\\typescript.js:122876:7)\n",
      "    at C:\\Users\\13462\\anaconda3\\node_modules\\tslab\\node_modules\\@tslab\\typescript-for-tslab\\lib\\typescript.js:122868:56\n",
      "    at cb (C:\\Users\\13462\\anaconda3\\node_modules\\tslab\\dist\\converter.js:184:13)\n",
      "    at C:\\Users\\13462\\anaconda3\\node_modules\\tslab\\node_modules\\@tslab\\typescript-for-tslab\\lib\\typescript.js:5798:9\n",
      "    at C:\\Users\\13462\\anaconda3\\node_modules\\tslab\\node_modules\\@tslab\\typescript-for-tslab\\lib\\typescript.js:5560:101\n",
      "    at Array.forEach (<anonymous>)\n",
      "    at FSWatcher.<anonymous> (C:\\Users\\13462\\anaconda3\\node_modules\\tslab\\node_modules\\@tslab\\typescript-for-tslab\\lib\\typescript.js:5560:85)\n",
      "    at FSWatcher.emit (node:events:513:28)\n",
      "UncaughtException: Error: Unexpected pending rebuildTimer\n",
      "    at sys.setTimeout (C:\\Users\\13462\\anaconda3\\node_modules\\tslab\\dist\\converter.js:111:19)\n",
      "    at scheduleProgramUpdate (C:\\Users\\13462\\anaconda3\\node_modules\\tslab\\node_modules\\@tslab\\typescript-for-tslab\\lib\\typescript.js:122735:35)\n",
      "    at onSourceFileChange (C:\\Users\\13462\\anaconda3\\node_modules\\tslab\\node_modules\\@tslab\\typescript-for-tslab\\lib\\typescript.js:122876:7)\n",
      "    at C:\\Users\\13462\\anaconda3\\node_modules\\tslab\\node_modules\\@tslab\\typescript-for-tslab\\lib\\typescript.js:122868:56\n",
      "    at cb (C:\\Users\\13462\\anaconda3\\node_modules\\tslab\\dist\\converter.js:184:13)\n",
      "    at C:\\Users\\13462\\anaconda3\\node_modules\\tslab\\node_modules\\@tslab\\typescript-for-tslab\\lib\\typescript.js:5798:9\n",
      "    at C:\\Users\\13462\\anaconda3\\node_modules\\tslab\\node_modules\\@tslab\\typescript-for-tslab\\lib\\typescript.js:5560:101\n",
      "    at Array.forEach (<anonymous>)\n",
      "    at FSWatcher.<anonymous> (C:\\Users\\13462\\anaconda3\\node_modules\\tslab\\node_modules\\@tslab\\typescript-for-tslab\\lib\\typescript.js:5560:85)\n",
      "    at FSWatcher.emit (node:events:513:28)\n",
      "UncaughtException: Error: Unexpected pending rebuildTimer\n",
      "    at sys.setTimeout (C:\\Users\\13462\\anaconda3\\node_modules\\tslab\\dist\\converter.js:111:19)\n",
      "    at scheduleProgramUpdate (C:\\Users\\13462\\anaconda3\\node_modules\\tslab\\node_modules\\@tslab\\typescript-for-tslab\\lib\\typescript.js:122735:35)\n",
      "    at onSourceFileChange (C:\\Users\\13462\\anaconda3\\node_modules\\tslab\\node_modules\\@tslab\\typescript-for-tslab\\lib\\typescript.js:122876:7)\n",
      "    at C:\\Users\\13462\\anaconda3\\node_modules\\tslab\\node_modules\\@tslab\\typescript-for-tslab\\lib\\typescript.js:122868:56\n",
      "    at cb (C:\\Users\\13462\\anaconda3\\node_modules\\tslab\\dist\\converter.js:184:13)\n",
      "    at C:\\Users\\13462\\anaconda3\\node_modules\\tslab\\node_modules\\@tslab\\typescript-for-tslab\\lib\\typescript.js:5798:9\n",
      "    at C:\\Users\\13462\\anaconda3\\node_modules\\tslab\\node_modules\\@tslab\\typescript-for-tslab\\lib\\typescript.js:5560:101\n",
      "    at Array.forEach (<anonymous>)\n",
      "    at FSWatcher.<anonymous> (C:\\Users\\13462\\anaconda3\\node_modules\\tslab\\node_modules\\@tslab\\typescript-for-tslab\\lib\\typescript.js:5560:85)\n",
      "    at FSWatcher.emit (node:events:513:28)\n"
     ]
    },
    {
     "name": "stderr",
     "output_type": "stream",
     "text": [
      "UncaughtException: Error: Unexpected pending rebuildTimer\n",
      "    at sys.setTimeout (C:\\Users\\13462\\anaconda3\\node_modules\\tslab\\dist\\converter.js:111:19)\n",
      "    at scheduleProgramUpdate (C:\\Users\\13462\\anaconda3\\node_modules\\tslab\\node_modules\\@tslab\\typescript-for-tslab\\lib\\typescript.js:122735:35)\n",
      "    at onSourceFileChange (C:\\Users\\13462\\anaconda3\\node_modules\\tslab\\node_modules\\@tslab\\typescript-for-tslab\\lib\\typescript.js:122876:7)\n",
      "    at C:\\Users\\13462\\anaconda3\\node_modules\\tslab\\node_modules\\@tslab\\typescript-for-tslab\\lib\\typescript.js:122868:56\n",
      "    at cb (C:\\Users\\13462\\anaconda3\\node_modules\\tslab\\dist\\converter.js:184:13)\n",
      "    at C:\\Users\\13462\\anaconda3\\node_modules\\tslab\\node_modules\\@tslab\\typescript-for-tslab\\lib\\typescript.js:5798:9\n",
      "    at C:\\Users\\13462\\anaconda3\\node_modules\\tslab\\node_modules\\@tslab\\typescript-for-tslab\\lib\\typescript.js:5560:101\n",
      "    at Array.forEach (<anonymous>)\n",
      "    at FSWatcher.<anonymous> (C:\\Users\\13462\\anaconda3\\node_modules\\tslab\\node_modules\\@tslab\\typescript-for-tslab\\lib\\typescript.js:5560:85)\n",
      "    at FSWatcher.emit (node:events:513:28)\n",
      "UncaughtException: Error: Unexpected pending rebuildTimer\n",
      "    at sys.setTimeout (C:\\Users\\13462\\anaconda3\\node_modules\\tslab\\dist\\converter.js:111:19)\n",
      "    at scheduleProgramUpdate (C:\\Users\\13462\\anaconda3\\node_modules\\tslab\\node_modules\\@tslab\\typescript-for-tslab\\lib\\typescript.js:122735:35)\n",
      "    at onSourceFileChange (C:\\Users\\13462\\anaconda3\\node_modules\\tslab\\node_modules\\@tslab\\typescript-for-tslab\\lib\\typescript.js:122876:7)\n",
      "    at C:\\Users\\13462\\anaconda3\\node_modules\\tslab\\node_modules\\@tslab\\typescript-for-tslab\\lib\\typescript.js:122868:56\n",
      "    at cb (C:\\Users\\13462\\anaconda3\\node_modules\\tslab\\dist\\converter.js:184:13)\n",
      "    at C:\\Users\\13462\\anaconda3\\node_modules\\tslab\\node_modules\\@tslab\\typescript-for-tslab\\lib\\typescript.js:5798:9\n",
      "    at C:\\Users\\13462\\anaconda3\\node_modules\\tslab\\node_modules\\@tslab\\typescript-for-tslab\\lib\\typescript.js:5560:101\n",
      "    at Array.forEach (<anonymous>)\n",
      "    at FSWatcher.<anonymous> (C:\\Users\\13462\\anaconda3\\node_modules\\tslab\\node_modules\\@tslab\\typescript-for-tslab\\lib\\typescript.js:5560:85)\n",
      "    at FSWatcher.emit (node:events:513:28)\n",
      "UncaughtException: Error: Unexpected pending rebuildTimer\n",
      "    at sys.setTimeout (C:\\Users\\13462\\anaconda3\\node_modules\\tslab\\dist\\converter.js:111:19)\n",
      "    at scheduleProgramUpdate (C:\\Users\\13462\\anaconda3\\node_modules\\tslab\\node_modules\\@tslab\\typescript-for-tslab\\lib\\typescript.js:122735:35)\n",
      "    at onSourceFileChange (C:\\Users\\13462\\anaconda3\\node_modules\\tslab\\node_modules\\@tslab\\typescript-for-tslab\\lib\\typescript.js:122876:7)\n",
      "    at C:\\Users\\13462\\anaconda3\\node_modules\\tslab\\node_modules\\@tslab\\typescript-for-tslab\\lib\\typescript.js:122868:56\n",
      "    at cb (C:\\Users\\13462\\anaconda3\\node_modules\\tslab\\dist\\converter.js:184:13)\n",
      "    at C:\\Users\\13462\\anaconda3\\node_modules\\tslab\\node_modules\\@tslab\\typescript-for-tslab\\lib\\typescript.js:5798:9\n",
      "    at C:\\Users\\13462\\anaconda3\\node_modules\\tslab\\node_modules\\@tslab\\typescript-for-tslab\\lib\\typescript.js:5560:101\n",
      "    at Array.forEach (<anonymous>)\n",
      "    at FSWatcher.<anonymous> (C:\\Users\\13462\\anaconda3\\node_modules\\tslab\\node_modules\\@tslab\\typescript-for-tslab\\lib\\typescript.js:5560:85)\n",
      "    at FSWatcher.emit (node:events:513:28)\n",
      "UncaughtException: Error: Unexpected pending rebuildTimer\n",
      "    at sys.setTimeout (C:\\Users\\13462\\anaconda3\\node_modules\\tslab\\dist\\converter.js:111:19)\n",
      "    at scheduleProgramUpdate (C:\\Users\\13462\\anaconda3\\node_modules\\tslab\\node_modules\\@tslab\\typescript-for-tslab\\lib\\typescript.js:122735:35)\n",
      "    at onSourceFileChange (C:\\Users\\13462\\anaconda3\\node_modules\\tslab\\node_modules\\@tslab\\typescript-for-tslab\\lib\\typescript.js:122876:7)\n",
      "    at C:\\Users\\13462\\anaconda3\\node_modules\\tslab\\node_modules\\@tslab\\typescript-for-tslab\\lib\\typescript.js:122868:56\n",
      "    at cb (C:\\Users\\13462\\anaconda3\\node_modules\\tslab\\dist\\converter.js:184:13)\n",
      "    at C:\\Users\\13462\\anaconda3\\node_modules\\tslab\\node_modules\\@tslab\\typescript-for-tslab\\lib\\typescript.js:5798:9\n",
      "    at C:\\Users\\13462\\anaconda3\\node_modules\\tslab\\node_modules\\@tslab\\typescript-for-tslab\\lib\\typescript.js:5560:101\n",
      "    at Array.forEach (<anonymous>)\n",
      "    at FSWatcher.<anonymous> (C:\\Users\\13462\\anaconda3\\node_modules\\tslab\\node_modules\\@tslab\\typescript-for-tslab\\lib\\typescript.js:5560:85)\n",
      "    at FSWatcher.emit (node:events:513:28)\n",
      "UncaughtException: Error: Unexpected pending rebuildTimer\n",
      "    at sys.setTimeout (C:\\Users\\13462\\anaconda3\\node_modules\\tslab\\dist\\converter.js:111:19)\n",
      "    at scheduleProgramUpdate (C:\\Users\\13462\\anaconda3\\node_modules\\tslab\\node_modules\\@tslab\\typescript-for-tslab\\lib\\typescript.js:122735:35)\n",
      "    at onSourceFileChange (C:\\Users\\13462\\anaconda3\\node_modules\\tslab\\node_modules\\@tslab\\typescript-for-tslab\\lib\\typescript.js:122876:7)\n",
      "    at C:\\Users\\13462\\anaconda3\\node_modules\\tslab\\node_modules\\@tslab\\typescript-for-tslab\\lib\\typescript.js:122868:56\n",
      "    at cb (C:\\Users\\13462\\anaconda3\\node_modules\\tslab\\dist\\converter.js:184:13)\n",
      "    at C:\\Users\\13462\\anaconda3\\node_modules\\tslab\\node_modules\\@tslab\\typescript-for-tslab\\lib\\typescript.js:5798:9\n",
      "    at C:\\Users\\13462\\anaconda3\\node_modules\\tslab\\node_modules\\@tslab\\typescript-for-tslab\\lib\\typescript.js:5560:101\n",
      "    at Array.forEach (<anonymous>)\n",
      "    at FSWatcher.<anonymous> (C:\\Users\\13462\\anaconda3\\node_modules\\tslab\\node_modules\\@tslab\\typescript-for-tslab\\lib\\typescript.js:5560:85)\n",
      "    at FSWatcher.emit (node:events:513:28)\n",
      "UncaughtException: Error: Unexpected pending rebuildTimer\n",
      "    at sys.setTimeout (C:\\Users\\13462\\anaconda3\\node_modules\\tslab\\dist\\converter.js:111:19)\n",
      "    at scheduleProgramUpdate (C:\\Users\\13462\\anaconda3\\node_modules\\tslab\\node_modules\\@tslab\\typescript-for-tslab\\lib\\typescript.js:122735:35)\n",
      "    at onSourceFileChange (C:\\Users\\13462\\anaconda3\\node_modules\\tslab\\node_modules\\@tslab\\typescript-for-tslab\\lib\\typescript.js:122876:7)\n",
      "    at C:\\Users\\13462\\anaconda3\\node_modules\\tslab\\node_modules\\@tslab\\typescript-for-tslab\\lib\\typescript.js:122868:56\n",
      "    at cb (C:\\Users\\13462\\anaconda3\\node_modules\\tslab\\dist\\converter.js:184:13)\n",
      "    at C:\\Users\\13462\\anaconda3\\node_modules\\tslab\\node_modules\\@tslab\\typescript-for-tslab\\lib\\typescript.js:5798:9\n",
      "    at C:\\Users\\13462\\anaconda3\\node_modules\\tslab\\node_modules\\@tslab\\typescript-for-tslab\\lib\\typescript.js:5560:101\n",
      "    at Array.forEach (<anonymous>)\n",
      "    at FSWatcher.<anonymous> (C:\\Users\\13462\\anaconda3\\node_modules\\tslab\\node_modules\\@tslab\\typescript-for-tslab\\lib\\typescript.js:5560:85)\n",
      "    at FSWatcher.emit (node:events:513:28)\n",
      "UncaughtException: Error: Unexpected pending rebuildTimer\n",
      "    at sys.setTimeout (C:\\Users\\13462\\anaconda3\\node_modules\\tslab\\dist\\converter.js:111:19)\n",
      "    at scheduleProgramUpdate (C:\\Users\\13462\\anaconda3\\node_modules\\tslab\\node_modules\\@tslab\\typescript-for-tslab\\lib\\typescript.js:122735:35)\n",
      "    at onSourceFileChange (C:\\Users\\13462\\anaconda3\\node_modules\\tslab\\node_modules\\@tslab\\typescript-for-tslab\\lib\\typescript.js:122876:7)\n",
      "    at C:\\Users\\13462\\anaconda3\\node_modules\\tslab\\node_modules\\@tslab\\typescript-for-tslab\\lib\\typescript.js:122868:56\n",
      "    at cb (C:\\Users\\13462\\anaconda3\\node_modules\\tslab\\dist\\converter.js:184:13)\n",
      "    at C:\\Users\\13462\\anaconda3\\node_modules\\tslab\\node_modules\\@tslab\\typescript-for-tslab\\lib\\typescript.js:5798:9\n",
      "    at C:\\Users\\13462\\anaconda3\\node_modules\\tslab\\node_modules\\@tslab\\typescript-for-tslab\\lib\\typescript.js:5560:101\n",
      "    at Array.forEach (<anonymous>)\n",
      "    at FSWatcher.<anonymous> (C:\\Users\\13462\\anaconda3\\node_modules\\tslab\\node_modules\\@tslab\\typescript-for-tslab\\lib\\typescript.js:5560:85)\n",
      "    at FSWatcher.emit (node:events:513:28)\n",
      "UncaughtException: Error: Unexpected pending rebuildTimer\n",
      "    at sys.setTimeout (C:\\Users\\13462\\anaconda3\\node_modules\\tslab\\dist\\converter.js:111:19)\n",
      "    at scheduleProgramUpdate (C:\\Users\\13462\\anaconda3\\node_modules\\tslab\\node_modules\\@tslab\\typescript-for-tslab\\lib\\typescript.js:122735:35)\n",
      "    at onSourceFileChange (C:\\Users\\13462\\anaconda3\\node_modules\\tslab\\node_modules\\@tslab\\typescript-for-tslab\\lib\\typescript.js:122876:7)\n",
      "    at C:\\Users\\13462\\anaconda3\\node_modules\\tslab\\node_modules\\@tslab\\typescript-for-tslab\\lib\\typescript.js:122868:56\n",
      "    at cb (C:\\Users\\13462\\anaconda3\\node_modules\\tslab\\dist\\converter.js:184:13)\n",
      "    at C:\\Users\\13462\\anaconda3\\node_modules\\tslab\\node_modules\\@tslab\\typescript-for-tslab\\lib\\typescript.js:5798:9\n",
      "    at C:\\Users\\13462\\anaconda3\\node_modules\\tslab\\node_modules\\@tslab\\typescript-for-tslab\\lib\\typescript.js:5560:101\n",
      "    at Array.forEach (<anonymous>)\n",
      "    at FSWatcher.<anonymous> (C:\\Users\\13462\\anaconda3\\node_modules\\tslab\\node_modules\\@tslab\\typescript-for-tslab\\lib\\typescript.js:5560:85)\n",
      "    at FSWatcher.emit (node:events:513:28)\n"
     ]
    },
    {
     "name": "stderr",
     "output_type": "stream",
     "text": [
      "UncaughtException: Error: Unexpected pending rebuildTimer\n",
      "    at sys.setTimeout (C:\\Users\\13462\\anaconda3\\node_modules\\tslab\\dist\\converter.js:111:19)\n",
      "    at scheduleProgramUpdate (C:\\Users\\13462\\anaconda3\\node_modules\\tslab\\node_modules\\@tslab\\typescript-for-tslab\\lib\\typescript.js:122735:35)\n",
      "    at onSourceFileChange (C:\\Users\\13462\\anaconda3\\node_modules\\tslab\\node_modules\\@tslab\\typescript-for-tslab\\lib\\typescript.js:122876:7)\n",
      "    at C:\\Users\\13462\\anaconda3\\node_modules\\tslab\\node_modules\\@tslab\\typescript-for-tslab\\lib\\typescript.js:122868:56\n",
      "    at cb (C:\\Users\\13462\\anaconda3\\node_modules\\tslab\\dist\\converter.js:184:13)\n",
      "    at C:\\Users\\13462\\anaconda3\\node_modules\\tslab\\node_modules\\@tslab\\typescript-for-tslab\\lib\\typescript.js:5798:9\n",
      "    at C:\\Users\\13462\\anaconda3\\node_modules\\tslab\\node_modules\\@tslab\\typescript-for-tslab\\lib\\typescript.js:5560:101\n",
      "    at Array.forEach (<anonymous>)\n",
      "    at FSWatcher.<anonymous> (C:\\Users\\13462\\anaconda3\\node_modules\\tslab\\node_modules\\@tslab\\typescript-for-tslab\\lib\\typescript.js:5560:85)\n",
      "    at FSWatcher.emit (node:events:513:28)\n",
      "UncaughtException: Error: Unexpected pending rebuildTimer\n",
      "    at sys.setTimeout (C:\\Users\\13462\\anaconda3\\node_modules\\tslab\\dist\\converter.js:111:19)\n",
      "    at scheduleProgramUpdate (C:\\Users\\13462\\anaconda3\\node_modules\\tslab\\node_modules\\@tslab\\typescript-for-tslab\\lib\\typescript.js:122735:35)\n",
      "    at onSourceFileChange (C:\\Users\\13462\\anaconda3\\node_modules\\tslab\\node_modules\\@tslab\\typescript-for-tslab\\lib\\typescript.js:122876:7)\n",
      "    at C:\\Users\\13462\\anaconda3\\node_modules\\tslab\\node_modules\\@tslab\\typescript-for-tslab\\lib\\typescript.js:122868:56\n",
      "    at cb (C:\\Users\\13462\\anaconda3\\node_modules\\tslab\\dist\\converter.js:184:13)\n",
      "    at C:\\Users\\13462\\anaconda3\\node_modules\\tslab\\node_modules\\@tslab\\typescript-for-tslab\\lib\\typescript.js:5798:9\n",
      "    at C:\\Users\\13462\\anaconda3\\node_modules\\tslab\\node_modules\\@tslab\\typescript-for-tslab\\lib\\typescript.js:5560:101\n",
      "    at Array.forEach (<anonymous>)\n",
      "    at FSWatcher.<anonymous> (C:\\Users\\13462\\anaconda3\\node_modules\\tslab\\node_modules\\@tslab\\typescript-for-tslab\\lib\\typescript.js:5560:85)\n",
      "    at FSWatcher.emit (node:events:513:28)\n",
      "UncaughtException: Error: Unexpected pending rebuildTimer\n",
      "    at sys.setTimeout (C:\\Users\\13462\\anaconda3\\node_modules\\tslab\\dist\\converter.js:111:19)\n",
      "    at scheduleProgramUpdate (C:\\Users\\13462\\anaconda3\\node_modules\\tslab\\node_modules\\@tslab\\typescript-for-tslab\\lib\\typescript.js:122735:35)\n",
      "    at onSourceFileChange (C:\\Users\\13462\\anaconda3\\node_modules\\tslab\\node_modules\\@tslab\\typescript-for-tslab\\lib\\typescript.js:122876:7)\n",
      "    at C:\\Users\\13462\\anaconda3\\node_modules\\tslab\\node_modules\\@tslab\\typescript-for-tslab\\lib\\typescript.js:122868:56\n",
      "    at cb (C:\\Users\\13462\\anaconda3\\node_modules\\tslab\\dist\\converter.js:184:13)\n",
      "    at C:\\Users\\13462\\anaconda3\\node_modules\\tslab\\node_modules\\@tslab\\typescript-for-tslab\\lib\\typescript.js:5798:9\n",
      "    at C:\\Users\\13462\\anaconda3\\node_modules\\tslab\\node_modules\\@tslab\\typescript-for-tslab\\lib\\typescript.js:5560:101\n",
      "    at Array.forEach (<anonymous>)\n",
      "    at FSWatcher.<anonymous> (C:\\Users\\13462\\anaconda3\\node_modules\\tslab\\node_modules\\@tslab\\typescript-for-tslab\\lib\\typescript.js:5560:85)\n",
      "    at FSWatcher.emit (node:events:513:28)\n",
      "UncaughtException: Error: Unexpected pending rebuildTimer\n",
      "    at sys.setTimeout (C:\\Users\\13462\\anaconda3\\node_modules\\tslab\\dist\\converter.js:111:19)\n",
      "    at scheduleProgramUpdate (C:\\Users\\13462\\anaconda3\\node_modules\\tslab\\node_modules\\@tslab\\typescript-for-tslab\\lib\\typescript.js:122735:35)\n",
      "    at onSourceFileChange (C:\\Users\\13462\\anaconda3\\node_modules\\tslab\\node_modules\\@tslab\\typescript-for-tslab\\lib\\typescript.js:122876:7)\n",
      "    at C:\\Users\\13462\\anaconda3\\node_modules\\tslab\\node_modules\\@tslab\\typescript-for-tslab\\lib\\typescript.js:122868:56\n",
      "    at cb (C:\\Users\\13462\\anaconda3\\node_modules\\tslab\\dist\\converter.js:184:13)\n",
      "    at C:\\Users\\13462\\anaconda3\\node_modules\\tslab\\node_modules\\@tslab\\typescript-for-tslab\\lib\\typescript.js:5798:9\n",
      "    at C:\\Users\\13462\\anaconda3\\node_modules\\tslab\\node_modules\\@tslab\\typescript-for-tslab\\lib\\typescript.js:5560:101\n",
      "    at Array.forEach (<anonymous>)\n",
      "    at FSWatcher.<anonymous> (C:\\Users\\13462\\anaconda3\\node_modules\\tslab\\node_modules\\@tslab\\typescript-for-tslab\\lib\\typescript.js:5560:85)\n",
      "    at FSWatcher.emit (node:events:513:28)\n",
      "UncaughtException: Error: Unexpected pending rebuildTimer\n",
      "    at sys.setTimeout (C:\\Users\\13462\\anaconda3\\node_modules\\tslab\\dist\\converter.js:111:19)\n",
      "    at scheduleProgramUpdate (C:\\Users\\13462\\anaconda3\\node_modules\\tslab\\node_modules\\@tslab\\typescript-for-tslab\\lib\\typescript.js:122735:35)\n",
      "    at onSourceFileChange (C:\\Users\\13462\\anaconda3\\node_modules\\tslab\\node_modules\\@tslab\\typescript-for-tslab\\lib\\typescript.js:122876:7)\n",
      "    at C:\\Users\\13462\\anaconda3\\node_modules\\tslab\\node_modules\\@tslab\\typescript-for-tslab\\lib\\typescript.js:122868:56\n",
      "    at cb (C:\\Users\\13462\\anaconda3\\node_modules\\tslab\\dist\\converter.js:184:13)\n",
      "    at C:\\Users\\13462\\anaconda3\\node_modules\\tslab\\node_modules\\@tslab\\typescript-for-tslab\\lib\\typescript.js:5798:9\n",
      "    at C:\\Users\\13462\\anaconda3\\node_modules\\tslab\\node_modules\\@tslab\\typescript-for-tslab\\lib\\typescript.js:5560:101\n",
      "    at Array.forEach (<anonymous>)\n",
      "    at FSWatcher.<anonymous> (C:\\Users\\13462\\anaconda3\\node_modules\\tslab\\node_modules\\@tslab\\typescript-for-tslab\\lib\\typescript.js:5560:85)\n",
      "    at FSWatcher.emit (node:events:513:28)\n",
      "UncaughtException: Error: Unexpected pending rebuildTimer\n",
      "    at sys.setTimeout (C:\\Users\\13462\\anaconda3\\node_modules\\tslab\\dist\\converter.js:111:19)\n",
      "    at scheduleProgramUpdate (C:\\Users\\13462\\anaconda3\\node_modules\\tslab\\node_modules\\@tslab\\typescript-for-tslab\\lib\\typescript.js:122735:35)\n",
      "    at onSourceFileChange (C:\\Users\\13462\\anaconda3\\node_modules\\tslab\\node_modules\\@tslab\\typescript-for-tslab\\lib\\typescript.js:122876:7)\n",
      "    at C:\\Users\\13462\\anaconda3\\node_modules\\tslab\\node_modules\\@tslab\\typescript-for-tslab\\lib\\typescript.js:122868:56\n",
      "    at cb (C:\\Users\\13462\\anaconda3\\node_modules\\tslab\\dist\\converter.js:184:13)\n",
      "    at C:\\Users\\13462\\anaconda3\\node_modules\\tslab\\node_modules\\@tslab\\typescript-for-tslab\\lib\\typescript.js:5798:9\n",
      "    at C:\\Users\\13462\\anaconda3\\node_modules\\tslab\\node_modules\\@tslab\\typescript-for-tslab\\lib\\typescript.js:5560:101\n",
      "    at Array.forEach (<anonymous>)\n",
      "    at FSWatcher.<anonymous> (C:\\Users\\13462\\anaconda3\\node_modules\\tslab\\node_modules\\@tslab\\typescript-for-tslab\\lib\\typescript.js:5560:85)\n",
      "    at FSWatcher.emit (node:events:513:28)\n",
      "UncaughtException: Error: Unexpected pending rebuildTimer\n",
      "    at sys.setTimeout (C:\\Users\\13462\\anaconda3\\node_modules\\tslab\\dist\\converter.js:111:19)\n",
      "    at scheduleProgramUpdate (C:\\Users\\13462\\anaconda3\\node_modules\\tslab\\node_modules\\@tslab\\typescript-for-tslab\\lib\\typescript.js:122735:35)\n",
      "    at onSourceFileChange (C:\\Users\\13462\\anaconda3\\node_modules\\tslab\\node_modules\\@tslab\\typescript-for-tslab\\lib\\typescript.js:122876:7)\n",
      "    at C:\\Users\\13462\\anaconda3\\node_modules\\tslab\\node_modules\\@tslab\\typescript-for-tslab\\lib\\typescript.js:122868:56\n",
      "    at cb (C:\\Users\\13462\\anaconda3\\node_modules\\tslab\\dist\\converter.js:184:13)\n",
      "    at C:\\Users\\13462\\anaconda3\\node_modules\\tslab\\node_modules\\@tslab\\typescript-for-tslab\\lib\\typescript.js:5798:9\n",
      "    at C:\\Users\\13462\\anaconda3\\node_modules\\tslab\\node_modules\\@tslab\\typescript-for-tslab\\lib\\typescript.js:5560:101\n",
      "    at Array.forEach (<anonymous>)\n",
      "    at FSWatcher.<anonymous> (C:\\Users\\13462\\anaconda3\\node_modules\\tslab\\node_modules\\@tslab\\typescript-for-tslab\\lib\\typescript.js:5560:85)\n",
      "    at FSWatcher.emit (node:events:513:28)\n",
      "UncaughtException: Error: Unexpected pending rebuildTimer\n",
      "    at sys.setTimeout (C:\\Users\\13462\\anaconda3\\node_modules\\tslab\\dist\\converter.js:111:19)\n",
      "    at scheduleProgramUpdate (C:\\Users\\13462\\anaconda3\\node_modules\\tslab\\node_modules\\@tslab\\typescript-for-tslab\\lib\\typescript.js:122735:35)\n",
      "    at onSourceFileChange (C:\\Users\\13462\\anaconda3\\node_modules\\tslab\\node_modules\\@tslab\\typescript-for-tslab\\lib\\typescript.js:122876:7)\n",
      "    at C:\\Users\\13462\\anaconda3\\node_modules\\tslab\\node_modules\\@tslab\\typescript-for-tslab\\lib\\typescript.js:122868:56\n",
      "    at cb (C:\\Users\\13462\\anaconda3\\node_modules\\tslab\\dist\\converter.js:184:13)\n",
      "    at C:\\Users\\13462\\anaconda3\\node_modules\\tslab\\node_modules\\@tslab\\typescript-for-tslab\\lib\\typescript.js:5798:9\n",
      "    at C:\\Users\\13462\\anaconda3\\node_modules\\tslab\\node_modules\\@tslab\\typescript-for-tslab\\lib\\typescript.js:5560:101\n",
      "    at Array.forEach (<anonymous>)\n",
      "    at FSWatcher.<anonymous> (C:\\Users\\13462\\anaconda3\\node_modules\\tslab\\node_modules\\@tslab\\typescript-for-tslab\\lib\\typescript.js:5560:85)\n",
      "    at FSWatcher.emit (node:events:513:28)\n"
     ]
    },
    {
     "name": "stderr",
     "output_type": "stream",
     "text": [
      "UncaughtException: Error: Unexpected pending rebuildTimer\n",
      "    at sys.setTimeout (C:\\Users\\13462\\anaconda3\\node_modules\\tslab\\dist\\converter.js:111:19)\n",
      "    at scheduleProgramUpdate (C:\\Users\\13462\\anaconda3\\node_modules\\tslab\\node_modules\\@tslab\\typescript-for-tslab\\lib\\typescript.js:122735:35)\n",
      "    at onSourceFileChange (C:\\Users\\13462\\anaconda3\\node_modules\\tslab\\node_modules\\@tslab\\typescript-for-tslab\\lib\\typescript.js:122876:7)\n",
      "    at C:\\Users\\13462\\anaconda3\\node_modules\\tslab\\node_modules\\@tslab\\typescript-for-tslab\\lib\\typescript.js:122868:56\n",
      "    at cb (C:\\Users\\13462\\anaconda3\\node_modules\\tslab\\dist\\converter.js:184:13)\n",
      "    at C:\\Users\\13462\\anaconda3\\node_modules\\tslab\\node_modules\\@tslab\\typescript-for-tslab\\lib\\typescript.js:5798:9\n",
      "    at C:\\Users\\13462\\anaconda3\\node_modules\\tslab\\node_modules\\@tslab\\typescript-for-tslab\\lib\\typescript.js:5560:101\n",
      "    at Array.forEach (<anonymous>)\n",
      "    at FSWatcher.<anonymous> (C:\\Users\\13462\\anaconda3\\node_modules\\tslab\\node_modules\\@tslab\\typescript-for-tslab\\lib\\typescript.js:5560:85)\n",
      "    at FSWatcher.emit (node:events:513:28)\n",
      "UncaughtException: Error: Unexpected pending rebuildTimer\n",
      "    at sys.setTimeout (C:\\Users\\13462\\anaconda3\\node_modules\\tslab\\dist\\converter.js:111:19)\n",
      "    at scheduleProgramUpdate (C:\\Users\\13462\\anaconda3\\node_modules\\tslab\\node_modules\\@tslab\\typescript-for-tslab\\lib\\typescript.js:122735:35)\n",
      "    at onSourceFileChange (C:\\Users\\13462\\anaconda3\\node_modules\\tslab\\node_modules\\@tslab\\typescript-for-tslab\\lib\\typescript.js:122876:7)\n",
      "    at C:\\Users\\13462\\anaconda3\\node_modules\\tslab\\node_modules\\@tslab\\typescript-for-tslab\\lib\\typescript.js:122868:56\n",
      "    at cb (C:\\Users\\13462\\anaconda3\\node_modules\\tslab\\dist\\converter.js:184:13)\n",
      "    at C:\\Users\\13462\\anaconda3\\node_modules\\tslab\\node_modules\\@tslab\\typescript-for-tslab\\lib\\typescript.js:5798:9\n",
      "    at C:\\Users\\13462\\anaconda3\\node_modules\\tslab\\node_modules\\@tslab\\typescript-for-tslab\\lib\\typescript.js:5560:101\n",
      "    at Array.forEach (<anonymous>)\n",
      "    at FSWatcher.<anonymous> (C:\\Users\\13462\\anaconda3\\node_modules\\tslab\\node_modules\\@tslab\\typescript-for-tslab\\lib\\typescript.js:5560:85)\n",
      "    at FSWatcher.emit (node:events:513:28)\n",
      "UncaughtException: Error: Unexpected pending rebuildTimer\n",
      "    at sys.setTimeout (C:\\Users\\13462\\anaconda3\\node_modules\\tslab\\dist\\converter.js:111:19)\n",
      "    at scheduleProgramUpdate (C:\\Users\\13462\\anaconda3\\node_modules\\tslab\\node_modules\\@tslab\\typescript-for-tslab\\lib\\typescript.js:122735:35)\n",
      "    at onSourceFileChange (C:\\Users\\13462\\anaconda3\\node_modules\\tslab\\node_modules\\@tslab\\typescript-for-tslab\\lib\\typescript.js:122876:7)\n",
      "    at C:\\Users\\13462\\anaconda3\\node_modules\\tslab\\node_modules\\@tslab\\typescript-for-tslab\\lib\\typescript.js:122868:56\n",
      "    at cb (C:\\Users\\13462\\anaconda3\\node_modules\\tslab\\dist\\converter.js:184:13)\n",
      "    at C:\\Users\\13462\\anaconda3\\node_modules\\tslab\\node_modules\\@tslab\\typescript-for-tslab\\lib\\typescript.js:5798:9\n",
      "    at C:\\Users\\13462\\anaconda3\\node_modules\\tslab\\node_modules\\@tslab\\typescript-for-tslab\\lib\\typescript.js:5560:101\n",
      "    at Array.forEach (<anonymous>)\n",
      "    at FSWatcher.<anonymous> (C:\\Users\\13462\\anaconda3\\node_modules\\tslab\\node_modules\\@tslab\\typescript-for-tslab\\lib\\typescript.js:5560:85)\n",
      "    at FSWatcher.emit (node:events:513:28)\n",
      "UncaughtException: Error: Unexpected pending rebuildTimer\n",
      "    at sys.setTimeout (C:\\Users\\13462\\anaconda3\\node_modules\\tslab\\dist\\converter.js:111:19)\n",
      "    at scheduleProgramUpdate (C:\\Users\\13462\\anaconda3\\node_modules\\tslab\\node_modules\\@tslab\\typescript-for-tslab\\lib\\typescript.js:122735:35)\n",
      "    at onSourceFileChange (C:\\Users\\13462\\anaconda3\\node_modules\\tslab\\node_modules\\@tslab\\typescript-for-tslab\\lib\\typescript.js:122876:7)\n",
      "    at C:\\Users\\13462\\anaconda3\\node_modules\\tslab\\node_modules\\@tslab\\typescript-for-tslab\\lib\\typescript.js:122868:56\n",
      "    at cb (C:\\Users\\13462\\anaconda3\\node_modules\\tslab\\dist\\converter.js:184:13)\n",
      "    at C:\\Users\\13462\\anaconda3\\node_modules\\tslab\\node_modules\\@tslab\\typescript-for-tslab\\lib\\typescript.js:5798:9\n",
      "    at C:\\Users\\13462\\anaconda3\\node_modules\\tslab\\node_modules\\@tslab\\typescript-for-tslab\\lib\\typescript.js:5560:101\n",
      "    at Array.forEach (<anonymous>)\n",
      "    at FSWatcher.<anonymous> (C:\\Users\\13462\\anaconda3\\node_modules\\tslab\\node_modules\\@tslab\\typescript-for-tslab\\lib\\typescript.js:5560:85)\n",
      "    at FSWatcher.emit (node:events:513:28)\n",
      "UncaughtException: Error: Unexpected pending rebuildTimer\n",
      "    at sys.setTimeout (C:\\Users\\13462\\anaconda3\\node_modules\\tslab\\dist\\converter.js:111:19)\n",
      "    at scheduleProgramUpdate (C:\\Users\\13462\\anaconda3\\node_modules\\tslab\\node_modules\\@tslab\\typescript-for-tslab\\lib\\typescript.js:122735:35)\n",
      "    at onSourceFileChange (C:\\Users\\13462\\anaconda3\\node_modules\\tslab\\node_modules\\@tslab\\typescript-for-tslab\\lib\\typescript.js:122876:7)\n",
      "    at C:\\Users\\13462\\anaconda3\\node_modules\\tslab\\node_modules\\@tslab\\typescript-for-tslab\\lib\\typescript.js:122868:56\n",
      "    at cb (C:\\Users\\13462\\anaconda3\\node_modules\\tslab\\dist\\converter.js:184:13)\n",
      "    at C:\\Users\\13462\\anaconda3\\node_modules\\tslab\\node_modules\\@tslab\\typescript-for-tslab\\lib\\typescript.js:5798:9\n",
      "    at C:\\Users\\13462\\anaconda3\\node_modules\\tslab\\node_modules\\@tslab\\typescript-for-tslab\\lib\\typescript.js:5560:101\n",
      "    at Array.forEach (<anonymous>)\n",
      "    at FSWatcher.<anonymous> (C:\\Users\\13462\\anaconda3\\node_modules\\tslab\\node_modules\\@tslab\\typescript-for-tslab\\lib\\typescript.js:5560:85)\n",
      "    at FSWatcher.emit (node:events:513:28)\n",
      "UncaughtException: Error: Unexpected pending rebuildTimer\n",
      "    at sys.setTimeout (C:\\Users\\13462\\anaconda3\\node_modules\\tslab\\dist\\converter.js:111:19)\n",
      "    at scheduleProgramUpdate (C:\\Users\\13462\\anaconda3\\node_modules\\tslab\\node_modules\\@tslab\\typescript-for-tslab\\lib\\typescript.js:122735:35)\n",
      "    at onSourceFileChange (C:\\Users\\13462\\anaconda3\\node_modules\\tslab\\node_modules\\@tslab\\typescript-for-tslab\\lib\\typescript.js:122876:7)\n",
      "    at C:\\Users\\13462\\anaconda3\\node_modules\\tslab\\node_modules\\@tslab\\typescript-for-tslab\\lib\\typescript.js:122868:56\n",
      "    at cb (C:\\Users\\13462\\anaconda3\\node_modules\\tslab\\dist\\converter.js:184:13)\n",
      "    at C:\\Users\\13462\\anaconda3\\node_modules\\tslab\\node_modules\\@tslab\\typescript-for-tslab\\lib\\typescript.js:5798:9\n",
      "    at C:\\Users\\13462\\anaconda3\\node_modules\\tslab\\node_modules\\@tslab\\typescript-for-tslab\\lib\\typescript.js:5560:101\n",
      "    at Array.forEach (<anonymous>)\n",
      "    at FSWatcher.<anonymous> (C:\\Users\\13462\\anaconda3\\node_modules\\tslab\\node_modules\\@tslab\\typescript-for-tslab\\lib\\typescript.js:5560:85)\n",
      "    at FSWatcher.emit (node:events:513:28)\n",
      "UncaughtException: Error: Unexpected pending rebuildTimer\n",
      "    at sys.setTimeout (C:\\Users\\13462\\anaconda3\\node_modules\\tslab\\dist\\converter.js:111:19)\n",
      "    at scheduleProgramUpdate (C:\\Users\\13462\\anaconda3\\node_modules\\tslab\\node_modules\\@tslab\\typescript-for-tslab\\lib\\typescript.js:122735:35)\n",
      "    at onSourceFileChange (C:\\Users\\13462\\anaconda3\\node_modules\\tslab\\node_modules\\@tslab\\typescript-for-tslab\\lib\\typescript.js:122876:7)\n",
      "    at C:\\Users\\13462\\anaconda3\\node_modules\\tslab\\node_modules\\@tslab\\typescript-for-tslab\\lib\\typescript.js:122868:56\n",
      "    at cb (C:\\Users\\13462\\anaconda3\\node_modules\\tslab\\dist\\converter.js:184:13)\n",
      "    at C:\\Users\\13462\\anaconda3\\node_modules\\tslab\\node_modules\\@tslab\\typescript-for-tslab\\lib\\typescript.js:5798:9\n",
      "    at C:\\Users\\13462\\anaconda3\\node_modules\\tslab\\node_modules\\@tslab\\typescript-for-tslab\\lib\\typescript.js:5560:101\n",
      "    at Array.forEach (<anonymous>)\n",
      "    at FSWatcher.<anonymous> (C:\\Users\\13462\\anaconda3\\node_modules\\tslab\\node_modules\\@tslab\\typescript-for-tslab\\lib\\typescript.js:5560:85)\n",
      "    at FSWatcher.emit (node:events:513:28)\n",
      "UncaughtException: Error: Unexpected pending rebuildTimer\n",
      "    at sys.setTimeout (C:\\Users\\13462\\anaconda3\\node_modules\\tslab\\dist\\converter.js:111:19)\n",
      "    at scheduleProgramUpdate (C:\\Users\\13462\\anaconda3\\node_modules\\tslab\\node_modules\\@tslab\\typescript-for-tslab\\lib\\typescript.js:122735:35)\n",
      "    at onSourceFileChange (C:\\Users\\13462\\anaconda3\\node_modules\\tslab\\node_modules\\@tslab\\typescript-for-tslab\\lib\\typescript.js:122876:7)\n",
      "    at C:\\Users\\13462\\anaconda3\\node_modules\\tslab\\node_modules\\@tslab\\typescript-for-tslab\\lib\\typescript.js:122868:56\n",
      "    at cb (C:\\Users\\13462\\anaconda3\\node_modules\\tslab\\dist\\converter.js:184:13)\n",
      "    at C:\\Users\\13462\\anaconda3\\node_modules\\tslab\\node_modules\\@tslab\\typescript-for-tslab\\lib\\typescript.js:5798:9\n",
      "    at C:\\Users\\13462\\anaconda3\\node_modules\\tslab\\node_modules\\@tslab\\typescript-for-tslab\\lib\\typescript.js:5560:101\n",
      "    at Array.forEach (<anonymous>)\n",
      "    at FSWatcher.<anonymous> (C:\\Users\\13462\\anaconda3\\node_modules\\tslab\\node_modules\\@tslab\\typescript-for-tslab\\lib\\typescript.js:5560:85)\n",
      "    at FSWatcher.emit (node:events:513:28)\n"
     ]
    },
    {
     "name": "stderr",
     "output_type": "stream",
     "text": [
      "UncaughtException: Error: Unexpected pending rebuildTimer\n",
      "    at sys.setTimeout (C:\\Users\\13462\\anaconda3\\node_modules\\tslab\\dist\\converter.js:111:19)\n",
      "    at scheduleProgramUpdate (C:\\Users\\13462\\anaconda3\\node_modules\\tslab\\node_modules\\@tslab\\typescript-for-tslab\\lib\\typescript.js:122735:35)\n",
      "    at onSourceFileChange (C:\\Users\\13462\\anaconda3\\node_modules\\tslab\\node_modules\\@tslab\\typescript-for-tslab\\lib\\typescript.js:122876:7)\n",
      "    at C:\\Users\\13462\\anaconda3\\node_modules\\tslab\\node_modules\\@tslab\\typescript-for-tslab\\lib\\typescript.js:122868:56\n",
      "    at cb (C:\\Users\\13462\\anaconda3\\node_modules\\tslab\\dist\\converter.js:184:13)\n",
      "    at C:\\Users\\13462\\anaconda3\\node_modules\\tslab\\node_modules\\@tslab\\typescript-for-tslab\\lib\\typescript.js:5798:9\n",
      "    at C:\\Users\\13462\\anaconda3\\node_modules\\tslab\\node_modules\\@tslab\\typescript-for-tslab\\lib\\typescript.js:5560:101\n",
      "    at Array.forEach (<anonymous>)\n",
      "    at FSWatcher.<anonymous> (C:\\Users\\13462\\anaconda3\\node_modules\\tslab\\node_modules\\@tslab\\typescript-for-tslab\\lib\\typescript.js:5560:85)\n",
      "    at FSWatcher.emit (node:events:513:28)\n",
      "UncaughtException: Error: Unexpected pending rebuildTimer\n",
      "    at sys.setTimeout (C:\\Users\\13462\\anaconda3\\node_modules\\tslab\\dist\\converter.js:111:19)\n",
      "    at scheduleProgramUpdate (C:\\Users\\13462\\anaconda3\\node_modules\\tslab\\node_modules\\@tslab\\typescript-for-tslab\\lib\\typescript.js:122735:35)\n",
      "    at onSourceFileChange (C:\\Users\\13462\\anaconda3\\node_modules\\tslab\\node_modules\\@tslab\\typescript-for-tslab\\lib\\typescript.js:122876:7)\n",
      "    at C:\\Users\\13462\\anaconda3\\node_modules\\tslab\\node_modules\\@tslab\\typescript-for-tslab\\lib\\typescript.js:122868:56\n",
      "    at cb (C:\\Users\\13462\\anaconda3\\node_modules\\tslab\\dist\\converter.js:184:13)\n",
      "    at C:\\Users\\13462\\anaconda3\\node_modules\\tslab\\node_modules\\@tslab\\typescript-for-tslab\\lib\\typescript.js:5798:9\n",
      "    at C:\\Users\\13462\\anaconda3\\node_modules\\tslab\\node_modules\\@tslab\\typescript-for-tslab\\lib\\typescript.js:5560:101\n",
      "    at Array.forEach (<anonymous>)\n",
      "    at FSWatcher.<anonymous> (C:\\Users\\13462\\anaconda3\\node_modules\\tslab\\node_modules\\@tslab\\typescript-for-tslab\\lib\\typescript.js:5560:85)\n",
      "    at FSWatcher.emit (node:events:513:28)\n",
      "UncaughtException: Error: Unexpected pending rebuildTimer\n",
      "    at sys.setTimeout (C:\\Users\\13462\\anaconda3\\node_modules\\tslab\\dist\\converter.js:111:19)\n",
      "    at scheduleProgramUpdate (C:\\Users\\13462\\anaconda3\\node_modules\\tslab\\node_modules\\@tslab\\typescript-for-tslab\\lib\\typescript.js:122735:35)\n",
      "    at onSourceFileChange (C:\\Users\\13462\\anaconda3\\node_modules\\tslab\\node_modules\\@tslab\\typescript-for-tslab\\lib\\typescript.js:122876:7)\n",
      "    at C:\\Users\\13462\\anaconda3\\node_modules\\tslab\\node_modules\\@tslab\\typescript-for-tslab\\lib\\typescript.js:122868:56\n",
      "    at cb (C:\\Users\\13462\\anaconda3\\node_modules\\tslab\\dist\\converter.js:184:13)\n",
      "    at C:\\Users\\13462\\anaconda3\\node_modules\\tslab\\node_modules\\@tslab\\typescript-for-tslab\\lib\\typescript.js:5798:9\n",
      "    at C:\\Users\\13462\\anaconda3\\node_modules\\tslab\\node_modules\\@tslab\\typescript-for-tslab\\lib\\typescript.js:5560:101\n",
      "    at Array.forEach (<anonymous>)\n",
      "    at FSWatcher.<anonymous> (C:\\Users\\13462\\anaconda3\\node_modules\\tslab\\node_modules\\@tslab\\typescript-for-tslab\\lib\\typescript.js:5560:85)\n",
      "    at FSWatcher.emit (node:events:513:28)\n",
      "UncaughtException: Error: Unexpected pending rebuildTimer\n",
      "    at sys.setTimeout (C:\\Users\\13462\\anaconda3\\node_modules\\tslab\\dist\\converter.js:111:19)\n",
      "    at scheduleProgramUpdate (C:\\Users\\13462\\anaconda3\\node_modules\\tslab\\node_modules\\@tslab\\typescript-for-tslab\\lib\\typescript.js:122735:35)\n",
      "    at onSourceFileChange (C:\\Users\\13462\\anaconda3\\node_modules\\tslab\\node_modules\\@tslab\\typescript-for-tslab\\lib\\typescript.js:122876:7)\n",
      "    at C:\\Users\\13462\\anaconda3\\node_modules\\tslab\\node_modules\\@tslab\\typescript-for-tslab\\lib\\typescript.js:122868:56\n",
      "    at cb (C:\\Users\\13462\\anaconda3\\node_modules\\tslab\\dist\\converter.js:184:13)\n",
      "    at C:\\Users\\13462\\anaconda3\\node_modules\\tslab\\node_modules\\@tslab\\typescript-for-tslab\\lib\\typescript.js:5798:9\n",
      "    at C:\\Users\\13462\\anaconda3\\node_modules\\tslab\\node_modules\\@tslab\\typescript-for-tslab\\lib\\typescript.js:5560:101\n",
      "    at Array.forEach (<anonymous>)\n",
      "    at FSWatcher.<anonymous> (C:\\Users\\13462\\anaconda3\\node_modules\\tslab\\node_modules\\@tslab\\typescript-for-tslab\\lib\\typescript.js:5560:85)\n",
      "    at FSWatcher.emit (node:events:513:28)\n",
      "UncaughtException: Error: Unexpected pending rebuildTimer\n",
      "    at sys.setTimeout (C:\\Users\\13462\\anaconda3\\node_modules\\tslab\\dist\\converter.js:111:19)\n",
      "    at scheduleProgramUpdate (C:\\Users\\13462\\anaconda3\\node_modules\\tslab\\node_modules\\@tslab\\typescript-for-tslab\\lib\\typescript.js:122735:35)\n",
      "    at onSourceFileChange (C:\\Users\\13462\\anaconda3\\node_modules\\tslab\\node_modules\\@tslab\\typescript-for-tslab\\lib\\typescript.js:122876:7)\n",
      "    at C:\\Users\\13462\\anaconda3\\node_modules\\tslab\\node_modules\\@tslab\\typescript-for-tslab\\lib\\typescript.js:122868:56\n",
      "    at cb (C:\\Users\\13462\\anaconda3\\node_modules\\tslab\\dist\\converter.js:184:13)\n",
      "    at C:\\Users\\13462\\anaconda3\\node_modules\\tslab\\node_modules\\@tslab\\typescript-for-tslab\\lib\\typescript.js:5798:9\n",
      "    at C:\\Users\\13462\\anaconda3\\node_modules\\tslab\\node_modules\\@tslab\\typescript-for-tslab\\lib\\typescript.js:5560:101\n",
      "    at Array.forEach (<anonymous>)\n",
      "    at FSWatcher.<anonymous> (C:\\Users\\13462\\anaconda3\\node_modules\\tslab\\node_modules\\@tslab\\typescript-for-tslab\\lib\\typescript.js:5560:85)\n",
      "    at FSWatcher.emit (node:events:513:28)\n",
      "UncaughtException: Error: Unexpected pending rebuildTimer\n",
      "    at sys.setTimeout (C:\\Users\\13462\\anaconda3\\node_modules\\tslab\\dist\\converter.js:111:19)\n",
      "    at scheduleProgramUpdate (C:\\Users\\13462\\anaconda3\\node_modules\\tslab\\node_modules\\@tslab\\typescript-for-tslab\\lib\\typescript.js:122735:35)\n",
      "    at onSourceFileChange (C:\\Users\\13462\\anaconda3\\node_modules\\tslab\\node_modules\\@tslab\\typescript-for-tslab\\lib\\typescript.js:122876:7)\n",
      "    at C:\\Users\\13462\\anaconda3\\node_modules\\tslab\\node_modules\\@tslab\\typescript-for-tslab\\lib\\typescript.js:122868:56\n",
      "    at cb (C:\\Users\\13462\\anaconda3\\node_modules\\tslab\\dist\\converter.js:184:13)\n",
      "    at C:\\Users\\13462\\anaconda3\\node_modules\\tslab\\node_modules\\@tslab\\typescript-for-tslab\\lib\\typescript.js:5798:9\n",
      "    at C:\\Users\\13462\\anaconda3\\node_modules\\tslab\\node_modules\\@tslab\\typescript-for-tslab\\lib\\typescript.js:5560:101\n",
      "    at Array.forEach (<anonymous>)\n",
      "    at FSWatcher.<anonymous> (C:\\Users\\13462\\anaconda3\\node_modules\\tslab\\node_modules\\@tslab\\typescript-for-tslab\\lib\\typescript.js:5560:85)\n",
      "    at FSWatcher.emit (node:events:513:28)\n",
      "UncaughtException: Error: Unexpected pending rebuildTimer\n",
      "    at sys.setTimeout (C:\\Users\\13462\\anaconda3\\node_modules\\tslab\\dist\\converter.js:111:19)\n",
      "    at scheduleProgramUpdate (C:\\Users\\13462\\anaconda3\\node_modules\\tslab\\node_modules\\@tslab\\typescript-for-tslab\\lib\\typescript.js:122735:35)\n",
      "    at onSourceFileChange (C:\\Users\\13462\\anaconda3\\node_modules\\tslab\\node_modules\\@tslab\\typescript-for-tslab\\lib\\typescript.js:122876:7)\n",
      "    at C:\\Users\\13462\\anaconda3\\node_modules\\tslab\\node_modules\\@tslab\\typescript-for-tslab\\lib\\typescript.js:122868:56\n",
      "    at cb (C:\\Users\\13462\\anaconda3\\node_modules\\tslab\\dist\\converter.js:184:13)\n",
      "    at C:\\Users\\13462\\anaconda3\\node_modules\\tslab\\node_modules\\@tslab\\typescript-for-tslab\\lib\\typescript.js:5798:9\n",
      "    at C:\\Users\\13462\\anaconda3\\node_modules\\tslab\\node_modules\\@tslab\\typescript-for-tslab\\lib\\typescript.js:5560:101\n",
      "    at Array.forEach (<anonymous>)\n",
      "    at FSWatcher.<anonymous> (C:\\Users\\13462\\anaconda3\\node_modules\\tslab\\node_modules\\@tslab\\typescript-for-tslab\\lib\\typescript.js:5560:85)\n",
      "    at FSWatcher.emit (node:events:513:28)\n",
      "UncaughtException: Error: Unexpected pending rebuildTimer\n",
      "    at sys.setTimeout (C:\\Users\\13462\\anaconda3\\node_modules\\tslab\\dist\\converter.js:111:19)\n",
      "    at scheduleProgramUpdate (C:\\Users\\13462\\anaconda3\\node_modules\\tslab\\node_modules\\@tslab\\typescript-for-tslab\\lib\\typescript.js:122735:35)\n",
      "    at onSourceFileChange (C:\\Users\\13462\\anaconda3\\node_modules\\tslab\\node_modules\\@tslab\\typescript-for-tslab\\lib\\typescript.js:122876:7)\n",
      "    at C:\\Users\\13462\\anaconda3\\node_modules\\tslab\\node_modules\\@tslab\\typescript-for-tslab\\lib\\typescript.js:122868:56\n",
      "    at cb (C:\\Users\\13462\\anaconda3\\node_modules\\tslab\\dist\\converter.js:184:13)\n",
      "    at C:\\Users\\13462\\anaconda3\\node_modules\\tslab\\node_modules\\@tslab\\typescript-for-tslab\\lib\\typescript.js:5798:9\n",
      "    at C:\\Users\\13462\\anaconda3\\node_modules\\tslab\\node_modules\\@tslab\\typescript-for-tslab\\lib\\typescript.js:5560:101\n",
      "    at Array.forEach (<anonymous>)\n",
      "    at FSWatcher.<anonymous> (C:\\Users\\13462\\anaconda3\\node_modules\\tslab\\node_modules\\@tslab\\typescript-for-tslab\\lib\\typescript.js:5560:85)\n",
      "    at FSWatcher.emit (node:events:513:28)\n"
     ]
    },
    {
     "name": "stderr",
     "output_type": "stream",
     "text": [
      "UncaughtException: Error: Unexpected pending rebuildTimer\n",
      "    at sys.setTimeout (C:\\Users\\13462\\anaconda3\\node_modules\\tslab\\dist\\converter.js:111:19)\n",
      "    at scheduleProgramUpdate (C:\\Users\\13462\\anaconda3\\node_modules\\tslab\\node_modules\\@tslab\\typescript-for-tslab\\lib\\typescript.js:122735:35)\n",
      "    at onSourceFileChange (C:\\Users\\13462\\anaconda3\\node_modules\\tslab\\node_modules\\@tslab\\typescript-for-tslab\\lib\\typescript.js:122876:7)\n",
      "    at C:\\Users\\13462\\anaconda3\\node_modules\\tslab\\node_modules\\@tslab\\typescript-for-tslab\\lib\\typescript.js:122868:56\n",
      "    at cb (C:\\Users\\13462\\anaconda3\\node_modules\\tslab\\dist\\converter.js:184:13)\n",
      "    at C:\\Users\\13462\\anaconda3\\node_modules\\tslab\\node_modules\\@tslab\\typescript-for-tslab\\lib\\typescript.js:5798:9\n",
      "    at C:\\Users\\13462\\anaconda3\\node_modules\\tslab\\node_modules\\@tslab\\typescript-for-tslab\\lib\\typescript.js:5560:101\n",
      "    at Array.forEach (<anonymous>)\n",
      "    at FSWatcher.<anonymous> (C:\\Users\\13462\\anaconda3\\node_modules\\tslab\\node_modules\\@tslab\\typescript-for-tslab\\lib\\typescript.js:5560:85)\n",
      "    at FSWatcher.emit (node:events:513:28)\n",
      "UncaughtException: Error: Unexpected pending rebuildTimer\n",
      "    at sys.setTimeout (C:\\Users\\13462\\anaconda3\\node_modules\\tslab\\dist\\converter.js:111:19)\n",
      "    at scheduleProgramUpdate (C:\\Users\\13462\\anaconda3\\node_modules\\tslab\\node_modules\\@tslab\\typescript-for-tslab\\lib\\typescript.js:122735:35)\n",
      "    at onSourceFileChange (C:\\Users\\13462\\anaconda3\\node_modules\\tslab\\node_modules\\@tslab\\typescript-for-tslab\\lib\\typescript.js:122876:7)\n",
      "    at C:\\Users\\13462\\anaconda3\\node_modules\\tslab\\node_modules\\@tslab\\typescript-for-tslab\\lib\\typescript.js:122868:56\n",
      "    at cb (C:\\Users\\13462\\anaconda3\\node_modules\\tslab\\dist\\converter.js:184:13)\n",
      "    at C:\\Users\\13462\\anaconda3\\node_modules\\tslab\\node_modules\\@tslab\\typescript-for-tslab\\lib\\typescript.js:5798:9\n",
      "    at C:\\Users\\13462\\anaconda3\\node_modules\\tslab\\node_modules\\@tslab\\typescript-for-tslab\\lib\\typescript.js:5560:101\n",
      "    at Array.forEach (<anonymous>)\n",
      "    at FSWatcher.<anonymous> (C:\\Users\\13462\\anaconda3\\node_modules\\tslab\\node_modules\\@tslab\\typescript-for-tslab\\lib\\typescript.js:5560:85)\n",
      "    at FSWatcher.emit (node:events:513:28)\n",
      "UncaughtException: Error: Unexpected pending rebuildTimer\n",
      "    at sys.setTimeout (C:\\Users\\13462\\anaconda3\\node_modules\\tslab\\dist\\converter.js:111:19)\n",
      "    at scheduleProgramUpdate (C:\\Users\\13462\\anaconda3\\node_modules\\tslab\\node_modules\\@tslab\\typescript-for-tslab\\lib\\typescript.js:122735:35)\n",
      "    at onSourceFileChange (C:\\Users\\13462\\anaconda3\\node_modules\\tslab\\node_modules\\@tslab\\typescript-for-tslab\\lib\\typescript.js:122876:7)\n",
      "    at C:\\Users\\13462\\anaconda3\\node_modules\\tslab\\node_modules\\@tslab\\typescript-for-tslab\\lib\\typescript.js:122868:56\n",
      "    at cb (C:\\Users\\13462\\anaconda3\\node_modules\\tslab\\dist\\converter.js:184:13)\n",
      "    at C:\\Users\\13462\\anaconda3\\node_modules\\tslab\\node_modules\\@tslab\\typescript-for-tslab\\lib\\typescript.js:5798:9\n",
      "    at C:\\Users\\13462\\anaconda3\\node_modules\\tslab\\node_modules\\@tslab\\typescript-for-tslab\\lib\\typescript.js:5560:101\n",
      "    at Array.forEach (<anonymous>)\n",
      "    at FSWatcher.<anonymous> (C:\\Users\\13462\\anaconda3\\node_modules\\tslab\\node_modules\\@tslab\\typescript-for-tslab\\lib\\typescript.js:5560:85)\n",
      "    at FSWatcher.emit (node:events:513:28)\n",
      "UncaughtException: Error: Unexpected pending rebuildTimer\n",
      "    at sys.setTimeout (C:\\Users\\13462\\anaconda3\\node_modules\\tslab\\dist\\converter.js:111:19)\n",
      "    at scheduleProgramUpdate (C:\\Users\\13462\\anaconda3\\node_modules\\tslab\\node_modules\\@tslab\\typescript-for-tslab\\lib\\typescript.js:122735:35)\n",
      "    at onSourceFileChange (C:\\Users\\13462\\anaconda3\\node_modules\\tslab\\node_modules\\@tslab\\typescript-for-tslab\\lib\\typescript.js:122876:7)\n",
      "    at C:\\Users\\13462\\anaconda3\\node_modules\\tslab\\node_modules\\@tslab\\typescript-for-tslab\\lib\\typescript.js:122868:56\n",
      "    at cb (C:\\Users\\13462\\anaconda3\\node_modules\\tslab\\dist\\converter.js:184:13)\n",
      "    at C:\\Users\\13462\\anaconda3\\node_modules\\tslab\\node_modules\\@tslab\\typescript-for-tslab\\lib\\typescript.js:5798:9\n",
      "    at C:\\Users\\13462\\anaconda3\\node_modules\\tslab\\node_modules\\@tslab\\typescript-for-tslab\\lib\\typescript.js:5560:101\n",
      "    at Array.forEach (<anonymous>)\n",
      "    at FSWatcher.<anonymous> (C:\\Users\\13462\\anaconda3\\node_modules\\tslab\\node_modules\\@tslab\\typescript-for-tslab\\lib\\typescript.js:5560:85)\n",
      "    at FSWatcher.emit (node:events:513:28)\n",
      "UncaughtException: Error: Unexpected pending rebuildTimer\n",
      "    at sys.setTimeout (C:\\Users\\13462\\anaconda3\\node_modules\\tslab\\dist\\converter.js:111:19)\n",
      "    at scheduleProgramUpdate (C:\\Users\\13462\\anaconda3\\node_modules\\tslab\\node_modules\\@tslab\\typescript-for-tslab\\lib\\typescript.js:122735:35)\n",
      "    at onSourceFileChange (C:\\Users\\13462\\anaconda3\\node_modules\\tslab\\node_modules\\@tslab\\typescript-for-tslab\\lib\\typescript.js:122876:7)\n",
      "    at C:\\Users\\13462\\anaconda3\\node_modules\\tslab\\node_modules\\@tslab\\typescript-for-tslab\\lib\\typescript.js:122868:56\n",
      "    at cb (C:\\Users\\13462\\anaconda3\\node_modules\\tslab\\dist\\converter.js:184:13)\n",
      "    at C:\\Users\\13462\\anaconda3\\node_modules\\tslab\\node_modules\\@tslab\\typescript-for-tslab\\lib\\typescript.js:5798:9\n",
      "    at C:\\Users\\13462\\anaconda3\\node_modules\\tslab\\node_modules\\@tslab\\typescript-for-tslab\\lib\\typescript.js:5560:101\n",
      "    at Array.forEach (<anonymous>)\n",
      "    at FSWatcher.<anonymous> (C:\\Users\\13462\\anaconda3\\node_modules\\tslab\\node_modules\\@tslab\\typescript-for-tslab\\lib\\typescript.js:5560:85)\n",
      "    at FSWatcher.emit (node:events:513:28)\n",
      "UncaughtException: Error: Unexpected pending rebuildTimer\n",
      "    at sys.setTimeout (C:\\Users\\13462\\anaconda3\\node_modules\\tslab\\dist\\converter.js:111:19)\n",
      "    at scheduleProgramUpdate (C:\\Users\\13462\\anaconda3\\node_modules\\tslab\\node_modules\\@tslab\\typescript-for-tslab\\lib\\typescript.js:122735:35)\n",
      "    at onSourceFileChange (C:\\Users\\13462\\anaconda3\\node_modules\\tslab\\node_modules\\@tslab\\typescript-for-tslab\\lib\\typescript.js:122876:7)\n",
      "    at C:\\Users\\13462\\anaconda3\\node_modules\\tslab\\node_modules\\@tslab\\typescript-for-tslab\\lib\\typescript.js:122868:56\n",
      "    at cb (C:\\Users\\13462\\anaconda3\\node_modules\\tslab\\dist\\converter.js:184:13)\n",
      "    at C:\\Users\\13462\\anaconda3\\node_modules\\tslab\\node_modules\\@tslab\\typescript-for-tslab\\lib\\typescript.js:5798:9\n",
      "    at C:\\Users\\13462\\anaconda3\\node_modules\\tslab\\node_modules\\@tslab\\typescript-for-tslab\\lib\\typescript.js:5560:101\n",
      "    at Array.forEach (<anonymous>)\n",
      "    at FSWatcher.<anonymous> (C:\\Users\\13462\\anaconda3\\node_modules\\tslab\\node_modules\\@tslab\\typescript-for-tslab\\lib\\typescript.js:5560:85)\n",
      "    at FSWatcher.emit (node:events:513:28)\n",
      "UncaughtException: Error: Unexpected pending rebuildTimer\n",
      "    at sys.setTimeout (C:\\Users\\13462\\anaconda3\\node_modules\\tslab\\dist\\converter.js:111:19)\n",
      "    at scheduleProgramUpdate (C:\\Users\\13462\\anaconda3\\node_modules\\tslab\\node_modules\\@tslab\\typescript-for-tslab\\lib\\typescript.js:122735:35)\n",
      "    at onSourceFileChange (C:\\Users\\13462\\anaconda3\\node_modules\\tslab\\node_modules\\@tslab\\typescript-for-tslab\\lib\\typescript.js:122876:7)\n",
      "    at C:\\Users\\13462\\anaconda3\\node_modules\\tslab\\node_modules\\@tslab\\typescript-for-tslab\\lib\\typescript.js:122868:56\n",
      "    at cb (C:\\Users\\13462\\anaconda3\\node_modules\\tslab\\dist\\converter.js:184:13)\n",
      "    at C:\\Users\\13462\\anaconda3\\node_modules\\tslab\\node_modules\\@tslab\\typescript-for-tslab\\lib\\typescript.js:5798:9\n",
      "    at C:\\Users\\13462\\anaconda3\\node_modules\\tslab\\node_modules\\@tslab\\typescript-for-tslab\\lib\\typescript.js:5560:101\n",
      "    at Array.forEach (<anonymous>)\n",
      "    at FSWatcher.<anonymous> (C:\\Users\\13462\\anaconda3\\node_modules\\tslab\\node_modules\\@tslab\\typescript-for-tslab\\lib\\typescript.js:5560:85)\n",
      "    at FSWatcher.emit (node:events:513:28)\n",
      "UncaughtException: Error: Unexpected pending rebuildTimer\n",
      "    at sys.setTimeout (C:\\Users\\13462\\anaconda3\\node_modules\\tslab\\dist\\converter.js:111:19)\n",
      "    at scheduleProgramUpdate (C:\\Users\\13462\\anaconda3\\node_modules\\tslab\\node_modules\\@tslab\\typescript-for-tslab\\lib\\typescript.js:122735:35)\n",
      "    at onSourceFileChange (C:\\Users\\13462\\anaconda3\\node_modules\\tslab\\node_modules\\@tslab\\typescript-for-tslab\\lib\\typescript.js:122876:7)\n",
      "    at C:\\Users\\13462\\anaconda3\\node_modules\\tslab\\node_modules\\@tslab\\typescript-for-tslab\\lib\\typescript.js:122868:56\n",
      "    at cb (C:\\Users\\13462\\anaconda3\\node_modules\\tslab\\dist\\converter.js:184:13)\n",
      "    at C:\\Users\\13462\\anaconda3\\node_modules\\tslab\\node_modules\\@tslab\\typescript-for-tslab\\lib\\typescript.js:5798:9\n",
      "    at C:\\Users\\13462\\anaconda3\\node_modules\\tslab\\node_modules\\@tslab\\typescript-for-tslab\\lib\\typescript.js:5560:101\n",
      "    at Array.forEach (<anonymous>)\n",
      "    at FSWatcher.<anonymous> (C:\\Users\\13462\\anaconda3\\node_modules\\tslab\\node_modules\\@tslab\\typescript-for-tslab\\lib\\typescript.js:5560:85)\n",
      "    at FSWatcher.emit (node:events:513:28)\n"
     ]
    },
    {
     "name": "stderr",
     "output_type": "stream",
     "text": [
      "UncaughtException: Error: Unexpected pending rebuildTimer\n",
      "    at sys.setTimeout (C:\\Users\\13462\\anaconda3\\node_modules\\tslab\\dist\\converter.js:111:19)\n",
      "    at scheduleProgramUpdate (C:\\Users\\13462\\anaconda3\\node_modules\\tslab\\node_modules\\@tslab\\typescript-for-tslab\\lib\\typescript.js:122735:35)\n",
      "    at onSourceFileChange (C:\\Users\\13462\\anaconda3\\node_modules\\tslab\\node_modules\\@tslab\\typescript-for-tslab\\lib\\typescript.js:122876:7)\n",
      "    at C:\\Users\\13462\\anaconda3\\node_modules\\tslab\\node_modules\\@tslab\\typescript-for-tslab\\lib\\typescript.js:122868:56\n",
      "    at cb (C:\\Users\\13462\\anaconda3\\node_modules\\tslab\\dist\\converter.js:184:13)\n",
      "    at C:\\Users\\13462\\anaconda3\\node_modules\\tslab\\node_modules\\@tslab\\typescript-for-tslab\\lib\\typescript.js:5798:9\n",
      "    at C:\\Users\\13462\\anaconda3\\node_modules\\tslab\\node_modules\\@tslab\\typescript-for-tslab\\lib\\typescript.js:5560:101\n",
      "    at Array.forEach (<anonymous>)\n",
      "    at FSWatcher.<anonymous> (C:\\Users\\13462\\anaconda3\\node_modules\\tslab\\node_modules\\@tslab\\typescript-for-tslab\\lib\\typescript.js:5560:85)\n",
      "    at FSWatcher.emit (node:events:513:28)\n",
      "UncaughtException: Error: Unexpected pending rebuildTimer\n",
      "    at sys.setTimeout (C:\\Users\\13462\\anaconda3\\node_modules\\tslab\\dist\\converter.js:111:19)\n",
      "    at scheduleProgramUpdate (C:\\Users\\13462\\anaconda3\\node_modules\\tslab\\node_modules\\@tslab\\typescript-for-tslab\\lib\\typescript.js:122735:35)\n",
      "    at onSourceFileChange (C:\\Users\\13462\\anaconda3\\node_modules\\tslab\\node_modules\\@tslab\\typescript-for-tslab\\lib\\typescript.js:122876:7)\n",
      "    at C:\\Users\\13462\\anaconda3\\node_modules\\tslab\\node_modules\\@tslab\\typescript-for-tslab\\lib\\typescript.js:122868:56\n",
      "    at cb (C:\\Users\\13462\\anaconda3\\node_modules\\tslab\\dist\\converter.js:184:13)\n",
      "    at C:\\Users\\13462\\anaconda3\\node_modules\\tslab\\node_modules\\@tslab\\typescript-for-tslab\\lib\\typescript.js:5798:9\n",
      "    at C:\\Users\\13462\\anaconda3\\node_modules\\tslab\\node_modules\\@tslab\\typescript-for-tslab\\lib\\typescript.js:5560:101\n",
      "    at Array.forEach (<anonymous>)\n",
      "    at FSWatcher.<anonymous> (C:\\Users\\13462\\anaconda3\\node_modules\\tslab\\node_modules\\@tslab\\typescript-for-tslab\\lib\\typescript.js:5560:85)\n",
      "    at FSWatcher.emit (node:events:513:28)\n",
      "UncaughtException: Error: Unexpected pending rebuildTimer\n",
      "    at sys.setTimeout (C:\\Users\\13462\\anaconda3\\node_modules\\tslab\\dist\\converter.js:111:19)\n",
      "    at scheduleProgramUpdate (C:\\Users\\13462\\anaconda3\\node_modules\\tslab\\node_modules\\@tslab\\typescript-for-tslab\\lib\\typescript.js:122735:35)\n",
      "    at onSourceFileChange (C:\\Users\\13462\\anaconda3\\node_modules\\tslab\\node_modules\\@tslab\\typescript-for-tslab\\lib\\typescript.js:122876:7)\n",
      "    at C:\\Users\\13462\\anaconda3\\node_modules\\tslab\\node_modules\\@tslab\\typescript-for-tslab\\lib\\typescript.js:122868:56\n",
      "    at cb (C:\\Users\\13462\\anaconda3\\node_modules\\tslab\\dist\\converter.js:184:13)\n",
      "    at C:\\Users\\13462\\anaconda3\\node_modules\\tslab\\node_modules\\@tslab\\typescript-for-tslab\\lib\\typescript.js:5798:9\n",
      "    at C:\\Users\\13462\\anaconda3\\node_modules\\tslab\\node_modules\\@tslab\\typescript-for-tslab\\lib\\typescript.js:5560:101\n",
      "    at Array.forEach (<anonymous>)\n",
      "    at FSWatcher.<anonymous> (C:\\Users\\13462\\anaconda3\\node_modules\\tslab\\node_modules\\@tslab\\typescript-for-tslab\\lib\\typescript.js:5560:85)\n",
      "    at FSWatcher.emit (node:events:513:28)\n",
      "UncaughtException: Error: Unexpected pending rebuildTimer\n",
      "    at sys.setTimeout (C:\\Users\\13462\\anaconda3\\node_modules\\tslab\\dist\\converter.js:111:19)\n",
      "    at scheduleProgramUpdate (C:\\Users\\13462\\anaconda3\\node_modules\\tslab\\node_modules\\@tslab\\typescript-for-tslab\\lib\\typescript.js:122735:35)\n",
      "    at onSourceFileChange (C:\\Users\\13462\\anaconda3\\node_modules\\tslab\\node_modules\\@tslab\\typescript-for-tslab\\lib\\typescript.js:122876:7)\n",
      "    at C:\\Users\\13462\\anaconda3\\node_modules\\tslab\\node_modules\\@tslab\\typescript-for-tslab\\lib\\typescript.js:122868:56\n",
      "    at cb (C:\\Users\\13462\\anaconda3\\node_modules\\tslab\\dist\\converter.js:184:13)\n",
      "    at C:\\Users\\13462\\anaconda3\\node_modules\\tslab\\node_modules\\@tslab\\typescript-for-tslab\\lib\\typescript.js:5798:9\n",
      "    at C:\\Users\\13462\\anaconda3\\node_modules\\tslab\\node_modules\\@tslab\\typescript-for-tslab\\lib\\typescript.js:5560:101\n",
      "    at Array.forEach (<anonymous>)\n",
      "    at FSWatcher.<anonymous> (C:\\Users\\13462\\anaconda3\\node_modules\\tslab\\node_modules\\@tslab\\typescript-for-tslab\\lib\\typescript.js:5560:85)\n",
      "    at FSWatcher.emit (node:events:513:28)\n",
      "UncaughtException: Error: Unexpected pending rebuildTimer\n",
      "    at sys.setTimeout (C:\\Users\\13462\\anaconda3\\node_modules\\tslab\\dist\\converter.js:111:19)\n",
      "    at scheduleProgramUpdate (C:\\Users\\13462\\anaconda3\\node_modules\\tslab\\node_modules\\@tslab\\typescript-for-tslab\\lib\\typescript.js:122735:35)\n",
      "    at onSourceFileChange (C:\\Users\\13462\\anaconda3\\node_modules\\tslab\\node_modules\\@tslab\\typescript-for-tslab\\lib\\typescript.js:122876:7)\n",
      "    at C:\\Users\\13462\\anaconda3\\node_modules\\tslab\\node_modules\\@tslab\\typescript-for-tslab\\lib\\typescript.js:122868:56\n",
      "    at cb (C:\\Users\\13462\\anaconda3\\node_modules\\tslab\\dist\\converter.js:184:13)\n",
      "    at C:\\Users\\13462\\anaconda3\\node_modules\\tslab\\node_modules\\@tslab\\typescript-for-tslab\\lib\\typescript.js:5798:9\n",
      "    at C:\\Users\\13462\\anaconda3\\node_modules\\tslab\\node_modules\\@tslab\\typescript-for-tslab\\lib\\typescript.js:5560:101\n",
      "    at Array.forEach (<anonymous>)\n",
      "    at FSWatcher.<anonymous> (C:\\Users\\13462\\anaconda3\\node_modules\\tslab\\node_modules\\@tslab\\typescript-for-tslab\\lib\\typescript.js:5560:85)\n",
      "    at FSWatcher.emit (node:events:513:28)\n",
      "UncaughtException: Error: Unexpected pending rebuildTimer\n",
      "    at sys.setTimeout (C:\\Users\\13462\\anaconda3\\node_modules\\tslab\\dist\\converter.js:111:19)\n",
      "    at scheduleProgramUpdate (C:\\Users\\13462\\anaconda3\\node_modules\\tslab\\node_modules\\@tslab\\typescript-for-tslab\\lib\\typescript.js:122735:35)\n",
      "    at onSourceFileChange (C:\\Users\\13462\\anaconda3\\node_modules\\tslab\\node_modules\\@tslab\\typescript-for-tslab\\lib\\typescript.js:122876:7)\n",
      "    at C:\\Users\\13462\\anaconda3\\node_modules\\tslab\\node_modules\\@tslab\\typescript-for-tslab\\lib\\typescript.js:122868:56\n",
      "    at cb (C:\\Users\\13462\\anaconda3\\node_modules\\tslab\\dist\\converter.js:184:13)\n",
      "    at C:\\Users\\13462\\anaconda3\\node_modules\\tslab\\node_modules\\@tslab\\typescript-for-tslab\\lib\\typescript.js:5798:9\n",
      "    at C:\\Users\\13462\\anaconda3\\node_modules\\tslab\\node_modules\\@tslab\\typescript-for-tslab\\lib\\typescript.js:5560:101\n",
      "    at Array.forEach (<anonymous>)\n",
      "    at FSWatcher.<anonymous> (C:\\Users\\13462\\anaconda3\\node_modules\\tslab\\node_modules\\@tslab\\typescript-for-tslab\\lib\\typescript.js:5560:85)\n",
      "    at FSWatcher.emit (node:events:513:28)\n",
      "UncaughtException: Error: Unexpected pending rebuildTimer\n",
      "    at sys.setTimeout (C:\\Users\\13462\\anaconda3\\node_modules\\tslab\\dist\\converter.js:111:19)\n",
      "    at scheduleProgramUpdate (C:\\Users\\13462\\anaconda3\\node_modules\\tslab\\node_modules\\@tslab\\typescript-for-tslab\\lib\\typescript.js:122735:35)\n",
      "    at onSourceFileChange (C:\\Users\\13462\\anaconda3\\node_modules\\tslab\\node_modules\\@tslab\\typescript-for-tslab\\lib\\typescript.js:122876:7)\n",
      "    at C:\\Users\\13462\\anaconda3\\node_modules\\tslab\\node_modules\\@tslab\\typescript-for-tslab\\lib\\typescript.js:122868:56\n",
      "    at cb (C:\\Users\\13462\\anaconda3\\node_modules\\tslab\\dist\\converter.js:184:13)\n",
      "    at C:\\Users\\13462\\anaconda3\\node_modules\\tslab\\node_modules\\@tslab\\typescript-for-tslab\\lib\\typescript.js:5798:9\n",
      "    at C:\\Users\\13462\\anaconda3\\node_modules\\tslab\\node_modules\\@tslab\\typescript-for-tslab\\lib\\typescript.js:5560:101\n",
      "    at Array.forEach (<anonymous>)\n",
      "    at FSWatcher.<anonymous> (C:\\Users\\13462\\anaconda3\\node_modules\\tslab\\node_modules\\@tslab\\typescript-for-tslab\\lib\\typescript.js:5560:85)\n",
      "    at FSWatcher.emit (node:events:513:28)\n",
      "UncaughtException: Error: Unexpected pending rebuildTimer\n",
      "    at sys.setTimeout (C:\\Users\\13462\\anaconda3\\node_modules\\tslab\\dist\\converter.js:111:19)\n",
      "    at scheduleProgramUpdate (C:\\Users\\13462\\anaconda3\\node_modules\\tslab\\node_modules\\@tslab\\typescript-for-tslab\\lib\\typescript.js:122735:35)\n",
      "    at onSourceFileChange (C:\\Users\\13462\\anaconda3\\node_modules\\tslab\\node_modules\\@tslab\\typescript-for-tslab\\lib\\typescript.js:122876:7)\n",
      "    at C:\\Users\\13462\\anaconda3\\node_modules\\tslab\\node_modules\\@tslab\\typescript-for-tslab\\lib\\typescript.js:122868:56\n",
      "    at cb (C:\\Users\\13462\\anaconda3\\node_modules\\tslab\\dist\\converter.js:184:13)\n",
      "    at C:\\Users\\13462\\anaconda3\\node_modules\\tslab\\node_modules\\@tslab\\typescript-for-tslab\\lib\\typescript.js:5798:9\n",
      "    at C:\\Users\\13462\\anaconda3\\node_modules\\tslab\\node_modules\\@tslab\\typescript-for-tslab\\lib\\typescript.js:5560:101\n",
      "    at Array.forEach (<anonymous>)\n",
      "    at FSWatcher.<anonymous> (C:\\Users\\13462\\anaconda3\\node_modules\\tslab\\node_modules\\@tslab\\typescript-for-tslab\\lib\\typescript.js:5560:85)\n",
      "    at FSWatcher.emit (node:events:513:28)\n"
     ]
    },
    {
     "name": "stderr",
     "output_type": "stream",
     "text": [
      "UncaughtException: Error: Unexpected pending rebuildTimer\n",
      "    at sys.setTimeout (C:\\Users\\13462\\anaconda3\\node_modules\\tslab\\dist\\converter.js:111:19)\n",
      "    at scheduleProgramUpdate (C:\\Users\\13462\\anaconda3\\node_modules\\tslab\\node_modules\\@tslab\\typescript-for-tslab\\lib\\typescript.js:122735:35)\n",
      "    at onSourceFileChange (C:\\Users\\13462\\anaconda3\\node_modules\\tslab\\node_modules\\@tslab\\typescript-for-tslab\\lib\\typescript.js:122876:7)\n",
      "    at C:\\Users\\13462\\anaconda3\\node_modules\\tslab\\node_modules\\@tslab\\typescript-for-tslab\\lib\\typescript.js:122868:56\n",
      "    at cb (C:\\Users\\13462\\anaconda3\\node_modules\\tslab\\dist\\converter.js:184:13)\n",
      "    at C:\\Users\\13462\\anaconda3\\node_modules\\tslab\\node_modules\\@tslab\\typescript-for-tslab\\lib\\typescript.js:5798:9\n",
      "    at C:\\Users\\13462\\anaconda3\\node_modules\\tslab\\node_modules\\@tslab\\typescript-for-tslab\\lib\\typescript.js:5560:101\n",
      "    at Array.forEach (<anonymous>)\n",
      "    at FSWatcher.<anonymous> (C:\\Users\\13462\\anaconda3\\node_modules\\tslab\\node_modules\\@tslab\\typescript-for-tslab\\lib\\typescript.js:5560:85)\n",
      "    at FSWatcher.emit (node:events:513:28)\n",
      "UncaughtException: Error: Unexpected pending rebuildTimer\n",
      "    at sys.setTimeout (C:\\Users\\13462\\anaconda3\\node_modules\\tslab\\dist\\converter.js:111:19)\n",
      "    at scheduleProgramUpdate (C:\\Users\\13462\\anaconda3\\node_modules\\tslab\\node_modules\\@tslab\\typescript-for-tslab\\lib\\typescript.js:122735:35)\n",
      "    at onSourceFileChange (C:\\Users\\13462\\anaconda3\\node_modules\\tslab\\node_modules\\@tslab\\typescript-for-tslab\\lib\\typescript.js:122876:7)\n",
      "    at C:\\Users\\13462\\anaconda3\\node_modules\\tslab\\node_modules\\@tslab\\typescript-for-tslab\\lib\\typescript.js:122868:56\n",
      "    at cb (C:\\Users\\13462\\anaconda3\\node_modules\\tslab\\dist\\converter.js:184:13)\n",
      "    at C:\\Users\\13462\\anaconda3\\node_modules\\tslab\\node_modules\\@tslab\\typescript-for-tslab\\lib\\typescript.js:5798:9\n",
      "    at C:\\Users\\13462\\anaconda3\\node_modules\\tslab\\node_modules\\@tslab\\typescript-for-tslab\\lib\\typescript.js:5560:101\n",
      "    at Array.forEach (<anonymous>)\n",
      "    at FSWatcher.<anonymous> (C:\\Users\\13462\\anaconda3\\node_modules\\tslab\\node_modules\\@tslab\\typescript-for-tslab\\lib\\typescript.js:5560:85)\n",
      "    at FSWatcher.emit (node:events:513:28)\n",
      "UncaughtException: Error: Unexpected pending rebuildTimer\n",
      "    at sys.setTimeout (C:\\Users\\13462\\anaconda3\\node_modules\\tslab\\dist\\converter.js:111:19)\n",
      "    at scheduleProgramUpdate (C:\\Users\\13462\\anaconda3\\node_modules\\tslab\\node_modules\\@tslab\\typescript-for-tslab\\lib\\typescript.js:122735:35)\n",
      "    at onSourceFileChange (C:\\Users\\13462\\anaconda3\\node_modules\\tslab\\node_modules\\@tslab\\typescript-for-tslab\\lib\\typescript.js:122876:7)\n",
      "    at C:\\Users\\13462\\anaconda3\\node_modules\\tslab\\node_modules\\@tslab\\typescript-for-tslab\\lib\\typescript.js:122868:56\n",
      "    at cb (C:\\Users\\13462\\anaconda3\\node_modules\\tslab\\dist\\converter.js:184:13)\n",
      "    at C:\\Users\\13462\\anaconda3\\node_modules\\tslab\\node_modules\\@tslab\\typescript-for-tslab\\lib\\typescript.js:5798:9\n",
      "    at C:\\Users\\13462\\anaconda3\\node_modules\\tslab\\node_modules\\@tslab\\typescript-for-tslab\\lib\\typescript.js:5560:101\n",
      "    at Array.forEach (<anonymous>)\n",
      "    at FSWatcher.<anonymous> (C:\\Users\\13462\\anaconda3\\node_modules\\tslab\\node_modules\\@tslab\\typescript-for-tslab\\lib\\typescript.js:5560:85)\n",
      "    at FSWatcher.emit (node:events:513:28)\n",
      "UncaughtException: Error: Unexpected pending rebuildTimer\n",
      "    at sys.setTimeout (C:\\Users\\13462\\anaconda3\\node_modules\\tslab\\dist\\converter.js:111:19)\n",
      "    at scheduleProgramUpdate (C:\\Users\\13462\\anaconda3\\node_modules\\tslab\\node_modules\\@tslab\\typescript-for-tslab\\lib\\typescript.js:122735:35)\n",
      "    at onSourceFileChange (C:\\Users\\13462\\anaconda3\\node_modules\\tslab\\node_modules\\@tslab\\typescript-for-tslab\\lib\\typescript.js:122876:7)\n",
      "    at C:\\Users\\13462\\anaconda3\\node_modules\\tslab\\node_modules\\@tslab\\typescript-for-tslab\\lib\\typescript.js:122868:56\n",
      "    at cb (C:\\Users\\13462\\anaconda3\\node_modules\\tslab\\dist\\converter.js:184:13)\n",
      "    at C:\\Users\\13462\\anaconda3\\node_modules\\tslab\\node_modules\\@tslab\\typescript-for-tslab\\lib\\typescript.js:5798:9\n",
      "    at C:\\Users\\13462\\anaconda3\\node_modules\\tslab\\node_modules\\@tslab\\typescript-for-tslab\\lib\\typescript.js:5560:101\n",
      "    at Array.forEach (<anonymous>)\n",
      "    at FSWatcher.<anonymous> (C:\\Users\\13462\\anaconda3\\node_modules\\tslab\\node_modules\\@tslab\\typescript-for-tslab\\lib\\typescript.js:5560:85)\n",
      "    at FSWatcher.emit (node:events:513:28)\n",
      "UncaughtException: Error: Unexpected pending rebuildTimer\n",
      "    at sys.setTimeout (C:\\Users\\13462\\anaconda3\\node_modules\\tslab\\dist\\converter.js:111:19)\n",
      "    at scheduleProgramUpdate (C:\\Users\\13462\\anaconda3\\node_modules\\tslab\\node_modules\\@tslab\\typescript-for-tslab\\lib\\typescript.js:122735:35)\n",
      "    at onSourceFileChange (C:\\Users\\13462\\anaconda3\\node_modules\\tslab\\node_modules\\@tslab\\typescript-for-tslab\\lib\\typescript.js:122876:7)\n",
      "    at C:\\Users\\13462\\anaconda3\\node_modules\\tslab\\node_modules\\@tslab\\typescript-for-tslab\\lib\\typescript.js:122868:56\n",
      "    at cb (C:\\Users\\13462\\anaconda3\\node_modules\\tslab\\dist\\converter.js:184:13)\n",
      "    at C:\\Users\\13462\\anaconda3\\node_modules\\tslab\\node_modules\\@tslab\\typescript-for-tslab\\lib\\typescript.js:5798:9\n",
      "    at C:\\Users\\13462\\anaconda3\\node_modules\\tslab\\node_modules\\@tslab\\typescript-for-tslab\\lib\\typescript.js:5560:101\n",
      "    at Array.forEach (<anonymous>)\n",
      "    at FSWatcher.<anonymous> (C:\\Users\\13462\\anaconda3\\node_modules\\tslab\\node_modules\\@tslab\\typescript-for-tslab\\lib\\typescript.js:5560:85)\n",
      "    at FSWatcher.emit (node:events:513:28)\n",
      "UncaughtException: Error: Unexpected pending rebuildTimer\n",
      "    at sys.setTimeout (C:\\Users\\13462\\anaconda3\\node_modules\\tslab\\dist\\converter.js:111:19)\n",
      "    at scheduleProgramUpdate (C:\\Users\\13462\\anaconda3\\node_modules\\tslab\\node_modules\\@tslab\\typescript-for-tslab\\lib\\typescript.js:122735:35)\n",
      "    at onSourceFileChange (C:\\Users\\13462\\anaconda3\\node_modules\\tslab\\node_modules\\@tslab\\typescript-for-tslab\\lib\\typescript.js:122876:7)\n",
      "    at C:\\Users\\13462\\anaconda3\\node_modules\\tslab\\node_modules\\@tslab\\typescript-for-tslab\\lib\\typescript.js:122868:56\n",
      "    at cb (C:\\Users\\13462\\anaconda3\\node_modules\\tslab\\dist\\converter.js:184:13)\n",
      "    at C:\\Users\\13462\\anaconda3\\node_modules\\tslab\\node_modules\\@tslab\\typescript-for-tslab\\lib\\typescript.js:5798:9\n",
      "    at C:\\Users\\13462\\anaconda3\\node_modules\\tslab\\node_modules\\@tslab\\typescript-for-tslab\\lib\\typescript.js:5560:101\n",
      "    at Array.forEach (<anonymous>)\n",
      "    at FSWatcher.<anonymous> (C:\\Users\\13462\\anaconda3\\node_modules\\tslab\\node_modules\\@tslab\\typescript-for-tslab\\lib\\typescript.js:5560:85)\n",
      "    at FSWatcher.emit (node:events:513:28)\n",
      "UncaughtException: Error: Unexpected pending rebuildTimer\n",
      "    at sys.setTimeout (C:\\Users\\13462\\anaconda3\\node_modules\\tslab\\dist\\converter.js:111:19)\n",
      "    at scheduleProgramUpdate (C:\\Users\\13462\\anaconda3\\node_modules\\tslab\\node_modules\\@tslab\\typescript-for-tslab\\lib\\typescript.js:122735:35)\n",
      "    at onSourceFileChange (C:\\Users\\13462\\anaconda3\\node_modules\\tslab\\node_modules\\@tslab\\typescript-for-tslab\\lib\\typescript.js:122876:7)\n",
      "    at C:\\Users\\13462\\anaconda3\\node_modules\\tslab\\node_modules\\@tslab\\typescript-for-tslab\\lib\\typescript.js:122868:56\n",
      "    at cb (C:\\Users\\13462\\anaconda3\\node_modules\\tslab\\dist\\converter.js:184:13)\n",
      "    at C:\\Users\\13462\\anaconda3\\node_modules\\tslab\\node_modules\\@tslab\\typescript-for-tslab\\lib\\typescript.js:5798:9\n",
      "    at C:\\Users\\13462\\anaconda3\\node_modules\\tslab\\node_modules\\@tslab\\typescript-for-tslab\\lib\\typescript.js:5560:101\n",
      "    at Array.forEach (<anonymous>)\n",
      "    at FSWatcher.<anonymous> (C:\\Users\\13462\\anaconda3\\node_modules\\tslab\\node_modules\\@tslab\\typescript-for-tslab\\lib\\typescript.js:5560:85)\n",
      "    at FSWatcher.emit (node:events:513:28)\n",
      "UncaughtException: Error: Unexpected pending rebuildTimer\n",
      "    at sys.setTimeout (C:\\Users\\13462\\anaconda3\\node_modules\\tslab\\dist\\converter.js:111:19)\n",
      "    at scheduleProgramUpdate (C:\\Users\\13462\\anaconda3\\node_modules\\tslab\\node_modules\\@tslab\\typescript-for-tslab\\lib\\typescript.js:122735:35)\n",
      "    at onSourceFileChange (C:\\Users\\13462\\anaconda3\\node_modules\\tslab\\node_modules\\@tslab\\typescript-for-tslab\\lib\\typescript.js:122876:7)\n",
      "    at C:\\Users\\13462\\anaconda3\\node_modules\\tslab\\node_modules\\@tslab\\typescript-for-tslab\\lib\\typescript.js:122868:56\n",
      "    at cb (C:\\Users\\13462\\anaconda3\\node_modules\\tslab\\dist\\converter.js:184:13)\n",
      "    at C:\\Users\\13462\\anaconda3\\node_modules\\tslab\\node_modules\\@tslab\\typescript-for-tslab\\lib\\typescript.js:5798:9\n",
      "    at C:\\Users\\13462\\anaconda3\\node_modules\\tslab\\node_modules\\@tslab\\typescript-for-tslab\\lib\\typescript.js:5560:101\n",
      "    at Array.forEach (<anonymous>)\n",
      "    at FSWatcher.<anonymous> (C:\\Users\\13462\\anaconda3\\node_modules\\tslab\\node_modules\\@tslab\\typescript-for-tslab\\lib\\typescript.js:5560:85)\n",
      "    at FSWatcher.emit (node:events:513:28)\n"
     ]
    },
    {
     "name": "stderr",
     "output_type": "stream",
     "text": [
      "UncaughtException: Error: Unexpected pending rebuildTimer\n",
      "    at sys.setTimeout (C:\\Users\\13462\\anaconda3\\node_modules\\tslab\\dist\\converter.js:111:19)\n",
      "    at scheduleProgramUpdate (C:\\Users\\13462\\anaconda3\\node_modules\\tslab\\node_modules\\@tslab\\typescript-for-tslab\\lib\\typescript.js:122735:35)\n",
      "    at onSourceFileChange (C:\\Users\\13462\\anaconda3\\node_modules\\tslab\\node_modules\\@tslab\\typescript-for-tslab\\lib\\typescript.js:122876:7)\n",
      "    at C:\\Users\\13462\\anaconda3\\node_modules\\tslab\\node_modules\\@tslab\\typescript-for-tslab\\lib\\typescript.js:122868:56\n",
      "    at cb (C:\\Users\\13462\\anaconda3\\node_modules\\tslab\\dist\\converter.js:184:13)\n",
      "    at C:\\Users\\13462\\anaconda3\\node_modules\\tslab\\node_modules\\@tslab\\typescript-for-tslab\\lib\\typescript.js:5798:9\n",
      "    at C:\\Users\\13462\\anaconda3\\node_modules\\tslab\\node_modules\\@tslab\\typescript-for-tslab\\lib\\typescript.js:5560:101\n",
      "    at Array.forEach (<anonymous>)\n",
      "    at FSWatcher.<anonymous> (C:\\Users\\13462\\anaconda3\\node_modules\\tslab\\node_modules\\@tslab\\typescript-for-tslab\\lib\\typescript.js:5560:85)\n",
      "    at FSWatcher.emit (node:events:513:28)\n",
      "UncaughtException: Error: Unexpected pending rebuildTimer\n",
      "    at sys.setTimeout (C:\\Users\\13462\\anaconda3\\node_modules\\tslab\\dist\\converter.js:111:19)\n",
      "    at scheduleProgramUpdate (C:\\Users\\13462\\anaconda3\\node_modules\\tslab\\node_modules\\@tslab\\typescript-for-tslab\\lib\\typescript.js:122735:35)\n",
      "    at onSourceFileChange (C:\\Users\\13462\\anaconda3\\node_modules\\tslab\\node_modules\\@tslab\\typescript-for-tslab\\lib\\typescript.js:122876:7)\n",
      "    at C:\\Users\\13462\\anaconda3\\node_modules\\tslab\\node_modules\\@tslab\\typescript-for-tslab\\lib\\typescript.js:122868:56\n",
      "    at cb (C:\\Users\\13462\\anaconda3\\node_modules\\tslab\\dist\\converter.js:184:13)\n",
      "    at C:\\Users\\13462\\anaconda3\\node_modules\\tslab\\node_modules\\@tslab\\typescript-for-tslab\\lib\\typescript.js:5798:9\n",
      "    at C:\\Users\\13462\\anaconda3\\node_modules\\tslab\\node_modules\\@tslab\\typescript-for-tslab\\lib\\typescript.js:5560:101\n",
      "    at Array.forEach (<anonymous>)\n",
      "    at FSWatcher.<anonymous> (C:\\Users\\13462\\anaconda3\\node_modules\\tslab\\node_modules\\@tslab\\typescript-for-tslab\\lib\\typescript.js:5560:85)\n",
      "    at FSWatcher.emit (node:events:513:28)\n",
      "UncaughtException: Error: Unexpected pending rebuildTimer\n",
      "    at sys.setTimeout (C:\\Users\\13462\\anaconda3\\node_modules\\tslab\\dist\\converter.js:111:19)\n",
      "    at scheduleProgramUpdate (C:\\Users\\13462\\anaconda3\\node_modules\\tslab\\node_modules\\@tslab\\typescript-for-tslab\\lib\\typescript.js:122735:35)\n",
      "    at onSourceFileChange (C:\\Users\\13462\\anaconda3\\node_modules\\tslab\\node_modules\\@tslab\\typescript-for-tslab\\lib\\typescript.js:122876:7)\n",
      "    at C:\\Users\\13462\\anaconda3\\node_modules\\tslab\\node_modules\\@tslab\\typescript-for-tslab\\lib\\typescript.js:122868:56\n",
      "    at cb (C:\\Users\\13462\\anaconda3\\node_modules\\tslab\\dist\\converter.js:184:13)\n",
      "    at C:\\Users\\13462\\anaconda3\\node_modules\\tslab\\node_modules\\@tslab\\typescript-for-tslab\\lib\\typescript.js:5798:9\n",
      "    at C:\\Users\\13462\\anaconda3\\node_modules\\tslab\\node_modules\\@tslab\\typescript-for-tslab\\lib\\typescript.js:5560:101\n",
      "    at Array.forEach (<anonymous>)\n",
      "    at FSWatcher.<anonymous> (C:\\Users\\13462\\anaconda3\\node_modules\\tslab\\node_modules\\@tslab\\typescript-for-tslab\\lib\\typescript.js:5560:85)\n",
      "    at FSWatcher.emit (node:events:513:28)\n",
      "UncaughtException: Error: Unexpected pending rebuildTimer\n",
      "    at sys.setTimeout (C:\\Users\\13462\\anaconda3\\node_modules\\tslab\\dist\\converter.js:111:19)\n",
      "    at scheduleProgramUpdate (C:\\Users\\13462\\anaconda3\\node_modules\\tslab\\node_modules\\@tslab\\typescript-for-tslab\\lib\\typescript.js:122735:35)\n",
      "    at onSourceFileChange (C:\\Users\\13462\\anaconda3\\node_modules\\tslab\\node_modules\\@tslab\\typescript-for-tslab\\lib\\typescript.js:122876:7)\n",
      "    at C:\\Users\\13462\\anaconda3\\node_modules\\tslab\\node_modules\\@tslab\\typescript-for-tslab\\lib\\typescript.js:122868:56\n",
      "    at cb (C:\\Users\\13462\\anaconda3\\node_modules\\tslab\\dist\\converter.js:184:13)\n",
      "    at C:\\Users\\13462\\anaconda3\\node_modules\\tslab\\node_modules\\@tslab\\typescript-for-tslab\\lib\\typescript.js:5798:9\n",
      "    at C:\\Users\\13462\\anaconda3\\node_modules\\tslab\\node_modules\\@tslab\\typescript-for-tslab\\lib\\typescript.js:5560:101\n",
      "    at Array.forEach (<anonymous>)\n",
      "    at FSWatcher.<anonymous> (C:\\Users\\13462\\anaconda3\\node_modules\\tslab\\node_modules\\@tslab\\typescript-for-tslab\\lib\\typescript.js:5560:85)\n",
      "    at FSWatcher.emit (node:events:513:28)\n",
      "UncaughtException: Error: Unexpected pending rebuildTimer\n",
      "    at sys.setTimeout (C:\\Users\\13462\\anaconda3\\node_modules\\tslab\\dist\\converter.js:111:19)\n",
      "    at scheduleProgramUpdate (C:\\Users\\13462\\anaconda3\\node_modules\\tslab\\node_modules\\@tslab\\typescript-for-tslab\\lib\\typescript.js:122735:35)\n",
      "    at onSourceFileChange (C:\\Users\\13462\\anaconda3\\node_modules\\tslab\\node_modules\\@tslab\\typescript-for-tslab\\lib\\typescript.js:122876:7)\n",
      "    at C:\\Users\\13462\\anaconda3\\node_modules\\tslab\\node_modules\\@tslab\\typescript-for-tslab\\lib\\typescript.js:122868:56\n",
      "    at cb (C:\\Users\\13462\\anaconda3\\node_modules\\tslab\\dist\\converter.js:184:13)\n",
      "    at C:\\Users\\13462\\anaconda3\\node_modules\\tslab\\node_modules\\@tslab\\typescript-for-tslab\\lib\\typescript.js:5798:9\n",
      "    at C:\\Users\\13462\\anaconda3\\node_modules\\tslab\\node_modules\\@tslab\\typescript-for-tslab\\lib\\typescript.js:5560:101\n",
      "    at Array.forEach (<anonymous>)\n",
      "    at FSWatcher.<anonymous> (C:\\Users\\13462\\anaconda3\\node_modules\\tslab\\node_modules\\@tslab\\typescript-for-tslab\\lib\\typescript.js:5560:85)\n",
      "    at FSWatcher.emit (node:events:513:28)\n",
      "UncaughtException: Error: Unexpected pending rebuildTimer\n",
      "    at sys.setTimeout (C:\\Users\\13462\\anaconda3\\node_modules\\tslab\\dist\\converter.js:111:19)\n",
      "    at scheduleProgramUpdate (C:\\Users\\13462\\anaconda3\\node_modules\\tslab\\node_modules\\@tslab\\typescript-for-tslab\\lib\\typescript.js:122735:35)\n",
      "    at onSourceFileChange (C:\\Users\\13462\\anaconda3\\node_modules\\tslab\\node_modules\\@tslab\\typescript-for-tslab\\lib\\typescript.js:122876:7)\n",
      "    at C:\\Users\\13462\\anaconda3\\node_modules\\tslab\\node_modules\\@tslab\\typescript-for-tslab\\lib\\typescript.js:122868:56\n",
      "    at cb (C:\\Users\\13462\\anaconda3\\node_modules\\tslab\\dist\\converter.js:184:13)\n",
      "    at C:\\Users\\13462\\anaconda3\\node_modules\\tslab\\node_modules\\@tslab\\typescript-for-tslab\\lib\\typescript.js:5798:9\n",
      "    at C:\\Users\\13462\\anaconda3\\node_modules\\tslab\\node_modules\\@tslab\\typescript-for-tslab\\lib\\typescript.js:5560:101\n",
      "    at Array.forEach (<anonymous>)\n",
      "    at FSWatcher.<anonymous> (C:\\Users\\13462\\anaconda3\\node_modules\\tslab\\node_modules\\@tslab\\typescript-for-tslab\\lib\\typescript.js:5560:85)\n",
      "    at FSWatcher.emit (node:events:513:28)\n",
      "UncaughtException: Error: Unexpected pending rebuildTimer\n",
      "    at sys.setTimeout (C:\\Users\\13462\\anaconda3\\node_modules\\tslab\\dist\\converter.js:111:19)\n",
      "    at scheduleProgramUpdate (C:\\Users\\13462\\anaconda3\\node_modules\\tslab\\node_modules\\@tslab\\typescript-for-tslab\\lib\\typescript.js:122735:35)\n",
      "    at onSourceFileChange (C:\\Users\\13462\\anaconda3\\node_modules\\tslab\\node_modules\\@tslab\\typescript-for-tslab\\lib\\typescript.js:122876:7)\n",
      "    at C:\\Users\\13462\\anaconda3\\node_modules\\tslab\\node_modules\\@tslab\\typescript-for-tslab\\lib\\typescript.js:122868:56\n",
      "    at cb (C:\\Users\\13462\\anaconda3\\node_modules\\tslab\\dist\\converter.js:184:13)\n",
      "    at C:\\Users\\13462\\anaconda3\\node_modules\\tslab\\node_modules\\@tslab\\typescript-for-tslab\\lib\\typescript.js:5798:9\n",
      "    at C:\\Users\\13462\\anaconda3\\node_modules\\tslab\\node_modules\\@tslab\\typescript-for-tslab\\lib\\typescript.js:5560:101\n",
      "    at Array.forEach (<anonymous>)\n",
      "    at FSWatcher.<anonymous> (C:\\Users\\13462\\anaconda3\\node_modules\\tslab\\node_modules\\@tslab\\typescript-for-tslab\\lib\\typescript.js:5560:85)\n",
      "    at FSWatcher.emit (node:events:513:28)\n",
      "UncaughtException: Error: Unexpected pending rebuildTimer\n",
      "    at sys.setTimeout (C:\\Users\\13462\\anaconda3\\node_modules\\tslab\\dist\\converter.js:111:19)\n",
      "    at scheduleProgramUpdate (C:\\Users\\13462\\anaconda3\\node_modules\\tslab\\node_modules\\@tslab\\typescript-for-tslab\\lib\\typescript.js:122735:35)\n",
      "    at onSourceFileChange (C:\\Users\\13462\\anaconda3\\node_modules\\tslab\\node_modules\\@tslab\\typescript-for-tslab\\lib\\typescript.js:122876:7)\n",
      "    at C:\\Users\\13462\\anaconda3\\node_modules\\tslab\\node_modules\\@tslab\\typescript-for-tslab\\lib\\typescript.js:122868:56\n",
      "    at cb (C:\\Users\\13462\\anaconda3\\node_modules\\tslab\\dist\\converter.js:184:13)\n",
      "    at C:\\Users\\13462\\anaconda3\\node_modules\\tslab\\node_modules\\@tslab\\typescript-for-tslab\\lib\\typescript.js:5798:9\n",
      "    at C:\\Users\\13462\\anaconda3\\node_modules\\tslab\\node_modules\\@tslab\\typescript-for-tslab\\lib\\typescript.js:5560:101\n",
      "    at Array.forEach (<anonymous>)\n",
      "    at FSWatcher.<anonymous> (C:\\Users\\13462\\anaconda3\\node_modules\\tslab\\node_modules\\@tslab\\typescript-for-tslab\\lib\\typescript.js:5560:85)\n",
      "    at FSWatcher.emit (node:events:513:28)\n"
     ]
    },
    {
     "name": "stderr",
     "output_type": "stream",
     "text": [
      "UncaughtException: Error: Unexpected pending rebuildTimer\n",
      "    at sys.setTimeout (C:\\Users\\13462\\anaconda3\\node_modules\\tslab\\dist\\converter.js:111:19)\n",
      "    at scheduleProgramUpdate (C:\\Users\\13462\\anaconda3\\node_modules\\tslab\\node_modules\\@tslab\\typescript-for-tslab\\lib\\typescript.js:122735:35)\n",
      "    at onSourceFileChange (C:\\Users\\13462\\anaconda3\\node_modules\\tslab\\node_modules\\@tslab\\typescript-for-tslab\\lib\\typescript.js:122876:7)\n",
      "    at C:\\Users\\13462\\anaconda3\\node_modules\\tslab\\node_modules\\@tslab\\typescript-for-tslab\\lib\\typescript.js:122868:56\n",
      "    at cb (C:\\Users\\13462\\anaconda3\\node_modules\\tslab\\dist\\converter.js:184:13)\n",
      "    at C:\\Users\\13462\\anaconda3\\node_modules\\tslab\\node_modules\\@tslab\\typescript-for-tslab\\lib\\typescript.js:5798:9\n",
      "    at C:\\Users\\13462\\anaconda3\\node_modules\\tslab\\node_modules\\@tslab\\typescript-for-tslab\\lib\\typescript.js:5560:101\n",
      "    at Array.forEach (<anonymous>)\n",
      "    at FSWatcher.<anonymous> (C:\\Users\\13462\\anaconda3\\node_modules\\tslab\\node_modules\\@tslab\\typescript-for-tslab\\lib\\typescript.js:5560:85)\n",
      "    at FSWatcher.emit (node:events:513:28)\n",
      "UncaughtException: Error: Unexpected pending rebuildTimer\n",
      "    at sys.setTimeout (C:\\Users\\13462\\anaconda3\\node_modules\\tslab\\dist\\converter.js:111:19)\n",
      "    at scheduleProgramUpdate (C:\\Users\\13462\\anaconda3\\node_modules\\tslab\\node_modules\\@tslab\\typescript-for-tslab\\lib\\typescript.js:122735:35)\n",
      "    at onSourceFileChange (C:\\Users\\13462\\anaconda3\\node_modules\\tslab\\node_modules\\@tslab\\typescript-for-tslab\\lib\\typescript.js:122876:7)\n",
      "    at C:\\Users\\13462\\anaconda3\\node_modules\\tslab\\node_modules\\@tslab\\typescript-for-tslab\\lib\\typescript.js:122868:56\n",
      "    at cb (C:\\Users\\13462\\anaconda3\\node_modules\\tslab\\dist\\converter.js:184:13)\n",
      "    at C:\\Users\\13462\\anaconda3\\node_modules\\tslab\\node_modules\\@tslab\\typescript-for-tslab\\lib\\typescript.js:5798:9\n",
      "    at C:\\Users\\13462\\anaconda3\\node_modules\\tslab\\node_modules\\@tslab\\typescript-for-tslab\\lib\\typescript.js:5560:101\n",
      "    at Array.forEach (<anonymous>)\n",
      "    at FSWatcher.<anonymous> (C:\\Users\\13462\\anaconda3\\node_modules\\tslab\\node_modules\\@tslab\\typescript-for-tslab\\lib\\typescript.js:5560:85)\n",
      "    at FSWatcher.emit (node:events:513:28)\n",
      "UncaughtException: Error: Unexpected pending rebuildTimer\n",
      "    at sys.setTimeout (C:\\Users\\13462\\anaconda3\\node_modules\\tslab\\dist\\converter.js:111:19)\n",
      "    at scheduleProgramUpdate (C:\\Users\\13462\\anaconda3\\node_modules\\tslab\\node_modules\\@tslab\\typescript-for-tslab\\lib\\typescript.js:122735:35)\n",
      "    at onSourceFileChange (C:\\Users\\13462\\anaconda3\\node_modules\\tslab\\node_modules\\@tslab\\typescript-for-tslab\\lib\\typescript.js:122876:7)\n",
      "    at C:\\Users\\13462\\anaconda3\\node_modules\\tslab\\node_modules\\@tslab\\typescript-for-tslab\\lib\\typescript.js:122868:56\n",
      "    at cb (C:\\Users\\13462\\anaconda3\\node_modules\\tslab\\dist\\converter.js:184:13)\n",
      "    at C:\\Users\\13462\\anaconda3\\node_modules\\tslab\\node_modules\\@tslab\\typescript-for-tslab\\lib\\typescript.js:5798:9\n",
      "    at C:\\Users\\13462\\anaconda3\\node_modules\\tslab\\node_modules\\@tslab\\typescript-for-tslab\\lib\\typescript.js:5560:101\n",
      "    at Array.forEach (<anonymous>)\n",
      "    at FSWatcher.<anonymous> (C:\\Users\\13462\\anaconda3\\node_modules\\tslab\\node_modules\\@tslab\\typescript-for-tslab\\lib\\typescript.js:5560:85)\n",
      "    at FSWatcher.emit (node:events:513:28)\n",
      "UncaughtException: Error: Unexpected pending rebuildTimer\n",
      "    at sys.setTimeout (C:\\Users\\13462\\anaconda3\\node_modules\\tslab\\dist\\converter.js:111:19)\n",
      "    at scheduleProgramUpdate (C:\\Users\\13462\\anaconda3\\node_modules\\tslab\\node_modules\\@tslab\\typescript-for-tslab\\lib\\typescript.js:122735:35)\n",
      "    at onSourceFileChange (C:\\Users\\13462\\anaconda3\\node_modules\\tslab\\node_modules\\@tslab\\typescript-for-tslab\\lib\\typescript.js:122876:7)\n",
      "    at C:\\Users\\13462\\anaconda3\\node_modules\\tslab\\node_modules\\@tslab\\typescript-for-tslab\\lib\\typescript.js:122868:56\n",
      "    at cb (C:\\Users\\13462\\anaconda3\\node_modules\\tslab\\dist\\converter.js:184:13)\n",
      "    at C:\\Users\\13462\\anaconda3\\node_modules\\tslab\\node_modules\\@tslab\\typescript-for-tslab\\lib\\typescript.js:5798:9\n",
      "    at C:\\Users\\13462\\anaconda3\\node_modules\\tslab\\node_modules\\@tslab\\typescript-for-tslab\\lib\\typescript.js:5560:101\n",
      "    at Array.forEach (<anonymous>)\n",
      "    at FSWatcher.<anonymous> (C:\\Users\\13462\\anaconda3\\node_modules\\tslab\\node_modules\\@tslab\\typescript-for-tslab\\lib\\typescript.js:5560:85)\n",
      "    at FSWatcher.emit (node:events:513:28)\n",
      "UncaughtException: Error: Unexpected pending rebuildTimer\n",
      "    at sys.setTimeout (C:\\Users\\13462\\anaconda3\\node_modules\\tslab\\dist\\converter.js:111:19)\n",
      "    at scheduleProgramUpdate (C:\\Users\\13462\\anaconda3\\node_modules\\tslab\\node_modules\\@tslab\\typescript-for-tslab\\lib\\typescript.js:122735:35)\n",
      "    at onSourceFileChange (C:\\Users\\13462\\anaconda3\\node_modules\\tslab\\node_modules\\@tslab\\typescript-for-tslab\\lib\\typescript.js:122876:7)\n",
      "    at C:\\Users\\13462\\anaconda3\\node_modules\\tslab\\node_modules\\@tslab\\typescript-for-tslab\\lib\\typescript.js:122868:56\n",
      "    at cb (C:\\Users\\13462\\anaconda3\\node_modules\\tslab\\dist\\converter.js:184:13)\n",
      "    at C:\\Users\\13462\\anaconda3\\node_modules\\tslab\\node_modules\\@tslab\\typescript-for-tslab\\lib\\typescript.js:5798:9\n",
      "    at C:\\Users\\13462\\anaconda3\\node_modules\\tslab\\node_modules\\@tslab\\typescript-for-tslab\\lib\\typescript.js:5560:101\n",
      "    at Array.forEach (<anonymous>)\n",
      "    at FSWatcher.<anonymous> (C:\\Users\\13462\\anaconda3\\node_modules\\tslab\\node_modules\\@tslab\\typescript-for-tslab\\lib\\typescript.js:5560:85)\n",
      "    at FSWatcher.emit (node:events:513:28)\n",
      "UncaughtException: Error: Unexpected pending rebuildTimer\n",
      "    at sys.setTimeout (C:\\Users\\13462\\anaconda3\\node_modules\\tslab\\dist\\converter.js:111:19)\n",
      "    at scheduleProgramUpdate (C:\\Users\\13462\\anaconda3\\node_modules\\tslab\\node_modules\\@tslab\\typescript-for-tslab\\lib\\typescript.js:122735:35)\n",
      "    at onSourceFileChange (C:\\Users\\13462\\anaconda3\\node_modules\\tslab\\node_modules\\@tslab\\typescript-for-tslab\\lib\\typescript.js:122876:7)\n",
      "    at C:\\Users\\13462\\anaconda3\\node_modules\\tslab\\node_modules\\@tslab\\typescript-for-tslab\\lib\\typescript.js:122868:56\n",
      "    at cb (C:\\Users\\13462\\anaconda3\\node_modules\\tslab\\dist\\converter.js:184:13)\n",
      "    at C:\\Users\\13462\\anaconda3\\node_modules\\tslab\\node_modules\\@tslab\\typescript-for-tslab\\lib\\typescript.js:5798:9\n",
      "    at C:\\Users\\13462\\anaconda3\\node_modules\\tslab\\node_modules\\@tslab\\typescript-for-tslab\\lib\\typescript.js:5560:101\n",
      "    at Array.forEach (<anonymous>)\n",
      "    at FSWatcher.<anonymous> (C:\\Users\\13462\\anaconda3\\node_modules\\tslab\\node_modules\\@tslab\\typescript-for-tslab\\lib\\typescript.js:5560:85)\n",
      "    at FSWatcher.emit (node:events:513:28)\n",
      "UncaughtException: Error: Unexpected pending rebuildTimer\n",
      "    at sys.setTimeout (C:\\Users\\13462\\anaconda3\\node_modules\\tslab\\dist\\converter.js:111:19)\n",
      "    at scheduleProgramUpdate (C:\\Users\\13462\\anaconda3\\node_modules\\tslab\\node_modules\\@tslab\\typescript-for-tslab\\lib\\typescript.js:122735:35)\n",
      "    at onSourceFileChange (C:\\Users\\13462\\anaconda3\\node_modules\\tslab\\node_modules\\@tslab\\typescript-for-tslab\\lib\\typescript.js:122876:7)\n",
      "    at C:\\Users\\13462\\anaconda3\\node_modules\\tslab\\node_modules\\@tslab\\typescript-for-tslab\\lib\\typescript.js:122868:56\n",
      "    at cb (C:\\Users\\13462\\anaconda3\\node_modules\\tslab\\dist\\converter.js:184:13)\n",
      "    at C:\\Users\\13462\\anaconda3\\node_modules\\tslab\\node_modules\\@tslab\\typescript-for-tslab\\lib\\typescript.js:5798:9\n",
      "    at C:\\Users\\13462\\anaconda3\\node_modules\\tslab\\node_modules\\@tslab\\typescript-for-tslab\\lib\\typescript.js:5560:101\n",
      "    at Array.forEach (<anonymous>)\n",
      "    at FSWatcher.<anonymous> (C:\\Users\\13462\\anaconda3\\node_modules\\tslab\\node_modules\\@tslab\\typescript-for-tslab\\lib\\typescript.js:5560:85)\n",
      "    at FSWatcher.emit (node:events:513:28)\n",
      "UncaughtException: Error: Unexpected pending rebuildTimer\n",
      "    at sys.setTimeout (C:\\Users\\13462\\anaconda3\\node_modules\\tslab\\dist\\converter.js:111:19)\n",
      "    at scheduleProgramUpdate (C:\\Users\\13462\\anaconda3\\node_modules\\tslab\\node_modules\\@tslab\\typescript-for-tslab\\lib\\typescript.js:122735:35)\n",
      "    at onSourceFileChange (C:\\Users\\13462\\anaconda3\\node_modules\\tslab\\node_modules\\@tslab\\typescript-for-tslab\\lib\\typescript.js:122876:7)\n",
      "    at C:\\Users\\13462\\anaconda3\\node_modules\\tslab\\node_modules\\@tslab\\typescript-for-tslab\\lib\\typescript.js:122868:56\n",
      "    at cb (C:\\Users\\13462\\anaconda3\\node_modules\\tslab\\dist\\converter.js:184:13)\n",
      "    at C:\\Users\\13462\\anaconda3\\node_modules\\tslab\\node_modules\\@tslab\\typescript-for-tslab\\lib\\typescript.js:5798:9\n",
      "    at C:\\Users\\13462\\anaconda3\\node_modules\\tslab\\node_modules\\@tslab\\typescript-for-tslab\\lib\\typescript.js:5560:101\n",
      "    at Array.forEach (<anonymous>)\n",
      "    at FSWatcher.<anonymous> (C:\\Users\\13462\\anaconda3\\node_modules\\tslab\\node_modules\\@tslab\\typescript-for-tslab\\lib\\typescript.js:5560:85)\n",
      "    at FSWatcher.emit (node:events:513:28)\n"
     ]
    },
    {
     "name": "stderr",
     "output_type": "stream",
     "text": [
      "UncaughtException: Error: Unexpected pending rebuildTimer\n",
      "    at sys.setTimeout (C:\\Users\\13462\\anaconda3\\node_modules\\tslab\\dist\\converter.js:111:19)\n",
      "    at scheduleProgramUpdate (C:\\Users\\13462\\anaconda3\\node_modules\\tslab\\node_modules\\@tslab\\typescript-for-tslab\\lib\\typescript.js:122735:35)\n",
      "    at onSourceFileChange (C:\\Users\\13462\\anaconda3\\node_modules\\tslab\\node_modules\\@tslab\\typescript-for-tslab\\lib\\typescript.js:122876:7)\n",
      "    at C:\\Users\\13462\\anaconda3\\node_modules\\tslab\\node_modules\\@tslab\\typescript-for-tslab\\lib\\typescript.js:122868:56\n",
      "    at cb (C:\\Users\\13462\\anaconda3\\node_modules\\tslab\\dist\\converter.js:184:13)\n",
      "    at C:\\Users\\13462\\anaconda3\\node_modules\\tslab\\node_modules\\@tslab\\typescript-for-tslab\\lib\\typescript.js:5798:9\n",
      "    at C:\\Users\\13462\\anaconda3\\node_modules\\tslab\\node_modules\\@tslab\\typescript-for-tslab\\lib\\typescript.js:5560:101\n",
      "    at Array.forEach (<anonymous>)\n",
      "    at FSWatcher.<anonymous> (C:\\Users\\13462\\anaconda3\\node_modules\\tslab\\node_modules\\@tslab\\typescript-for-tslab\\lib\\typescript.js:5560:85)\n",
      "    at FSWatcher.emit (node:events:513:28)\n",
      "UncaughtException: Error: Unexpected pending rebuildTimer\n",
      "    at sys.setTimeout (C:\\Users\\13462\\anaconda3\\node_modules\\tslab\\dist\\converter.js:111:19)\n",
      "    at scheduleProgramUpdate (C:\\Users\\13462\\anaconda3\\node_modules\\tslab\\node_modules\\@tslab\\typescript-for-tslab\\lib\\typescript.js:122735:35)\n",
      "    at onSourceFileChange (C:\\Users\\13462\\anaconda3\\node_modules\\tslab\\node_modules\\@tslab\\typescript-for-tslab\\lib\\typescript.js:122876:7)\n",
      "    at C:\\Users\\13462\\anaconda3\\node_modules\\tslab\\node_modules\\@tslab\\typescript-for-tslab\\lib\\typescript.js:122868:56\n",
      "    at cb (C:\\Users\\13462\\anaconda3\\node_modules\\tslab\\dist\\converter.js:184:13)\n",
      "    at C:\\Users\\13462\\anaconda3\\node_modules\\tslab\\node_modules\\@tslab\\typescript-for-tslab\\lib\\typescript.js:5798:9\n",
      "    at C:\\Users\\13462\\anaconda3\\node_modules\\tslab\\node_modules\\@tslab\\typescript-for-tslab\\lib\\typescript.js:5560:101\n",
      "    at Array.forEach (<anonymous>)\n",
      "    at FSWatcher.<anonymous> (C:\\Users\\13462\\anaconda3\\node_modules\\tslab\\node_modules\\@tslab\\typescript-for-tslab\\lib\\typescript.js:5560:85)\n",
      "    at FSWatcher.emit (node:events:513:28)\n",
      "UncaughtException: Error: Unexpected pending rebuildTimer\n",
      "    at sys.setTimeout (C:\\Users\\13462\\anaconda3\\node_modules\\tslab\\dist\\converter.js:111:19)\n",
      "    at scheduleProgramUpdate (C:\\Users\\13462\\anaconda3\\node_modules\\tslab\\node_modules\\@tslab\\typescript-for-tslab\\lib\\typescript.js:122735:35)\n",
      "    at onSourceFileChange (C:\\Users\\13462\\anaconda3\\node_modules\\tslab\\node_modules\\@tslab\\typescript-for-tslab\\lib\\typescript.js:122876:7)\n",
      "    at C:\\Users\\13462\\anaconda3\\node_modules\\tslab\\node_modules\\@tslab\\typescript-for-tslab\\lib\\typescript.js:122868:56\n",
      "    at cb (C:\\Users\\13462\\anaconda3\\node_modules\\tslab\\dist\\converter.js:184:13)\n",
      "    at C:\\Users\\13462\\anaconda3\\node_modules\\tslab\\node_modules\\@tslab\\typescript-for-tslab\\lib\\typescript.js:5798:9\n",
      "    at C:\\Users\\13462\\anaconda3\\node_modules\\tslab\\node_modules\\@tslab\\typescript-for-tslab\\lib\\typescript.js:5560:101\n",
      "    at Array.forEach (<anonymous>)\n",
      "    at FSWatcher.<anonymous> (C:\\Users\\13462\\anaconda3\\node_modules\\tslab\\node_modules\\@tslab\\typescript-for-tslab\\lib\\typescript.js:5560:85)\n",
      "    at FSWatcher.emit (node:events:513:28)\n",
      "UncaughtException: Error: Unexpected pending rebuildTimer\n",
      "    at sys.setTimeout (C:\\Users\\13462\\anaconda3\\node_modules\\tslab\\dist\\converter.js:111:19)\n",
      "    at scheduleProgramUpdate (C:\\Users\\13462\\anaconda3\\node_modules\\tslab\\node_modules\\@tslab\\typescript-for-tslab\\lib\\typescript.js:122735:35)\n",
      "    at onSourceFileChange (C:\\Users\\13462\\anaconda3\\node_modules\\tslab\\node_modules\\@tslab\\typescript-for-tslab\\lib\\typescript.js:122876:7)\n",
      "    at C:\\Users\\13462\\anaconda3\\node_modules\\tslab\\node_modules\\@tslab\\typescript-for-tslab\\lib\\typescript.js:122868:56\n",
      "    at cb (C:\\Users\\13462\\anaconda3\\node_modules\\tslab\\dist\\converter.js:184:13)\n",
      "    at C:\\Users\\13462\\anaconda3\\node_modules\\tslab\\node_modules\\@tslab\\typescript-for-tslab\\lib\\typescript.js:5798:9\n",
      "    at C:\\Users\\13462\\anaconda3\\node_modules\\tslab\\node_modules\\@tslab\\typescript-for-tslab\\lib\\typescript.js:5560:101\n",
      "    at Array.forEach (<anonymous>)\n",
      "    at FSWatcher.<anonymous> (C:\\Users\\13462\\anaconda3\\node_modules\\tslab\\node_modules\\@tslab\\typescript-for-tslab\\lib\\typescript.js:5560:85)\n",
      "    at FSWatcher.emit (node:events:513:28)\n",
      "UncaughtException: Error: Unexpected pending rebuildTimer\n",
      "    at sys.setTimeout (C:\\Users\\13462\\anaconda3\\node_modules\\tslab\\dist\\converter.js:111:19)\n",
      "    at scheduleProgramUpdate (C:\\Users\\13462\\anaconda3\\node_modules\\tslab\\node_modules\\@tslab\\typescript-for-tslab\\lib\\typescript.js:122735:35)\n",
      "    at onSourceFileChange (C:\\Users\\13462\\anaconda3\\node_modules\\tslab\\node_modules\\@tslab\\typescript-for-tslab\\lib\\typescript.js:122876:7)\n",
      "    at C:\\Users\\13462\\anaconda3\\node_modules\\tslab\\node_modules\\@tslab\\typescript-for-tslab\\lib\\typescript.js:122868:56\n",
      "    at cb (C:\\Users\\13462\\anaconda3\\node_modules\\tslab\\dist\\converter.js:184:13)\n",
      "    at C:\\Users\\13462\\anaconda3\\node_modules\\tslab\\node_modules\\@tslab\\typescript-for-tslab\\lib\\typescript.js:5798:9\n",
      "    at C:\\Users\\13462\\anaconda3\\node_modules\\tslab\\node_modules\\@tslab\\typescript-for-tslab\\lib\\typescript.js:5560:101\n",
      "    at Array.forEach (<anonymous>)\n",
      "    at FSWatcher.<anonymous> (C:\\Users\\13462\\anaconda3\\node_modules\\tslab\\node_modules\\@tslab\\typescript-for-tslab\\lib\\typescript.js:5560:85)\n",
      "    at FSWatcher.emit (node:events:513:28)\n",
      "UncaughtException: Error: Unexpected pending rebuildTimer\n",
      "    at sys.setTimeout (C:\\Users\\13462\\anaconda3\\node_modules\\tslab\\dist\\converter.js:111:19)\n",
      "    at scheduleProgramUpdate (C:\\Users\\13462\\anaconda3\\node_modules\\tslab\\node_modules\\@tslab\\typescript-for-tslab\\lib\\typescript.js:122735:35)\n",
      "    at onSourceFileChange (C:\\Users\\13462\\anaconda3\\node_modules\\tslab\\node_modules\\@tslab\\typescript-for-tslab\\lib\\typescript.js:122876:7)\n",
      "    at C:\\Users\\13462\\anaconda3\\node_modules\\tslab\\node_modules\\@tslab\\typescript-for-tslab\\lib\\typescript.js:122868:56\n",
      "    at cb (C:\\Users\\13462\\anaconda3\\node_modules\\tslab\\dist\\converter.js:184:13)\n",
      "    at C:\\Users\\13462\\anaconda3\\node_modules\\tslab\\node_modules\\@tslab\\typescript-for-tslab\\lib\\typescript.js:5798:9\n",
      "    at C:\\Users\\13462\\anaconda3\\node_modules\\tslab\\node_modules\\@tslab\\typescript-for-tslab\\lib\\typescript.js:5560:101\n",
      "    at Array.forEach (<anonymous>)\n",
      "    at FSWatcher.<anonymous> (C:\\Users\\13462\\anaconda3\\node_modules\\tslab\\node_modules\\@tslab\\typescript-for-tslab\\lib\\typescript.js:5560:85)\n",
      "    at FSWatcher.emit (node:events:513:28)\n",
      "UncaughtException: Error: Unexpected pending rebuildTimer\n",
      "    at sys.setTimeout (C:\\Users\\13462\\anaconda3\\node_modules\\tslab\\dist\\converter.js:111:19)\n",
      "    at scheduleProgramUpdate (C:\\Users\\13462\\anaconda3\\node_modules\\tslab\\node_modules\\@tslab\\typescript-for-tslab\\lib\\typescript.js:122735:35)\n",
      "    at onSourceFileChange (C:\\Users\\13462\\anaconda3\\node_modules\\tslab\\node_modules\\@tslab\\typescript-for-tslab\\lib\\typescript.js:122876:7)\n",
      "    at C:\\Users\\13462\\anaconda3\\node_modules\\tslab\\node_modules\\@tslab\\typescript-for-tslab\\lib\\typescript.js:122868:56\n",
      "    at cb (C:\\Users\\13462\\anaconda3\\node_modules\\tslab\\dist\\converter.js:184:13)\n",
      "    at C:\\Users\\13462\\anaconda3\\node_modules\\tslab\\node_modules\\@tslab\\typescript-for-tslab\\lib\\typescript.js:5798:9\n",
      "    at C:\\Users\\13462\\anaconda3\\node_modules\\tslab\\node_modules\\@tslab\\typescript-for-tslab\\lib\\typescript.js:5560:101\n",
      "    at Array.forEach (<anonymous>)\n",
      "    at FSWatcher.<anonymous> (C:\\Users\\13462\\anaconda3\\node_modules\\tslab\\node_modules\\@tslab\\typescript-for-tslab\\lib\\typescript.js:5560:85)\n",
      "    at FSWatcher.emit (node:events:513:28)\n",
      "UncaughtException: Error: Unexpected pending rebuildTimer\n",
      "    at sys.setTimeout (C:\\Users\\13462\\anaconda3\\node_modules\\tslab\\dist\\converter.js:111:19)\n",
      "    at scheduleProgramUpdate (C:\\Users\\13462\\anaconda3\\node_modules\\tslab\\node_modules\\@tslab\\typescript-for-tslab\\lib\\typescript.js:122735:35)\n",
      "    at onSourceFileChange (C:\\Users\\13462\\anaconda3\\node_modules\\tslab\\node_modules\\@tslab\\typescript-for-tslab\\lib\\typescript.js:122876:7)\n",
      "    at C:\\Users\\13462\\anaconda3\\node_modules\\tslab\\node_modules\\@tslab\\typescript-for-tslab\\lib\\typescript.js:122868:56\n",
      "    at cb (C:\\Users\\13462\\anaconda3\\node_modules\\tslab\\dist\\converter.js:184:13)\n",
      "    at C:\\Users\\13462\\anaconda3\\node_modules\\tslab\\node_modules\\@tslab\\typescript-for-tslab\\lib\\typescript.js:5798:9\n",
      "    at C:\\Users\\13462\\anaconda3\\node_modules\\tslab\\node_modules\\@tslab\\typescript-for-tslab\\lib\\typescript.js:5560:101\n",
      "    at Array.forEach (<anonymous>)\n",
      "    at FSWatcher.<anonymous> (C:\\Users\\13462\\anaconda3\\node_modules\\tslab\\node_modules\\@tslab\\typescript-for-tslab\\lib\\typescript.js:5560:85)\n",
      "    at FSWatcher.emit (node:events:513:28)\n"
     ]
    },
    {
     "name": "stderr",
     "output_type": "stream",
     "text": [
      "UncaughtException: Error: Unexpected pending rebuildTimer\n",
      "    at sys.setTimeout (C:\\Users\\13462\\anaconda3\\node_modules\\tslab\\dist\\converter.js:111:19)\n",
      "    at scheduleProgramUpdate (C:\\Users\\13462\\anaconda3\\node_modules\\tslab\\node_modules\\@tslab\\typescript-for-tslab\\lib\\typescript.js:122735:35)\n",
      "    at onSourceFileChange (C:\\Users\\13462\\anaconda3\\node_modules\\tslab\\node_modules\\@tslab\\typescript-for-tslab\\lib\\typescript.js:122876:7)\n",
      "    at C:\\Users\\13462\\anaconda3\\node_modules\\tslab\\node_modules\\@tslab\\typescript-for-tslab\\lib\\typescript.js:122868:56\n",
      "    at cb (C:\\Users\\13462\\anaconda3\\node_modules\\tslab\\dist\\converter.js:184:13)\n",
      "    at C:\\Users\\13462\\anaconda3\\node_modules\\tslab\\node_modules\\@tslab\\typescript-for-tslab\\lib\\typescript.js:5798:9\n",
      "    at C:\\Users\\13462\\anaconda3\\node_modules\\tslab\\node_modules\\@tslab\\typescript-for-tslab\\lib\\typescript.js:5560:101\n",
      "    at Array.forEach (<anonymous>)\n",
      "    at FSWatcher.<anonymous> (C:\\Users\\13462\\anaconda3\\node_modules\\tslab\\node_modules\\@tslab\\typescript-for-tslab\\lib\\typescript.js:5560:85)\n",
      "    at FSWatcher.emit (node:events:513:28)\n",
      "UncaughtException: Error: Unexpected pending rebuildTimer\n",
      "    at sys.setTimeout (C:\\Users\\13462\\anaconda3\\node_modules\\tslab\\dist\\converter.js:111:19)\n",
      "    at scheduleProgramUpdate (C:\\Users\\13462\\anaconda3\\node_modules\\tslab\\node_modules\\@tslab\\typescript-for-tslab\\lib\\typescript.js:122735:35)\n",
      "    at onSourceFileChange (C:\\Users\\13462\\anaconda3\\node_modules\\tslab\\node_modules\\@tslab\\typescript-for-tslab\\lib\\typescript.js:122876:7)\n",
      "    at C:\\Users\\13462\\anaconda3\\node_modules\\tslab\\node_modules\\@tslab\\typescript-for-tslab\\lib\\typescript.js:122868:56\n",
      "    at cb (C:\\Users\\13462\\anaconda3\\node_modules\\tslab\\dist\\converter.js:184:13)\n",
      "    at C:\\Users\\13462\\anaconda3\\node_modules\\tslab\\node_modules\\@tslab\\typescript-for-tslab\\lib\\typescript.js:5798:9\n",
      "    at C:\\Users\\13462\\anaconda3\\node_modules\\tslab\\node_modules\\@tslab\\typescript-for-tslab\\lib\\typescript.js:5560:101\n",
      "    at Array.forEach (<anonymous>)\n",
      "    at FSWatcher.<anonymous> (C:\\Users\\13462\\anaconda3\\node_modules\\tslab\\node_modules\\@tslab\\typescript-for-tslab\\lib\\typescript.js:5560:85)\n",
      "    at FSWatcher.emit (node:events:513:28)\n",
      "UncaughtException: Error: Unexpected pending rebuildTimer\n",
      "    at sys.setTimeout (C:\\Users\\13462\\anaconda3\\node_modules\\tslab\\dist\\converter.js:111:19)\n",
      "    at scheduleProgramUpdate (C:\\Users\\13462\\anaconda3\\node_modules\\tslab\\node_modules\\@tslab\\typescript-for-tslab\\lib\\typescript.js:122735:35)\n",
      "    at onSourceFileChange (C:\\Users\\13462\\anaconda3\\node_modules\\tslab\\node_modules\\@tslab\\typescript-for-tslab\\lib\\typescript.js:122876:7)\n",
      "    at C:\\Users\\13462\\anaconda3\\node_modules\\tslab\\node_modules\\@tslab\\typescript-for-tslab\\lib\\typescript.js:122868:56\n",
      "    at cb (C:\\Users\\13462\\anaconda3\\node_modules\\tslab\\dist\\converter.js:184:13)\n",
      "    at C:\\Users\\13462\\anaconda3\\node_modules\\tslab\\node_modules\\@tslab\\typescript-for-tslab\\lib\\typescript.js:5798:9\n",
      "    at C:\\Users\\13462\\anaconda3\\node_modules\\tslab\\node_modules\\@tslab\\typescript-for-tslab\\lib\\typescript.js:5560:101\n",
      "    at Array.forEach (<anonymous>)\n",
      "    at FSWatcher.<anonymous> (C:\\Users\\13462\\anaconda3\\node_modules\\tslab\\node_modules\\@tslab\\typescript-for-tslab\\lib\\typescript.js:5560:85)\n",
      "    at FSWatcher.emit (node:events:513:28)\n",
      "UncaughtException: Error: Unexpected pending rebuildTimer\n",
      "    at sys.setTimeout (C:\\Users\\13462\\anaconda3\\node_modules\\tslab\\dist\\converter.js:111:19)\n",
      "    at scheduleProgramUpdate (C:\\Users\\13462\\anaconda3\\node_modules\\tslab\\node_modules\\@tslab\\typescript-for-tslab\\lib\\typescript.js:122735:35)\n",
      "    at onSourceFileChange (C:\\Users\\13462\\anaconda3\\node_modules\\tslab\\node_modules\\@tslab\\typescript-for-tslab\\lib\\typescript.js:122876:7)\n",
      "    at C:\\Users\\13462\\anaconda3\\node_modules\\tslab\\node_modules\\@tslab\\typescript-for-tslab\\lib\\typescript.js:122868:56\n",
      "    at cb (C:\\Users\\13462\\anaconda3\\node_modules\\tslab\\dist\\converter.js:184:13)\n",
      "    at C:\\Users\\13462\\anaconda3\\node_modules\\tslab\\node_modules\\@tslab\\typescript-for-tslab\\lib\\typescript.js:5798:9\n",
      "    at C:\\Users\\13462\\anaconda3\\node_modules\\tslab\\node_modules\\@tslab\\typescript-for-tslab\\lib\\typescript.js:5560:101\n",
      "    at Array.forEach (<anonymous>)\n",
      "    at FSWatcher.<anonymous> (C:\\Users\\13462\\anaconda3\\node_modules\\tslab\\node_modules\\@tslab\\typescript-for-tslab\\lib\\typescript.js:5560:85)\n",
      "    at FSWatcher.emit (node:events:513:28)\n",
      "UncaughtException: Error: Unexpected pending rebuildTimer\n",
      "    at sys.setTimeout (C:\\Users\\13462\\anaconda3\\node_modules\\tslab\\dist\\converter.js:111:19)\n",
      "    at scheduleProgramUpdate (C:\\Users\\13462\\anaconda3\\node_modules\\tslab\\node_modules\\@tslab\\typescript-for-tslab\\lib\\typescript.js:122735:35)\n",
      "    at onSourceFileChange (C:\\Users\\13462\\anaconda3\\node_modules\\tslab\\node_modules\\@tslab\\typescript-for-tslab\\lib\\typescript.js:122876:7)\n",
      "    at C:\\Users\\13462\\anaconda3\\node_modules\\tslab\\node_modules\\@tslab\\typescript-for-tslab\\lib\\typescript.js:122868:56\n",
      "    at cb (C:\\Users\\13462\\anaconda3\\node_modules\\tslab\\dist\\converter.js:184:13)\n",
      "    at C:\\Users\\13462\\anaconda3\\node_modules\\tslab\\node_modules\\@tslab\\typescript-for-tslab\\lib\\typescript.js:5798:9\n",
      "    at C:\\Users\\13462\\anaconda3\\node_modules\\tslab\\node_modules\\@tslab\\typescript-for-tslab\\lib\\typescript.js:5560:101\n",
      "    at Array.forEach (<anonymous>)\n",
      "    at FSWatcher.<anonymous> (C:\\Users\\13462\\anaconda3\\node_modules\\tslab\\node_modules\\@tslab\\typescript-for-tslab\\lib\\typescript.js:5560:85)\n",
      "    at FSWatcher.emit (node:events:513:28)\n",
      "UncaughtException: Error: Unexpected pending rebuildTimer\n",
      "    at sys.setTimeout (C:\\Users\\13462\\anaconda3\\node_modules\\tslab\\dist\\converter.js:111:19)\n",
      "    at scheduleProgramUpdate (C:\\Users\\13462\\anaconda3\\node_modules\\tslab\\node_modules\\@tslab\\typescript-for-tslab\\lib\\typescript.js:122735:35)\n",
      "    at onSourceFileChange (C:\\Users\\13462\\anaconda3\\node_modules\\tslab\\node_modules\\@tslab\\typescript-for-tslab\\lib\\typescript.js:122876:7)\n",
      "    at C:\\Users\\13462\\anaconda3\\node_modules\\tslab\\node_modules\\@tslab\\typescript-for-tslab\\lib\\typescript.js:122868:56\n",
      "    at cb (C:\\Users\\13462\\anaconda3\\node_modules\\tslab\\dist\\converter.js:184:13)\n",
      "    at C:\\Users\\13462\\anaconda3\\node_modules\\tslab\\node_modules\\@tslab\\typescript-for-tslab\\lib\\typescript.js:5798:9\n",
      "    at C:\\Users\\13462\\anaconda3\\node_modules\\tslab\\node_modules\\@tslab\\typescript-for-tslab\\lib\\typescript.js:5560:101\n",
      "    at Array.forEach (<anonymous>)\n",
      "    at FSWatcher.<anonymous> (C:\\Users\\13462\\anaconda3\\node_modules\\tslab\\node_modules\\@tslab\\typescript-for-tslab\\lib\\typescript.js:5560:85)\n",
      "    at FSWatcher.emit (node:events:513:28)\n",
      "UncaughtException: Error: Unexpected pending rebuildTimer\n",
      "    at sys.setTimeout (C:\\Users\\13462\\anaconda3\\node_modules\\tslab\\dist\\converter.js:111:19)\n",
      "    at scheduleProgramUpdate (C:\\Users\\13462\\anaconda3\\node_modules\\tslab\\node_modules\\@tslab\\typescript-for-tslab\\lib\\typescript.js:122735:35)\n",
      "    at onSourceFileChange (C:\\Users\\13462\\anaconda3\\node_modules\\tslab\\node_modules\\@tslab\\typescript-for-tslab\\lib\\typescript.js:122876:7)\n",
      "    at C:\\Users\\13462\\anaconda3\\node_modules\\tslab\\node_modules\\@tslab\\typescript-for-tslab\\lib\\typescript.js:122868:56\n",
      "    at cb (C:\\Users\\13462\\anaconda3\\node_modules\\tslab\\dist\\converter.js:184:13)\n",
      "    at C:\\Users\\13462\\anaconda3\\node_modules\\tslab\\node_modules\\@tslab\\typescript-for-tslab\\lib\\typescript.js:5798:9\n",
      "    at C:\\Users\\13462\\anaconda3\\node_modules\\tslab\\node_modules\\@tslab\\typescript-for-tslab\\lib\\typescript.js:5560:101\n",
      "    at Array.forEach (<anonymous>)\n",
      "    at FSWatcher.<anonymous> (C:\\Users\\13462\\anaconda3\\node_modules\\tslab\\node_modules\\@tslab\\typescript-for-tslab\\lib\\typescript.js:5560:85)\n",
      "    at FSWatcher.emit (node:events:513:28)\n",
      "UncaughtException: Error: Unexpected pending rebuildTimer\n",
      "    at sys.setTimeout (C:\\Users\\13462\\anaconda3\\node_modules\\tslab\\dist\\converter.js:111:19)\n",
      "    at scheduleProgramUpdate (C:\\Users\\13462\\anaconda3\\node_modules\\tslab\\node_modules\\@tslab\\typescript-for-tslab\\lib\\typescript.js:122735:35)\n",
      "    at onSourceFileChange (C:\\Users\\13462\\anaconda3\\node_modules\\tslab\\node_modules\\@tslab\\typescript-for-tslab\\lib\\typescript.js:122876:7)\n",
      "    at C:\\Users\\13462\\anaconda3\\node_modules\\tslab\\node_modules\\@tslab\\typescript-for-tslab\\lib\\typescript.js:122868:56\n",
      "    at cb (C:\\Users\\13462\\anaconda3\\node_modules\\tslab\\dist\\converter.js:184:13)\n",
      "    at C:\\Users\\13462\\anaconda3\\node_modules\\tslab\\node_modules\\@tslab\\typescript-for-tslab\\lib\\typescript.js:5798:9\n",
      "    at C:\\Users\\13462\\anaconda3\\node_modules\\tslab\\node_modules\\@tslab\\typescript-for-tslab\\lib\\typescript.js:5560:101\n",
      "    at Array.forEach (<anonymous>)\n",
      "    at FSWatcher.<anonymous> (C:\\Users\\13462\\anaconda3\\node_modules\\tslab\\node_modules\\@tslab\\typescript-for-tslab\\lib\\typescript.js:5560:85)\n",
      "    at FSWatcher.emit (node:events:513:28)\n"
     ]
    },
    {
     "name": "stderr",
     "output_type": "stream",
     "text": [
      "UncaughtException: Error: Unexpected pending rebuildTimer\n",
      "    at sys.setTimeout (C:\\Users\\13462\\anaconda3\\node_modules\\tslab\\dist\\converter.js:111:19)\n",
      "    at scheduleProgramUpdate (C:\\Users\\13462\\anaconda3\\node_modules\\tslab\\node_modules\\@tslab\\typescript-for-tslab\\lib\\typescript.js:122735:35)\n",
      "    at onSourceFileChange (C:\\Users\\13462\\anaconda3\\node_modules\\tslab\\node_modules\\@tslab\\typescript-for-tslab\\lib\\typescript.js:122876:7)\n",
      "    at C:\\Users\\13462\\anaconda3\\node_modules\\tslab\\node_modules\\@tslab\\typescript-for-tslab\\lib\\typescript.js:122868:56\n",
      "    at cb (C:\\Users\\13462\\anaconda3\\node_modules\\tslab\\dist\\converter.js:184:13)\n",
      "    at C:\\Users\\13462\\anaconda3\\node_modules\\tslab\\node_modules\\@tslab\\typescript-for-tslab\\lib\\typescript.js:5798:9\n",
      "    at C:\\Users\\13462\\anaconda3\\node_modules\\tslab\\node_modules\\@tslab\\typescript-for-tslab\\lib\\typescript.js:5560:101\n",
      "    at Array.forEach (<anonymous>)\n",
      "    at FSWatcher.<anonymous> (C:\\Users\\13462\\anaconda3\\node_modules\\tslab\\node_modules\\@tslab\\typescript-for-tslab\\lib\\typescript.js:5560:85)\n",
      "    at FSWatcher.emit (node:events:513:28)\n",
      "UncaughtException: Error: Unexpected pending rebuildTimer\n",
      "    at sys.setTimeout (C:\\Users\\13462\\anaconda3\\node_modules\\tslab\\dist\\converter.js:111:19)\n",
      "    at scheduleProgramUpdate (C:\\Users\\13462\\anaconda3\\node_modules\\tslab\\node_modules\\@tslab\\typescript-for-tslab\\lib\\typescript.js:122735:35)\n",
      "    at onSourceFileChange (C:\\Users\\13462\\anaconda3\\node_modules\\tslab\\node_modules\\@tslab\\typescript-for-tslab\\lib\\typescript.js:122876:7)\n",
      "    at C:\\Users\\13462\\anaconda3\\node_modules\\tslab\\node_modules\\@tslab\\typescript-for-tslab\\lib\\typescript.js:122868:56\n",
      "    at cb (C:\\Users\\13462\\anaconda3\\node_modules\\tslab\\dist\\converter.js:184:13)\n",
      "    at C:\\Users\\13462\\anaconda3\\node_modules\\tslab\\node_modules\\@tslab\\typescript-for-tslab\\lib\\typescript.js:5798:9\n",
      "    at C:\\Users\\13462\\anaconda3\\node_modules\\tslab\\node_modules\\@tslab\\typescript-for-tslab\\lib\\typescript.js:5560:101\n",
      "    at Array.forEach (<anonymous>)\n",
      "    at FSWatcher.<anonymous> (C:\\Users\\13462\\anaconda3\\node_modules\\tslab\\node_modules\\@tslab\\typescript-for-tslab\\lib\\typescript.js:5560:85)\n",
      "    at FSWatcher.emit (node:events:513:28)\n",
      "UncaughtException: Error: Unexpected pending rebuildTimer\n",
      "    at sys.setTimeout (C:\\Users\\13462\\anaconda3\\node_modules\\tslab\\dist\\converter.js:111:19)\n",
      "    at scheduleProgramUpdate (C:\\Users\\13462\\anaconda3\\node_modules\\tslab\\node_modules\\@tslab\\typescript-for-tslab\\lib\\typescript.js:122735:35)\n",
      "    at onSourceFileChange (C:\\Users\\13462\\anaconda3\\node_modules\\tslab\\node_modules\\@tslab\\typescript-for-tslab\\lib\\typescript.js:122876:7)\n",
      "    at C:\\Users\\13462\\anaconda3\\node_modules\\tslab\\node_modules\\@tslab\\typescript-for-tslab\\lib\\typescript.js:122868:56\n",
      "    at cb (C:\\Users\\13462\\anaconda3\\node_modules\\tslab\\dist\\converter.js:184:13)\n",
      "    at C:\\Users\\13462\\anaconda3\\node_modules\\tslab\\node_modules\\@tslab\\typescript-for-tslab\\lib\\typescript.js:5798:9\n",
      "    at C:\\Users\\13462\\anaconda3\\node_modules\\tslab\\node_modules\\@tslab\\typescript-for-tslab\\lib\\typescript.js:5560:101\n",
      "    at Array.forEach (<anonymous>)\n",
      "    at FSWatcher.<anonymous> (C:\\Users\\13462\\anaconda3\\node_modules\\tslab\\node_modules\\@tslab\\typescript-for-tslab\\lib\\typescript.js:5560:85)\n",
      "    at FSWatcher.emit (node:events:513:28)\n",
      "UncaughtException: Error: Unexpected pending rebuildTimer\n",
      "    at sys.setTimeout (C:\\Users\\13462\\anaconda3\\node_modules\\tslab\\dist\\converter.js:111:19)\n",
      "    at scheduleProgramUpdate (C:\\Users\\13462\\anaconda3\\node_modules\\tslab\\node_modules\\@tslab\\typescript-for-tslab\\lib\\typescript.js:122735:35)\n",
      "    at onSourceFileChange (C:\\Users\\13462\\anaconda3\\node_modules\\tslab\\node_modules\\@tslab\\typescript-for-tslab\\lib\\typescript.js:122876:7)\n",
      "    at C:\\Users\\13462\\anaconda3\\node_modules\\tslab\\node_modules\\@tslab\\typescript-for-tslab\\lib\\typescript.js:122868:56\n",
      "    at cb (C:\\Users\\13462\\anaconda3\\node_modules\\tslab\\dist\\converter.js:184:13)\n",
      "    at C:\\Users\\13462\\anaconda3\\node_modules\\tslab\\node_modules\\@tslab\\typescript-for-tslab\\lib\\typescript.js:5798:9\n",
      "    at C:\\Users\\13462\\anaconda3\\node_modules\\tslab\\node_modules\\@tslab\\typescript-for-tslab\\lib\\typescript.js:5560:101\n",
      "    at Array.forEach (<anonymous>)\n",
      "    at FSWatcher.<anonymous> (C:\\Users\\13462\\anaconda3\\node_modules\\tslab\\node_modules\\@tslab\\typescript-for-tslab\\lib\\typescript.js:5560:85)\n",
      "    at FSWatcher.emit (node:events:513:28)\n",
      "UncaughtException: Error: Unexpected pending rebuildTimer\n",
      "    at sys.setTimeout (C:\\Users\\13462\\anaconda3\\node_modules\\tslab\\dist\\converter.js:111:19)\n",
      "    at scheduleProgramUpdate (C:\\Users\\13462\\anaconda3\\node_modules\\tslab\\node_modules\\@tslab\\typescript-for-tslab\\lib\\typescript.js:122735:35)\n",
      "    at onSourceFileChange (C:\\Users\\13462\\anaconda3\\node_modules\\tslab\\node_modules\\@tslab\\typescript-for-tslab\\lib\\typescript.js:122876:7)\n",
      "    at C:\\Users\\13462\\anaconda3\\node_modules\\tslab\\node_modules\\@tslab\\typescript-for-tslab\\lib\\typescript.js:122868:56\n",
      "    at cb (C:\\Users\\13462\\anaconda3\\node_modules\\tslab\\dist\\converter.js:184:13)\n",
      "    at C:\\Users\\13462\\anaconda3\\node_modules\\tslab\\node_modules\\@tslab\\typescript-for-tslab\\lib\\typescript.js:5798:9\n",
      "    at C:\\Users\\13462\\anaconda3\\node_modules\\tslab\\node_modules\\@tslab\\typescript-for-tslab\\lib\\typescript.js:5560:101\n",
      "    at Array.forEach (<anonymous>)\n",
      "    at FSWatcher.<anonymous> (C:\\Users\\13462\\anaconda3\\node_modules\\tslab\\node_modules\\@tslab\\typescript-for-tslab\\lib\\typescript.js:5560:85)\n",
      "    at FSWatcher.emit (node:events:513:28)\n",
      "UncaughtException: Error: Unexpected pending rebuildTimer\n",
      "    at sys.setTimeout (C:\\Users\\13462\\anaconda3\\node_modules\\tslab\\dist\\converter.js:111:19)\n",
      "    at scheduleProgramUpdate (C:\\Users\\13462\\anaconda3\\node_modules\\tslab\\node_modules\\@tslab\\typescript-for-tslab\\lib\\typescript.js:122735:35)\n",
      "    at onSourceFileChange (C:\\Users\\13462\\anaconda3\\node_modules\\tslab\\node_modules\\@tslab\\typescript-for-tslab\\lib\\typescript.js:122876:7)\n",
      "    at C:\\Users\\13462\\anaconda3\\node_modules\\tslab\\node_modules\\@tslab\\typescript-for-tslab\\lib\\typescript.js:122868:56\n",
      "    at cb (C:\\Users\\13462\\anaconda3\\node_modules\\tslab\\dist\\converter.js:184:13)\n",
      "    at C:\\Users\\13462\\anaconda3\\node_modules\\tslab\\node_modules\\@tslab\\typescript-for-tslab\\lib\\typescript.js:5798:9\n",
      "    at C:\\Users\\13462\\anaconda3\\node_modules\\tslab\\node_modules\\@tslab\\typescript-for-tslab\\lib\\typescript.js:5560:101\n",
      "    at Array.forEach (<anonymous>)\n",
      "    at FSWatcher.<anonymous> (C:\\Users\\13462\\anaconda3\\node_modules\\tslab\\node_modules\\@tslab\\typescript-for-tslab\\lib\\typescript.js:5560:85)\n",
      "    at FSWatcher.emit (node:events:513:28)\n",
      "UncaughtException: Error: Unexpected pending rebuildTimer\n",
      "    at sys.setTimeout (C:\\Users\\13462\\anaconda3\\node_modules\\tslab\\dist\\converter.js:111:19)\n",
      "    at scheduleProgramUpdate (C:\\Users\\13462\\anaconda3\\node_modules\\tslab\\node_modules\\@tslab\\typescript-for-tslab\\lib\\typescript.js:122735:35)\n",
      "    at onSourceFileChange (C:\\Users\\13462\\anaconda3\\node_modules\\tslab\\node_modules\\@tslab\\typescript-for-tslab\\lib\\typescript.js:122876:7)\n",
      "    at C:\\Users\\13462\\anaconda3\\node_modules\\tslab\\node_modules\\@tslab\\typescript-for-tslab\\lib\\typescript.js:122868:56\n",
      "    at cb (C:\\Users\\13462\\anaconda3\\node_modules\\tslab\\dist\\converter.js:184:13)\n",
      "    at C:\\Users\\13462\\anaconda3\\node_modules\\tslab\\node_modules\\@tslab\\typescript-for-tslab\\lib\\typescript.js:5798:9\n",
      "    at C:\\Users\\13462\\anaconda3\\node_modules\\tslab\\node_modules\\@tslab\\typescript-for-tslab\\lib\\typescript.js:5560:101\n",
      "    at Array.forEach (<anonymous>)\n",
      "    at FSWatcher.<anonymous> (C:\\Users\\13462\\anaconda3\\node_modules\\tslab\\node_modules\\@tslab\\typescript-for-tslab\\lib\\typescript.js:5560:85)\n",
      "    at FSWatcher.emit (node:events:513:28)\n",
      "UncaughtException: Error: Unexpected pending rebuildTimer\n",
      "    at sys.setTimeout (C:\\Users\\13462\\anaconda3\\node_modules\\tslab\\dist\\converter.js:111:19)\n",
      "    at scheduleProgramUpdate (C:\\Users\\13462\\anaconda3\\node_modules\\tslab\\node_modules\\@tslab\\typescript-for-tslab\\lib\\typescript.js:122735:35)\n",
      "    at onSourceFileChange (C:\\Users\\13462\\anaconda3\\node_modules\\tslab\\node_modules\\@tslab\\typescript-for-tslab\\lib\\typescript.js:122876:7)\n",
      "    at C:\\Users\\13462\\anaconda3\\node_modules\\tslab\\node_modules\\@tslab\\typescript-for-tslab\\lib\\typescript.js:122868:56\n",
      "    at cb (C:\\Users\\13462\\anaconda3\\node_modules\\tslab\\dist\\converter.js:184:13)\n",
      "    at C:\\Users\\13462\\anaconda3\\node_modules\\tslab\\node_modules\\@tslab\\typescript-for-tslab\\lib\\typescript.js:5798:9\n",
      "    at C:\\Users\\13462\\anaconda3\\node_modules\\tslab\\node_modules\\@tslab\\typescript-for-tslab\\lib\\typescript.js:5560:101\n",
      "    at Array.forEach (<anonymous>)\n",
      "    at FSWatcher.<anonymous> (C:\\Users\\13462\\anaconda3\\node_modules\\tslab\\node_modules\\@tslab\\typescript-for-tslab\\lib\\typescript.js:5560:85)\n",
      "    at FSWatcher.emit (node:events:513:28)\n"
     ]
    }
   ],
   "source": [
    "interface Person{\n",
    "    name: string\n",
    "    zip: number\n",
    "}\n",
    "\n",
    "interface Person{\n",
    "    age: number\n",
    "}\n",
    "\n",
    "let nhien: Person = {\n",
    "    name: 'Nhien',\n",
    "    zip: 77489,\n",
    "    age: 27\n",
    "}\n",
    "\n",
    "console.log(nhien)"
   ]
  },
  {
   "cell_type": "markdown",
   "id": "f9ccb324",
   "metadata": {},
   "source": [
    "<a id=\"gen\"></a>\n",
    "\n",
    "# Generics"
   ]
  },
  {
   "cell_type": "markdown",
   "id": "dc53bdb4",
   "metadata": {},
   "source": [
    "Sometimes we want to allow for all sorts of types for our variables.  We know using an `any` type is bad practice, so how can we accomplish this?  With the use of Generics!"
   ]
  },
  {
   "cell_type": "markdown",
   "id": "8a7ed16e",
   "metadata": {},
   "source": [
    "\n",
    "<a id=\"gf\"></a>\n",
    "### Generic Functions"
   ]
  },
  {
   "cell_type": "markdown",
   "id": "bb7b8e76",
   "metadata": {},
   "source": [
    "To create a generic function we will append the class name with `<` `placeholder to represent any type` `>` and we type the parameters with the placeholder.\n",
    "\n",
    "\n",
    "This is very similar to how this is done in C++.\n",
    "\n",
    "You will often see the placeholder labeled as `T` this stands for Template Class, but you can use anything you want here, but I would keep it to a single letter.\n",
    "\n",
    "When calling the function we can gernally just use our argument like normal, but if for some reason the compiler is unsure of our type we can append  `<` `Generic Type Placeholder` `>` after the name of the function"
   ]
  },
  {
   "cell_type": "code",
   "execution_count": null,
   "id": "c695dce8",
   "metadata": {},
   "outputs": [],
   "source": [
    "function genericFunction<T>(myGenericVar:T){\n",
    "        if (typeof myGenericVar ==\"string\"){\n",
    "            console.log(\"We Got a String Here\")\n",
    "        }else if (typeof myGenericVar ==\"number\"){\n",
    "            console.log(\"We got a Number here\")\n",
    "        }else{\n",
    "            console.log(\"We got something thats not a String or Number\")\n",
    "        }\n",
    "}\n",
    "\n",
    "genericFunction<string>(\"a String\")\n",
    "genericFunction(\"a String\")\n",
    "genericFunction(123)\n",
    "genericFunction(true)"
   ]
  },
  {
   "cell_type": "markdown",
   "id": "80ced257",
   "metadata": {},
   "source": [
    "<a id=\"gc\"></a>\n",
    "\n",
    "### Generic Classes"
   ]
  },
  {
   "cell_type": "markdown",
   "id": "3a63bbfa",
   "metadata": {},
   "source": [
    "To create a generic class we will append the class name with `<` `placeholder to represent any type` `>` and we type the parameters with the placeholder.\n"
   ]
  },
  {
   "cell_type": "code",
   "execution_count": null,
   "id": "211605b9",
   "metadata": {},
   "outputs": [],
   "source": [
    "class GenericTestClass<T>{\n",
    "    constructor(private myGenericVar:T){}\n",
    "    \n",
    "    get tType():string{\n",
    "        return typeof this.myGenericVar\n",
    "    }\n",
    "    \n",
    "    receiveTType<T>(tParam):string{\n",
    "        return typeof tParam\n",
    "    }\n",
    "    \n",
    "    useTType(){\n",
    "        if (typeof this.myGenericVar ==\"string\"){\n",
    "            console.log(\"We Got a String Here\")\n",
    "        }else if (typeof this.myGenericVar ==\"number\"){\n",
    "            console.log(\"We got a Number here\")\n",
    "        }else{\n",
    "            console.log(\"We got something thats not a String or Number\")\n",
    "        }\n",
    "        \n",
    "    }\n",
    "    \n",
    "    \n",
    "}\n",
    "\n"
   ]
  },
  {
   "cell_type": "code",
   "execution_count": null,
   "id": "679e8b57",
   "metadata": {},
   "outputs": [],
   "source": [
    "let gtc1 = new GenericTestClass<string>(\"Random String\")\n",
    "console.log(gtc1.tType)\n",
    "console.log(gtc1.receiveTType(\"Works\"))\n",
    "// gtc.receiveType(100) //Doesn't work\n",
    "gtc1.useTType()"
   ]
  },
  {
   "cell_type": "code",
   "execution_count": null,
   "id": "fb6424dd",
   "metadata": {},
   "outputs": [],
   "source": [
    "let gtc2 = new GenericTestClass<number>(123_456_789)\n",
    "console.log(gtc2.tType)\n",
    "console.log(gtc2.receiveTType(100))\n",
    "// gtc2.receiveTType(\"doesn't work\") //Doesn't work\n",
    "gtc2.useTType()\n",
    "\n"
   ]
  },
  {
   "cell_type": "code",
   "execution_count": null,
   "id": "8f14dd0e",
   "metadata": {},
   "outputs": [],
   "source": [
    "let gtc3 = new GenericTestClass<number[]>([1,2,3,4])\n",
    "console.log(gtc3.tType)\n",
    "console.log(gtc3.receiveTType([100,200,300]))\n",
    "// gtc3.receiveTType(\"doesn't work\") //Doesn't work\n",
    "gtc3.useTType()\n"
   ]
  },
  {
   "cell_type": "markdown",
   "id": "fd86d562",
   "metadata": {},
   "source": [
    "<a id=\"mg\"></a>\n",
    "\n",
    "### Multiple Generics"
   ]
  },
  {
   "cell_type": "code",
   "execution_count": null,
   "id": "714e3824",
   "metadata": {},
   "outputs": [],
   "source": [
    "class KeyValuePair<K,V>{\n",
    "    constructor(public key:K, public value:V){}\n",
    "    \n",
    "    doSomething():void{\n",
    "        console.log(\n",
    "            `${this.key} is of type ${typeof this.key},`,\n",
    "            `${this.value}  is of type ${typeof this.value}`)\n",
    "    }\n",
    "}\n",
    "\n",
    "let kyp1=new KeyValuePair<number, string>(123,\"what\")\n",
    "kyp1.doSomething()\n",
    "\n",
    "\n",
    "let kyp2=new KeyValuePair<number[], boolean>([1,2,3,4],true)\n",
    "kyp2.doSomething()"
   ]
  },
  {
   "cell_type": "markdown",
   "id": "773d4a1e",
   "metadata": {},
   "source": [
    "<a id=\"gi\"></a>\n",
    "\n",
    "### Generic Interfaces"
   ]
  },
  {
   "cell_type": "markdown",
   "id": "d53dac1e",
   "metadata": {},
   "source": [
    "The following code will error when ran.  Be sure to use the autocomplete to see the effect of generics."
   ]
  },
  {
   "cell_type": "code",
   "execution_count": null,
   "id": "8ac7c9df",
   "metadata": {},
   "outputs": [],
   "source": [
    "interface Guest{\n",
    "    roomNumber:number\n",
    "}\n",
    "\n",
    "interface Room{\n",
    "    noOfBeds:number\n",
    "}\n",
    "\n",
    "interface Query<T>{\n",
    "    data:T|null,\n",
    "    error:string|null\n",
    "}\n",
    "\n",
    "function getUserOrRoom<T>():Query<T>{\n",
    "    //logic to get a User or a Room\n",
    "    \n",
    "    //This will cause an Error running this cell because \n",
    "    //we are returning data as null and not something of type T\n",
    "    // but if this was a real API call this would return data as Type T\n",
    "    return {data:null, error:null}\n",
    "}\n",
    "\n",
    "// Try using the tab's autocomplete here after data. \n",
    "// to see that our options are retricted to members of the T interface\n",
    "getUserOrRoom<Guest>().data.roomNumber\n",
    "\n",
    "getUserOrRoom<Room>().data.noOfBeds\n",
    "\n"
   ]
  },
  {
   "cell_type": "markdown",
   "id": "6ebd51fd",
   "metadata": {},
   "source": [
    "<a id=\"gcon\"></a>\n",
    "\n",
    "### Generic Constraints"
   ]
  },
  {
   "cell_type": "markdown",
   "id": "ead2164b",
   "metadata": {},
   "source": [
    "Maybe we want to write a generic function that works with all ducks that extend the `Quacks` ability class we created earlier.  We can do this by saying `T extends Quacks`"
   ]
  },
  {
   "cell_type": "code",
   "execution_count": null,
   "id": "fce0c6aa",
   "metadata": {},
   "outputs": [],
   "source": [
    "function talkToDucks<T extends Quacks>(duck:T ){\n",
    "    duck.quack()\n",
    "}\n",
    "talkToDucks(new MallardDuck(23))\n",
    "talkToDucks(new DecoyDuck(23))\n",
    "talkToDucks(new RubberDuck(23))\n",
    "\n",
    "// talkToDucks(\"Plucky Duck\")  // Error"
   ]
  },
  {
   "cell_type": "markdown",
   "id": "4506b01e",
   "metadata": {},
   "source": [
    "<a id=\"keyof\"></a>\n",
    "\n",
    "### keyof"
   ]
  },
  {
   "cell_type": "markdown",
   "id": "1ab83d2e",
   "metadata": {},
   "source": [
    "Sometime we need to work with the keys of an object, and if any string is allowed TypeScript could give us and Error (We won't go into these circumstances for brevity), so the `keyof` Operator restricts our options only to valid keys"
   ]
  },
  {
   "cell_type": "code",
   "execution_count": null,
   "id": "90553670",
   "metadata": {},
   "outputs": [],
   "source": [
    "interface Item {\n",
    "    id: number,\n",
    "    name:string;\n",
    "    price:number; \n",
    "}\n",
    "\n",
    "let property:keyof Item;\n",
    "// Same as\n",
    "// let property:'name'|'price'|'id';\n",
    "\n",
    "property = 'name';\n",
    "property = 'id';\n",
    "\n",
    "// property = 'otherValue'; // Error not a key of Product"
   ]
  },
  {
   "cell_type": "markdown",
   "id": "7490bba5",
   "metadata": {},
   "source": [
    "<a id=\"typemap\"></a>\n",
    "\n",
    "### Type Mapping"
   ]
  },
  {
   "cell_type": "markdown",
   "id": "ca595a1a",
   "metadata": {},
   "source": [
    "Imagine we have an interface and all the properties are required.  Now lets imagine we need another version of this interface that allow all the properties to be optional.  We still need our original Required Interface, so we can't edit that and make the properties optional.  We could create a second Interface will all the same properties and make them optional.  This make a ton of work for us to maintain the interface because now we have to add properties in two locations.  The Solution for this is <b>Type Mapping</b>\n",
    "\n",
    "This will take use of two tools we have already learned `keyof` and <b>Type Signatures</b>"
   ]
  },
  {
   "cell_type": "markdown",
   "id": "cdf744f4",
   "metadata": {},
   "source": [
    "<a id=\"optgen\"></a>\n",
    "\n",
    "### Optional&lt;T&gt;"
   ]
  },
  {
   "cell_type": "code",
   "execution_count": null,
   "id": "42f0b164",
   "metadata": {},
   "outputs": [],
   "source": [
    "// Everything in the garage interface is required\n",
    "interface Garage{\n",
    "    noOfCars:number,\n",
    "    doorType:string,\n",
    "    heated:boolean\n",
    "}\n",
    "\n",
    "//Type Mapping works by creating a type not interface\n",
    "// It uses Type Signatures along with keyof\n",
    "// remember a ? at the end makes something optional\n",
    "type OptionalGarage={\n",
    "    [Key in keyof Garage]?:Garage[Key]\n",
    "}\n",
    "\n",
    "let myGarage1:OptionalGarage={\n",
    "    noOfCars:12\n",
    "}\n",
    "myGarage1"
   ]
  },
  {
   "cell_type": "markdown",
   "id": "86d05f8b",
   "metadata": {},
   "source": [
    "<a id=\"rogen\"></a>\n",
    "\n",
    "### ReadOnly&lt;T&gt;"
   ]
  },
  {
   "cell_type": "markdown",
   "id": "8390aa0f",
   "metadata": {},
   "source": [
    "This will only work for Garage types, but with generics we can make this work for any type.  Instead of making it optional this time lets make it Read Only"
   ]
  },
  {
   "cell_type": "code",
   "execution_count": null,
   "id": "7060c349",
   "metadata": {},
   "outputs": [],
   "source": [
    "type ReadOnly<T>={\n",
    "    readonly [Key in keyof T]:T[Key]\n",
    "}\n",
    "\n",
    "interface ShopItem{\n",
    "    id:number,\n",
    "    title:string,\n",
    "    price:number\n",
    "}\n",
    "\n",
    "let myShopItem: ReadOnly<ShopItem> ={\n",
    "    id:187,\n",
    "    title: \"SuperSoaker 9000\",\n",
    "    price: 89.99\n",
    "}\n",
    "\n",
    "myShopItem.id=199"
   ]
  },
  {
   "cell_type": "markdown",
   "id": "f3bad45f",
   "metadata": {},
   "source": [
    "<a id=\"util\"></a>\n",
    "\n",
    "### Built in Utility Types"
   ]
  },
  {
   "cell_type": "markdown",
   "id": "1420aa0b",
   "metadata": {},
   "source": [
    "The good news is we don't have to write this code normally because TypeScript provides a whole library of these utility types.\n",
    "\n",
    "[https://www.typescriptlang.org/docs/handbook/utility-types.html](https://www.typescriptlang.org/docs/handbook/utility-types.html)"
   ]
  },
  {
   "cell_type": "markdown",
   "id": "50c06538",
   "metadata": {},
   "source": [
    "<a id=\"hw\"></a>\n",
    "\n",
    "## Homework"
   ]
  },
  {
   "cell_type": "markdown",
   "id": "b45b6bd2",
   "metadata": {},
   "source": [
    "Design a flexible OOP system to describe characters in a RPG game\n",
    "\n",
    "There are 4 Unique Characters which use Different Types of Attacking mechanisms and Defending mechanisms.\n",
    "\n",
    "- Orges - fights with club and defends with shield\n",
    "- Peons - fights with club and defends with shield\n",
    "- Knights - fights with a Sword and defends with Armor\n",
    "- Archer - fights with Bow and Arrow and has only is tunic to protect them\n",
    "\n",
    "- All Characters can collect gold and this will always be the same for every new type of character\n",
    "\n",
    "At the end of this each character should be able to attack and defend and collect gold. If needed any character should be able to change his fighting style, say if a knight losing his sword, but finds a club he should be able to change his fighting mechanism to use the club\n",
    "\n",
    "<b>Hint: </b> To complete this assignment you will need multiple classes and interfaces and an Abstract class\n",
    "\n",
    "You can use our [Final Rubber Ducky Walkthrough](#rubber) example as a guide "
   ]
  },
  {
   "cell_type": "code",
   "execution_count": 2,
   "id": "34f42c98",
   "metadata": {},
   "outputs": [],
   "source": [
    "//Solution\n",
    "interface FightAble {\n",
    "    fight(): void\n",
    "}\n",
    "\n",
    "interface DefenseAble{\n",
    "    defense(): void\n",
    "}\n",
    "\n",
    "interface CollectAble{\n",
    "    collect(): void\n",
    "}\n",
    "class Club implements FightAble {\n",
    "    fight(){\n",
    "        console.log('I fight with Club')\n",
    "    }\n",
    "}\n",
    "\n",
    "class Shield implements DefenseAble {\n",
    "    defense(){\n",
    "        console.log('I defend with a Shield')\n",
    "    }\n",
    "}\n",
    "\n",
    "class Sword implements FightAble {\n",
    "    fight(){\n",
    "        console.log('I fight with Sword')\n",
    "    }\n",
    "}\n",
    "\n",
    "class Armor implements DefenseAble {\n",
    "    defense(){\n",
    "        console.log('I defend with an Armor')\n",
    "    }\n",
    "}\n",
    "\n",
    "class BowArrow implements FightAble {\n",
    "    fight(){\n",
    "        console.log('I fight with Bow and Arrow')\n",
    "    }\n",
    "}\n",
    "\n",
    "class Tunic implements DefenseAble {\n",
    "    defense(){\n",
    "        console.log(\"I defend with a Tunic even it's not effective...\")\n",
    "    }\n",
    "}\n",
    "\n",
    "class Gold implements CollectAble{\n",
    "    collect(){\n",
    "        console.log(\"I'm collecting gold, don't bother me\")\n",
    "    }\n",
    "}"
   ]
  },
  {
   "cell_type": "code",
   "execution_count": 9,
   "id": "cd9097be",
   "metadata": {},
   "outputs": [],
   "source": [
    "abstract class Character implements FightAble, DefenseAble, CollectAble {\n",
    "    protected FightAbility$: FightAble\n",
    "    protected DefenseAbility$: DefenseAble\n",
    "    protected CollectAbility$: CollectAble\n",
    "    \n",
    "    constructor(protected name$: string){}\n",
    "    get name(): string{return this.name$}\n",
    "    \n",
    "    set FightAbility(fa:FightAble){\n",
    "        this.FightAbility$ = fa\n",
    "    }\n",
    "    \n",
    "    set DefenseAbility(da:DefenseAble){\n",
    "        this.DefenseAbility$ = da\n",
    "    }\n",
    "    \n",
    "    set CollectAbility(ca:CollectAble){\n",
    "        this.CollectAbility$ = ca\n",
    "    }\n",
    "    \n",
    "    fight(): void{\n",
    "        this.FightAbility$.fight()\n",
    "    }\n",
    "    \n",
    "    defense():void{\n",
    "        this.DefenseAbility$.defense()\n",
    "    }\n",
    "    \n",
    "    collect():void{\n",
    "        this.CollectAbility$.collect()\n",
    "    }\n",
    "}\n"
   ]
  },
  {
   "cell_type": "code",
   "execution_count": 10,
   "id": "b69d0cb1",
   "metadata": {},
   "outputs": [],
   "source": [
    "class Orges extends Character {\n",
    "    FightAbility$ = new Club()\n",
    "    DefenseAbility$ = new Shield()\n",
    "    CollectAbility$ = new Gold()\n",
    "}\n",
    "\n",
    "class Peons extends Character {\n",
    "    FightAbility$ = new Club()\n",
    "    DefenseAbility$ = new Shield()\n",
    "    CollectAbility$ = new Gold()\n",
    "    \n",
    "}\n",
    "\n",
    "class Knight extends Character {\n",
    "    FightAbility$ = new Sword()\n",
    "    DefenseAbility$ = new Armor()\n",
    "    CollectAbility$ = new Gold()\n",
    "    \n",
    "}\n",
    "\n",
    "class Archer extends Character {\n",
    "    FightAbility$ = new BowArrow()\n",
    "    DefenseAbility$ = new Tunic()\n",
    "    CollectAbility$ = new Gold()\n",
    "}"
   ]
  },
  {
   "cell_type": "code",
   "execution_count": 13,
   "id": "42ec2163",
   "metadata": {},
   "outputs": [],
   "source": [
    "let allCharacters: Character[] = [\n",
    "    new Orges('tinyOrge'),\n",
    "    new Peons('hugePeon'),\n",
    "    new Knight('blindKnight'),\n",
    "    new Archer('crippledArcher')\n",
    "]"
   ]
  },
  {
   "cell_type": "code",
   "execution_count": 14,
   "id": "cbe0f2c2",
   "metadata": {},
   "outputs": [
    {
     "name": "stdout",
     "output_type": "stream",
     "text": [
      "tinyOrge\n",
      "I fight with Club\n",
      "I defend with a Shield\n",
      "I'm collecting gold, don't bother me\n",
      "hugePeon\n",
      "I fight with Club\n",
      "I defend with a Shield\n",
      "I'm collecting gold, don't bother me\n",
      "blindKnight\n",
      "I fight with Sword\n",
      "I defend with an Armor\n",
      "I'm collecting gold, don't bother me\n",
      "crippledArcher\n",
      "I fight with Bow and Arrow\n",
      "I defend with a Tunic even it's not effective...\n",
      "I'm collecting gold, don't bother me\n"
     ]
    }
   ],
   "source": [
    "for (let character of allCharacters){\n",
    "    console.log(character.name)\n",
    "    character.fight()\n",
    "    character.defense()\n",
    "    character.collect()\n",
    "}"
   ]
  },
  {
   "cell_type": "code",
   "execution_count": null,
   "id": "29872324",
   "metadata": {},
   "outputs": [],
   "source": []
  }
 ],
 "metadata": {
  "kernelspec": {
   "display_name": "TypeScript",
   "language": "typescript",
   "name": "tslab"
  },
  "language_info": {
   "codemirror_mode": {
    "mode": "typescript",
    "name": "javascript",
    "typescript": true
   },
   "file_extension": ".ts",
   "mimetype": "text/typescript",
   "name": "typescript",
   "version": "3.7.2"
  }
 },
 "nbformat": 4,
 "nbformat_minor": 5
}
